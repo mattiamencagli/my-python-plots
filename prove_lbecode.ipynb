{
 "cells": [
  {
   "cell_type": "code",
   "execution_count": 11,
   "id": "565cda0a-44eb-409a-9203-6e185d1df88d",
   "metadata": {},
   "outputs": [
    {
     "name": "stdout",
     "output_type": "stream",
     "text": [
      "32 32 32\n",
      "/home/matti/programming/lbe-direct/src/tests/mattia_ivan_mayonese_test/RUN/density_t.0.h5\n",
      "/home/matti/programming/lbe-direct/src/tests/mattia_ivan_mayonese_test/RUN/density_t.500.h5\n",
      "/home/matti/programming/lbe-direct/src/tests/mattia_ivan_mayonese_test/RUN/density_t.1000.h5\n",
      "/home/matti/programming/lbe-direct/src/tests/mattia_ivan_mayonese_test/RUN/density_t.1500.h5\n",
      "/home/matti/programming/lbe-direct/src/tests/mattia_ivan_mayonese_test/RUN/density_t.2000.h5\n",
      "/home/matti/programming/lbe-direct/src/tests/mattia_ivan_mayonese_test/RUN/density_t.2500.h5\n",
      "/home/matti/programming/lbe-direct/src/tests/mattia_ivan_mayonese_test/RUN/density_t.3000.h5\n",
      "/home/matti/programming/lbe-direct/src/tests/mattia_ivan_mayonese_test/RUN/density_t.3500.h5\n",
      "/home/matti/programming/lbe-direct/src/tests/mattia_ivan_mayonese_test/RUN/density_t.4000.h5\n",
      "/home/matti/programming/lbe-direct/src/tests/mattia_ivan_mayonese_test/RUN/density_t.4500.h5\n",
      "/home/matti/programming/lbe-direct/src/tests/mattia_ivan_mayonese_test/RUN/density_t.5000.h5\n",
      "/home/matti/programming/lbe-direct/src/tests/mattia_ivan_mayonese_test/RUN/density_t.5500.h5\n",
      "/home/matti/programming/lbe-direct/src/tests/mattia_ivan_mayonese_test/RUN/density_t.6000.h5\n",
      "/home/matti/programming/lbe-direct/src/tests/mattia_ivan_mayonese_test/RUN/density_t.6500.h5\n",
      "/home/matti/programming/lbe-direct/src/tests/mattia_ivan_mayonese_test/RUN/density_t.7000.h5\n",
      "/home/matti/programming/lbe-direct/src/tests/mattia_ivan_mayonese_test/RUN/density_t.7500.h5\n",
      "/home/matti/programming/lbe-direct/src/tests/mattia_ivan_mayonese_test/RUN/density_t.8000.h5\n",
      "/home/matti/programming/lbe-direct/src/tests/mattia_ivan_mayonese_test/RUN/density_t.8500.h5\n",
      "/home/matti/programming/lbe-direct/src/tests/mattia_ivan_mayonese_test/RUN/density_t.9000.h5\n",
      "/home/matti/programming/lbe-direct/src/tests/mattia_ivan_mayonese_test/RUN/density_t.9500.h5\n"
     ]
    },
    {
     "data": {
      "text/plain": [
       "'\\nflaggeometry = read_field_fromfile(name, \"flag\")\\nname=direc+\"flag_geo.h5\"\\nflag = read_field_fromfile(name, \"flag\")\\nname=direc+\"density_CG_t.0.h5\"\\nrhoN0 = read_field_fromfile(name, \"rhoN\")\\nname=direc+\"density_CG_t.1.h5\"\\nrhoN1 = read_field_fromfile(name, \"rhoN\")\\nname=direc+\"density_CG_t.2.h5\"\\nrhoN2 = read_field_fromfile(name, \"rhoN\")\\n'"
      ]
     },
     "execution_count": 11,
     "metadata": {},
     "output_type": "execute_result"
    }
   ],
   "source": [
    "import numpy as np\n",
    "import matplotlib.pylab as plt\n",
    "import matplotlib\n",
    "import h5py as h5\n",
    "\n",
    "import os\n",
    "import codecs\n",
    "import imageio\n",
    "\n",
    "def read_dim_fromfile(name):\n",
    "    file = h5.File(name, \"r\")\n",
    "    Nx = int(file.get(\"LBE3D\").attrs[\"lbe_sx\"][0])\n",
    "    Ny = int(file.get(\"LBE3D\").attrs[\"lbe_sy\"][0])\n",
    "    Nz = int(file.get(\"LBE3D\").attrs[\"lbe_sz\"][0])\n",
    "    print(Nx,Ny,Nz)\n",
    "    return Nx, Ny,Nz\n",
    "    file.close()\n",
    "\n",
    "def read_field_fromfile(name, field):\n",
    "    file = h5.File(name, \"r\")\n",
    "    f = np.zeros((Nz,Ny,Nx))\n",
    "    name_field=\"/LBE3D/\"+field\n",
    "    f[:,:,:] = file.get(str(name_field))[...]\n",
    "    file.close()\n",
    "    return f\n",
    "\n",
    "SAVE = True\n",
    "direc = \"/home/matti/programming/lbe-direct/src/tests/mattia_ivan_mayonese_test/RUN/\"\n",
    "\n",
    "#name=direc+\"flag.h5\"\n",
    "name=direc+\"density_t.0.h5\"\n",
    "Nx,Ny,Nz = read_dim_fromfile(name)\n",
    "\n",
    "tf = 10000\n",
    "dt = 500\n",
    "steps = int(tf / dt)\n",
    "\n",
    "rho1 = np.zeros((steps,Nz,Ny,Nx))\n",
    "rho2 = np.zeros((steps,Nz,Ny,Nx))\n",
    "for i in range(0,steps):\n",
    "    t = i*dt\n",
    "    name=direc+\"density_t.%d.h5\"%t\n",
    "    print(name)\n",
    "    rho1[i,:,:,:] = read_field_fromfile(name,\"rho1\")\n",
    "    rho2[i,:,:,:] = read_field_fromfile(name,\"rho2\")\n",
    "\n",
    "'''\n",
    "flaggeometry = read_field_fromfile(name, \"flag\")\n",
    "name=direc+\"flag_geo.h5\"\n",
    "flag = read_field_fromfile(name, \"flag\")\n",
    "name=direc+\"density_CG_t.0.h5\"\n",
    "rhoN0 = read_field_fromfile(name, \"rhoN\")\n",
    "name=direc+\"density_CG_t.1.h5\"\n",
    "rhoN1 = read_field_fromfile(name, \"rhoN\")\n",
    "name=direc+\"density_CG_t.2.h5\"\n",
    "rhoN2 = read_field_fromfile(name, \"rhoN\")\n",
    "'''"
   ]
  },
  {
   "cell_type": "code",
   "execution_count": 21,
   "id": "8b2e8591-e560-4892-af06-d8e9cff7c5bc",
   "metadata": {},
   "outputs": [],
   "source": [
    "def plot_f(i, f, title):\n",
    "    _ = plt.figure(i, figsize=[5,5])\n",
    "    _ = plt.pcolormesh(f[:,:,10])\n",
    "    _ = plt.colorbar()\n",
    "    _ = plt.grid()\n",
    "    _ = plt.xticks((np.linspace(0,Ny,Ny+1,dtype=np.int16)))\n",
    "    _ = plt.yticks((np.linspace(0,Nx,Nx+1,dtype=np.int16)))\n",
    "    _ = plt.title(title)\n",
    "\n",
    "def plot_2f(f1, f2, i, title1, title2, vm, vM):\n",
    "    n=1 ; COL=2 ; RIG=1 \n",
    "    fig = plt.figure(i, figsize=[n*7*COL,n*5*RIG])\n",
    "    gs1 = fig.add_gridspec(RIG,COL,width_ratios=[1,0.05], wspace=0.1, left=0.05, right=0.45)#, hspace=0)\n",
    "    axs1 = gs1.subplots()\n",
    "    gs2 = fig.add_gridspec(RIG,COL,width_ratios=[1,0.05], wspace=0.1, left=0.5, right=0.95)#, hspace=0)\n",
    "    axs2 = gs2.subplots()\n",
    "    #vm = np.min(f1[:,:,cut]); vM = np.max(f1[:,:,cut])\n",
    "    C = axs1[0].pcolormesh(f1[:,:,cut], vmin=vm, vmax=vM, cmap=\"viridis\")\n",
    "    _ = axs1[0].set_title(title1)\n",
    "    _ = matplotlib.colorbar.ColorbarBase(axs1[1], norm=matplotlib.colors.Normalize(vmin=vm, vmax=vM), cmap = C.cmap)\n",
    "    #vm = np.min(f2[:,:,cut]); vM = np.max(f2[:,:,cut])\n",
    "    C = axs2[0].pcolormesh(f2[:,:,cut], vmin=vm, vmax=vM, cmap=\"viridis\")\n",
    "    _ = axs2[0].set_title(title2)\n",
    "    _ = matplotlib.colorbar.ColorbarBase(axs2[1], norm=matplotlib.colors.Normalize(vmin=vm, vmax=vM), cmap = C.cmap)\n",
    "    if(SAVE):\n",
    "        _ = plt.savefig(direc+str(i))\n",
    "        _ = plt.close()\n",
    "\n",
    "def plot_3f(f1, f2, f3, i, title1, title2, title3):\n",
    "    n=1 ; COL=2 ; RIG=1\n",
    "    fig = plt.figure(i, figsize=[n*8*COL,n*4.8*2*RIG])\n",
    "    gs1 = fig.add_gridspec(RIG,COL,width_ratios=[1,0.05], wspace=0.1, left=0.05, right=0.3)#, hspace=0)\n",
    "    axs1 = gs1.subplots()\n",
    "    gs2 = fig.add_gridspec(RIG,COL,width_ratios=[1,0.05], wspace=0.1, left=0.37, right=0.63)#, hspace=0)\n",
    "    axs2 = gs2.subplots()\n",
    "    gs3 = fig.add_gridspec(RIG,COL,width_ratios=[1,0.05], wspace=0.1, left=0.7, right=0.95)#, hspace=0)\n",
    "    axs3 = gs3.subplots()\n",
    "    vm = np.min(f1[:,:,cut]); vM = np.max(f1[:,:,cut])\n",
    "    C = axs1[0].pcolormesh(f1[:,:,cut], vmin=vm, vmax=vM, cmap=\"viridis\")\n",
    "    _ = axs1[0].set_title(title1)\n",
    "    _ = matplotlib.colorbar.ColorbarBase(axs1[1], norm=matplotlib.colors.Normalize(vmin=vm, vmax=vM), cmap = C.cmap)\n",
    "    vm = np.min(f2[:,:,cut]); vM = np.max(f2[:,:,cut])\n",
    "    C = axs2[0].pcolormesh(f2[:,:,cut], vmin=vm, vmax=vM, cmap=\"viridis\")\n",
    "    _ = axs2[0].set_title(title2)\n",
    "    _ = matplotlib.colorbar.ColorbarBase(axs2[1], norm=matplotlib.colors.Normalize(vmin=vm, vmax=vM), cmap = C.cmap)\n",
    "    #vm = np.min(f3[:,:,cut]); vM = np.max(f3[:,:,cut])\n",
    "    vm = -1; vM = +1\n",
    "    C = axs3[0].pcolormesh(f3[:,:,cut], vmin=vm, vmax=vM, cmap=\"viridis\")\n",
    "    _ = axs3[0].set_title(title3)\n",
    "    _ = matplotlib.colorbar.ColorbarBase(axs3[1], norm=matplotlib.colors.Normalize(vmin=vm, vmax=vM), cmap = C.cmap)\n",
    "\n",
    "# plot_f(1,flaggeometry,\"flaggeometry\")\n",
    "# plot_f(2,flag,\"flag\")\n",
    "# plot_f(3,rhoN,\"rhoN\")\n",
    "#plot_3f(flaggeometry, flag, rhoN0, 1, \"flaggeometry\", \"flag\", \"rhoN0\")\n",
    "#plot_3f(rhoN0, rhoN1, rhoN2, 2, \"rhoN t=0\", \"rhoN t=1\", \"rhoN t=2\")\n",
    "\n",
    "cut = 22\n",
    "minvalue = min( np.min(rho1[:,:,:,cut]), np.min(rho2[:,:,:,cut]) )\n",
    "maxvalue = max( np.max(rho1[:,:,:,cut]), np.max(rho2[:,:,:,cut]) )\n",
    "\n",
    "for i in range(0,steps):\n",
    "    #plot_f(i,rho1[i,:,:,:],\"rho1 t=%d\"%i*dt)\n",
    "    plot_2f(rho1[i,:,:,:], rho2[i,:,:,:], i, \"rho1 t=%d\"%(i*dt), \"rho2 t=%d\"%(i*dt), minvalue, maxvalue)"
   ]
  },
  {
   "cell_type": "code",
   "execution_count": 51,
   "id": "5b87add8-acd1-4ec8-8106-e4f71c44ee3e",
   "metadata": {},
   "outputs": [
    {
     "data": {
      "text/plain": [
       "array([ 1.00000000e+00,  1.00000000e+00,  1.00000000e+00,  1.00000000e+00,\n",
       "        1.00000000e+00,  1.00000000e+00,  1.00000000e+00,  1.00000000e+00,\n",
       "        1.00000000e+00,  1.00000000e+00,  1.00000000e+00,  1.00000000e+00,\n",
       "        9.99999999e-01,  9.99999989e-01,  9.99999864e-01,  9.99998342e-01,\n",
       "        9.99979797e-01,  9.99753968e-01,  9.97016879e-01,  9.65605878e-01,\n",
       "        7.29958139e-01,  4.68375339e-16, -7.29958139e-01, -9.65605878e-01,\n",
       "       -9.98331572e-01, -9.99909204e-01, -9.99992547e-01, -9.99999388e-01,\n",
       "       -9.99999950e-01, -9.99999996e-01, -1.00000000e+00, -1.00000000e+00,\n",
       "       -1.00000000e+00, -1.00000000e+00, -1.00000000e+00, -1.00000000e+00,\n",
       "       -1.00000000e+00, -1.00000000e+00, -1.00000000e+00, -1.00000000e+00])"
      ]
     },
     "execution_count": 51,
     "metadata": {},
     "output_type": "execute_result"
    }
   ],
   "source": []
  },
  {
   "cell_type": "code",
   "execution_count": 22,
   "id": "96e8b39b-ccdd-4060-9be8-08a50c67058c",
   "metadata": {},
   "outputs": [
    {
     "name": "stderr",
     "output_type": "stream",
     "text": [
      "/tmp/ipykernel_44182/3519955066.py:12: DeprecationWarning: Starting with ImageIO v3 the behavior of this function will switch to that of iio.v3.imread. To keep the current behavior (and make this warning disappear) use `import imageio.v2 as imageio` or call `imageio.v2.imread` directly.\n",
      "  images.append(imageio.imread(filename))\n"
     ]
    }
   ],
   "source": [
    "filenames=[]\n",
    "for i in range(steps):\n",
    "    filenames.append(direc+str(i)+\".png\")\n",
    "\n",
    "# with imageio.get_writer(savedir+\"movie.gif\", mode='I') as writer:\n",
    "#     for filename in filenames:\n",
    "#         image = imageio.imread(filename)\n",
    "#         writer.append_data(image)\n",
    "        \n",
    "images = []\n",
    "for filename in filenames:\n",
    "    images.append(imageio.imread(filename))\n",
    "imageio.mimsave(direc+'movie_x22.gif',images,loop=0,duration=1.0)"
   ]
  },
  {
   "cell_type": "code",
   "execution_count": 24,
   "id": "5d15f0fd-d0c9-4925-9633-438d2ab62b39",
   "metadata": {},
   "outputs": [],
   "source": [
    "filenames=[]\n",
    "for i in range(steps):\n",
    "    filenames.append(direc+str(i)+\".png\")\n",
    "for filename in filenames:\n",
    "    os.remove(filename)"
   ]
  },
  {
   "cell_type": "code",
   "execution_count": null,
   "id": "cd0faff4-65f1-48a6-8e06-c33be5972cb9",
   "metadata": {},
   "outputs": [],
   "source": []
  }
 ],
 "metadata": {
  "kernelspec": {
   "display_name": "Python 3 (ipykernel)",
   "language": "python",
   "name": "python3"
  },
  "language_info": {
   "codemirror_mode": {
    "name": "ipython",
    "version": 3
   },
   "file_extension": ".py",
   "mimetype": "text/x-python",
   "name": "python",
   "nbconvert_exporter": "python",
   "pygments_lexer": "ipython3",
   "version": "3.12.3"
  }
 },
 "nbformat": 4,
 "nbformat_minor": 5
}
