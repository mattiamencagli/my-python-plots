{
 "cells": [
  {
   "cell_type": "code",
   "execution_count": 1,
   "id": "21239bf4-7da5-4a83-8e2b-4e46a962dbd1",
   "metadata": {
    "pycharm": {
     "name": "#%%\n"
    }
   },
   "outputs": [
    {
     "name": "stdout",
     "output_type": "stream",
     "text": [
      "T_gw = 1.552276e+01   (dovrebbe essese ~1.3e+1) ok ora funge\n"
     ]
    }
   ],
   "source": [
    "import numpy as np\n",
    "import matplotlib.pylab as plt\n",
    "import matplotlib\n",
    "import matti_func as matti\n",
    "\n",
    "conv_pc_UA = 206264.8062471 \n",
    "m_unit = 1322.412172 #to have M_sol\n",
    "\n",
    "v_unit = 2.38041454521845 #to have km/s\n",
    "t_unit = 0.411046867566472 #to have Megayear\n",
    "t_unit *= 1e6 #to have year\n",
    "\n",
    "n=2\n",
    "fs = 'xx-large'\n",
    "fs_small = 'large'\n",
    "col = ['blue', 'red', 'green', 'orange', 'purple', 'dimgrey', 'navy', 'crimson']\n",
    "col1 = ['deepskyblue', 'salmon', 'lime', 'gold', 'magenta','silver', 'cyan', 'pink']\n",
    "cole = ['#e6194b','#3cb44b','#ffe119','#0082c8','#f58231','#911eb4','#46f0f0','#f032e6','#d2f53c','#fabebe','#008080','#e6beff','#aa6e28','#fffac8','#800000','#aaffc3','#808000','#ffd8b1','#000080','#808080','#ffffff','#000000']\n",
    "\n",
    "# col = col + col #to extend a list\n",
    "\n",
    "true = True\n",
    "false = False\n",
    "\n",
    "T_GW = matti.comp_t_gw_in_Gyr(0.1, 10, 10)\n",
    "print(\"T_gw = %e   (dovrebbe essese ~1.3e+1) ok ora funge\"%T_GW)\n",
    "\n",
    "def right_label(X):\n",
    "    if(X==0): return 'X [au]'\n",
    "    elif(X==1): return 'Y [au]'\n",
    "    else: return 'Z [au]'"
   ]
  },
  {
   "cell_type": "code",
   "execution_count": 2,
   "id": "95ea46f9-6b27-4bea-8fc6-bd8beeb483bd",
   "metadata": {
    "pycharm": {
     "name": "#%%\n"
    }
   },
   "outputs": [
    {
     "name": "stdout",
     "output_type": "stream",
     "text": [
      "[[ 3.56336260e-04  3.04673935e-02 -2.42708477e-01  4.06769842e-01\n",
      "   6.21104797e-01 -2.35742375e+00 -5.68106123e+00]\n",
      " [ 2.11540677e-04  3.04662987e-02 -2.42706623e-01  4.06769090e-01\n",
      "  -8.11149743e-01  4.44126481e+00  9.26989431e+00]\n",
      " [ 1.44078116e-04  3.05118656e-02 -2.42424581e-01  4.06685126e-01\n",
      "  -3.45166882e-01 -6.90407447e-01  4.40097318e-01]]\n",
      "0.17617391052745388\n",
      "5.676209360432889\n"
     ]
    }
   ],
   "source": [
    "'''controllo cambio unita isteddas <--> tzunami'''\n",
    "\n",
    "com=np.array((0.030476068014076,  -0.242650473932945,  0.406752474545063))\n",
    "\n",
    "#m,x,y,z,vx,vy,vz\n",
    "tr = [[4.712234077117456454e-01, -1.789243367495202630e+00, -1.196389797594871318e+01, 3.582289575609655330e+00, 4.963823001776352523e-02, -1.884035399647597253e-01, -4.540261575696664664e-01],\n",
    "[2.797439667004745778e-01, -2.015064067415357929e+00, -1.158151700853190036e+01, 3.427192818342689407e+00, -6.482647978706289338e-02, 3.549425565322608667e-01, 7.408430079055652318e-01],\n",
    "[1.905306548366714758e-01, 7.383774403321472946e+00, 4.659370057657135789e+01, -1.389170271392033484e+01, -2.758547858555557286e-02, -5.517684593591470205e-02, 3.517224791033741332e-02]]\n",
    "tr = np.array(tr)\n",
    "tr[:,0] /= m_unit #QUESTO OK\n",
    "tr[:,1:4] /= conv_pc_UA #QUESTO OK\n",
    "tr[:,1:4] += com #QUESTO OK\n",
    "tr[:,4:7] *= 149597828.67727545 * 2 * np.pi / 31557600 #cosi passo da 2pi*AU/yr a km/s\n",
    "tr[:,4:7] /= v_unit\n",
    "print(tr)\n",
    "print(6.311059631768861644e-01/3.582289575609655330e+00)\n",
    "print(3.582289575609655330e+00/6.311059631768861644e-01)"
   ]
  },
  {
   "cell_type": "markdown",
   "id": "4f1d80ec-23fb-4968-9e8f-a16275483eeb",
   "metadata": {
    "pycharm": {
     "name": "#%% md\n"
    }
   },
   "source": [
    "# REGULARIZATION OUTPUT"
   ]
  },
  {
   "cell_type": "code",
   "execution_count": 2,
   "id": "6d2202a3-4a97-4157-a0bb-2c40bd10d22d",
   "metadata": {
    "pycharm": {
     "name": "#%%\n"
    }
   },
   "outputs": [
    {
     "name": "stdout",
     "output_type": "stream",
     "text": [
      " >>> reading file /home/matti/programming/isteddas/cmake-build-debug/bin/output/arc_0.dat\n",
      "[0, 1]\n",
      "[9.83543079745e-05, 9.77799474009e-05]\n",
      "(16470, 14)\n",
      " >>> reading file /home/matti/programming/isteddas/cmake-build-debug/bin/output/arc_2.dat\n",
      "[2, 3]\n",
      "[0.000137963732358, 9.12140231748e-05]\n",
      "(376, 14)\n",
      " >>> reading file /home/matti/programming/isteddas/cmake-build-debug/bin/output/arc_8.dat\n",
      "[8, 9]\n",
      "[0.00087414017181, 0.000175526223283]\n",
      "(1994, 14)\n",
      " >>> reading file /home/matti/programming/isteddas/cmake-build-debug/bin/output/arc_10.dat\n",
      "[10, 11]\n",
      "[0.000356336260123, 0.000188871830494]\n",
      "(3656, 14)\n",
      " >>> reading file /home/matti/programming/isteddas/cmake-build-debug/bin/output/specstars.dat\n",
      "[0, 1, 2, 3, 4, 5, 6, 7, 8, 9, 10, 11]\n",
      "[0.0001961342553754, 0.0, 0.0002291777555326, 0.0, 0.000280784805152, 0.0002483792616061, 0.000105694372415, 9.22419992928e-05, 0.0010496663950927, 0.0, 0.0003563362601231, 0.0001888718304942]\n",
      "(3861, 74)\n",
      "units: M_sol, year, km/s, UA\n",
      "units: M_sol, year, km/s, UA\n",
      "units: M_sol, year, km/s, UA\n",
      "units: M_sol, year, km/s, UA\n",
      "units: M_sol, year, km/s, UA\n"
     ]
    }
   ],
   "source": [
    "direc = '/home/matti/programming/isteddas/cmake-build-debug/bin/output/'\n",
    "# direc1 = '/home/matti/Documents/data/close_enc_4body_rotto/'\n",
    "direc1 = '/home/matti/Documents/data/close_enc/'\n",
    "# name = 'arc_375.dat'\n",
    "name = 'arc_0.dat'\n",
    "name1 = 'arc_2.dat'\n",
    "name2 = 'arc_8.dat'\n",
    "name3 = 'arc_10.dat'\n",
    "# name4 = 'arc_188ioio.dat'\n",
    "# nameoioi = 'arc_0oioi.dat'\n",
    "# nameoioio = 'arc_0oioio.dat'\n",
    "# name5 = 'arc_562.dat'\n",
    "# name = 'arc_286.dat'\n",
    "# nameo = 'arc_286i.dat'\n",
    "# nameoi = 'arc_286io.dat'\n",
    "names = 'specstars.dat'\n",
    "# namesv = 'specstars_562.dat'\n",
    "o, stop, m, idx, N = matti.open_reg(direc, name, 100, false)\n",
    "o1, stop1, m1, idx1, N1 = matti.open_reg(direc, name1, 1, false)\n",
    "o2, stop2, m2, idx2, N2 = matti.open_reg(direc, name2, 1, false)\n",
    "o3, stop3, m3, idx3, N3 = matti.open_reg(direc, name3, 1, false)\n",
    "# o4, stop4, m4, idx4, N4 = matti.open_reg(direc, name4, 1, true)\n",
    "# o5, stop5, m5, idx5, N5 = matti.open_reg(direc, name5, 1, true)\n",
    "os, stops, ms, idxs, Ns = matti.open_reg(direc, names, 1, false) #qui difficilmente ti servira' piu' d 1\n",
    "# osv, stopsv, msv, idxsv, Nsv = matti.open_reg(direc1, namesv, 1)\n",
    "\n",
    "# off = N*3\n",
    "# off5 = N5*3\n",
    "# a1, T1, e1, inc1, ome1, Ome1, nu1 = matti.cart_to_kepl(m[0],o[:,0:3], o[:,off:off+3], m[1], o[:,3:6], o[:,off+3:off+6])\n",
    "# af, Tf, ef, incf, omef, Omef, nuf = matti.cart_to_kepl(m5[0],o5[:,0:3], o5[:,off5:off5+3], m5[1], o5[:,3:6], o5[:,off5+3:off5+6])\n",
    "\n",
    "# if(N==3): #hierarchical triple\n",
    "#     cm_bin = (o[:,0:3]*m[0]+o[:,3:6]*m[1])/(m[0]+m[1])\n",
    "#     cv_bin = (o[:,off:off+3]*m[0]+o[:,off+3:off+6]*m[1])/(m[0]+m[1])\n",
    "#     a2, T2, e2, inc2, ome2, Ome2, nu2 = matti.cart_to_kepl(m[0]+m[1], cm_bin, cv_bin, m[2], o[:,6:9], o[:,off+6:off+9])\n",
    "#     i_mut = np.arccos( np.cos(inc1)*np.cos(inc2) + np.cos(Ome1-Ome2)*np.sin(inc1)*np.sin(inc2) ) * 180.0 / np.pi\n",
    "#     dist_mut = ((o[:,6] - cm_bin[:,0])**2 + (o[:,7] - cm_bin[:,1])**2 + (o[:,8] - cm_bin[:,2])**2 )**0.5\n",
    "#     dist_mut *= conv_pc_UA\n",
    "#     matti.kepl_units(a2,T2,inc2,ome2,Ome2,nu2,t_unit,conv_pc_UA)\n",
    "\n",
    "matti.change_units(o,m,m_unit,t_unit,v_unit,conv_pc_UA)\n",
    "matti.change_units(o1,m1,m_unit,t_unit,v_unit,conv_pc_UA)\n",
    "matti.change_units(o2,m2,m_unit,t_unit,v_unit,conv_pc_UA)\n",
    "matti.change_units(o3,m3,m_unit,t_unit,v_unit,conv_pc_UA)\n",
    "# matti.change_units(o4,m4,m_unit,t_unit,v_unit,conv_pc_UA)\n",
    "# matti.change_units(o5,m5,m_unit,t_unit,v_unit,conv_pc_UA)\n",
    "matti.change_units(os,ms,m_unit,t_unit,v_unit,conv_pc_UA)\n",
    "# matti.change_units(osv,msv,m_unit,t_unit,v_unit,conv_pc_UA)\n",
    "\n",
    "# matti.kepl_units(a1,T1,inc1,ome1,Ome1,nu1,t_unit,conv_pc_UA)\n",
    "# matti.kepl_units(af,Tf,incf,omef,Omef,nuf,t_unit,conv_pc_UA)\n",
    "\n",
    "# T_GW_i = matti.comp_t_gw_in_Gyr(a1[0], m[0], m[1])\n",
    "# T_GW_f = matti.comp_t_gw_in_Gyr(a1[-1], m[0], m[1])\n",
    "# print(\"a1[0] = %e;     a2[-1] = %e\"%(a1[0],a1[-1]))\n",
    "# print(\"T_gw_i = %e;     T_gw_f = %e\"%(T_GW_i,T_GW_f))\n",
    "\n",
    "\n",
    "# o_com = (o[:,0:3]*m[0]+o[:,3:6]*m[1])/(m[0]+m[1])\n",
    "# o_comV = (o[:,6:9]*m[0]+o[:,9:12]*m[1])/(m[0]+m[1])\n",
    "# osv_com = (osv[:,0:3]*msv[0]+osv[:,3:6]*msv[1])/(msv[0]+msv[1])\n",
    "# o1_comV = (o1[:,6:9]*m[0]+o1[:,9:12]*m[1])/(m[0]+m[1])\n",
    "# print((o1_comV[0,:] - o1_comV[-1,:])/o1_comV[0,:])\n",
    "\n",
    "# direc1 = '/home/matti/programming/figures_py/'\n",
    "# name1 = 'arc_provagamma1.dat'\n",
    "# o1, stop1, m1 = open_reg(direc1, name1))"
   ]
  },
  {
   "cell_type": "code",
   "execution_count": 19,
   "id": "3f6a72fc-543d-4dcf-820d-15253d86c13b",
   "metadata": {
    "pycharm": {
     "name": "#%%\n"
    }
   },
   "outputs": [
    {
     "data": {
      "application/vnd.jupyter.widget-view+json": {
       "model_id": "9df09c02a0a44c2988640c8396105c80",
       "version_major": 2,
       "version_minor": 0
      },
      "text/plain": [
       "Canvas(toolbar=Toolbar(toolitems=[('Home', 'Reset original view', 'home', 'home'), ('Back', 'Back to previous …"
      ]
     },
     "metadata": {},
     "output_type": "display_data"
    }
   ],
   "source": [
    "%matplotlib widget\n",
    "\n",
    "threeD = false;\n",
    "x=0 ; y=1 ; z=2 ; v=3*N\n",
    "a=0 ; b=o.shape[0] ; j=1\n",
    "\n",
    "fine = 40\n",
    "\n",
    "\n",
    "''' choose the axis to be visualize, for 2D '''\n",
    "X = x ; Y = z;\n",
    "\n",
    "fig = plt.figure(0, figsize=[n*4.8,n*4.8])\n",
    "\n",
    "# plt.axes().set_facecolor(\"gainsboro\")\n",
    "# fig.patch.set_facecolor(\"gainsboro\")\n",
    "    \n",
    "if threeD:\n",
    "    ax = fig.add_subplot(projection='3d')\n",
    "\n",
    "for i in range(N):\n",
    "    if not threeD:\n",
    "#         _ = plt.quiver(con[:,i*3+X],con[:,i*3+Y],con[:,i*3+X+v],con[:,i*3+Y+v], width=0.001,color='black', zorder=i)\n",
    "#         _ = plt.plot(con[:,i*3+X],con[:,i*3+Y],color='black', zorder=i)\n",
    "#         _ = plt.quiver(o[a:b:j,i*3+X],o[a:b:j,i*3+Y],o[a:b:j,i*3+X+v],o[a:b:j,i*3+Y+v], width=0.001, color=col[i], zorder=i)\n",
    "        _ = plt.scatter(o[a:b:j,i*3+X],o[a:b:j,i*3+Y], s=0.8, color=col[i], label=r'%1.2f M$_\\odot$'%m[i], zorder=i)\n",
    "#         _ = plt.scatter(os[:,i*3+X],os[:,i*3+Y], s=2, color=col1[i], label=r'%1.2f M$_\\odot$'%m[i], zorder=-2)\n",
    "#         _ = plt.scatter(o[stop,i*3+X],o[stop,i*3+Y], s=1,color='black', label='stops', zorder=5)\n",
    "#         _ = plt.plot(osv[:,i*3+X],osv[:,i*3+Y], lw=1, color='green', linestyle='--',zorder=-1)\n",
    "        _ = plt.scatter(o[0,i*3+X],o[0,i*3+Y], s=15, color='purple', marker='*', zorder=10)\n",
    "#         _ = plt.scatter(os[0,i*3+X],os[0,i*3+Y], s=15, color='purple', marker='*', zorder=10)\n",
    "#         _ = plt.scatter(o[-1,i*3+X],o[-1,i*3+Y], lw=2, color='purple', marker='*', zorder=10)\n",
    "    else:\n",
    "#         _ = ax.quiver(o[a:b,i*3],o[a:b:j,i*3+y],o[a:b:j,i*3+z],o[a:b:j,i*3+v],o[a:b:j,i*3+y+v],o[a:b:j,i*3+z+v], color=col[i], length=10, zorder=i, label=r'%1.2f M$_\\odot$'%m[i])\n",
    "#         _ = ax.quiver(con[:,i*3],con[:,i*3+y],con[:,i*3+z],con[:,i*3+v],con[:,i*3+y+v],con[:,i*3+z+v], color='black', length=10, zorder=i)\n",
    "#         _ = ax.plot(con[:,i*3],con[:,i*3+y],con[:,i*3+z], color='black', zorder=i)\n",
    "#         _ = ax.scatter(pert[:,x],pert[:,y],pert[:,z], color='green', zorder=i)\n",
    "        _ = ax.plot(o[a:b:j,i*3],o[a:b:j,i*3+y],o[a:b:j,i*3+z], lw=1, color=col[i], marker='*', label=r'%1.2f M$_\\odot$'%m[i])   \n",
    "#     _ = plt.plot(o1[a:b:j,i*3+x],o1[a:b:j,i*3+z], lw=1, color=col[i], label=r'%1.2f M$_\\odot$'%m[i], zorder=i)\n",
    "\n",
    "# _ = plt.plot(osv_com[:,X],osv_com[:,Y], lw=1, color='magenta', linestyle='--', label='com isteddas', zorder=0)\n",
    "# _ = plt.plot(o_com[:,X],o_com[:,Y], lw=1, color='darkred',  label='com ARChain', zorder=0)\n",
    "\n",
    "for i in range(Ns):\n",
    "    if not threeD:\n",
    "        _ = plt.scatter(os[:,i*3+X],os[:,i*3+Y], s=4, color=cole[i], label=r'%d: %1.2f M$_\\odot$'%(idxs[i],ms[i]), zorder=i)\n",
    "        _ = plt.scatter(os[0,i*3+X],os[0,i*3+Y], s=15, color='purple', marker='*', zorder=10)\n",
    "    \n",
    "if not threeD:\n",
    "#     _ = plt.scatter(0, 0, color='black', marker='h', lw=3, label='COM', zorder=10)\n",
    "#     _ = plt.scatter(com[0,X], com[0,Y], color='black', marker='h', lw=3, label='COM', zorder=10)\n",
    "    _ = plt.xlabel(right_label(X), fontsize=fs)\n",
    "    _ = plt.ylabel(right_label(Y), fontsize=fs)\n",
    "else:\n",
    "#     _ = ax.scatter(0, 0, 0, color='black', marker='h', lw=3, label='COM', zorder=10)\n",
    "#     _ = ax.scatter(com[0,x], com[0,y], com[0,z], color='black', marker='h', lw=3, label='COM', zorder=10)\n",
    "    _ = ax.set_xlabel('X [au]', fontsize=fs)\n",
    "    _ = ax.set_ylabel('Y [au]', fontsize=fs)\n",
    "    _ = ax.set_zlabel('Z [au]', fontsize=fs)\n",
    "_ = plt.title('t = %1.1f years'%o[b-1,N*6],fontsize=fs)\n",
    "_ = plt.legend(fontsize=fs)"
   ]
  },
  {
   "cell_type": "code",
   "execution_count": 3,
   "id": "eb6c61d0-3123-4f4a-a3af-9cae3a04d1d8",
   "metadata": {
    "pycharm": {
     "name": "#%%\n"
    }
   },
   "outputs": [
    {
     "data": {
      "application/vnd.jupyter.widget-view+json": {
       "model_id": "c5c5d9b433614651b068fa55f4e74b42",
       "version_major": 2,
       "version_minor": 0
      },
      "text/plain": [
       "Canvas(toolbar=Toolbar(toolitems=[('Home', 'Reset original view', 'home', 'home'), ('Back', 'Back to previous …"
      ]
     },
     "metadata": {},
     "output_type": "display_data"
    },
    {
     "data": {
      "application/vnd.jupyter.widget-view+json": {
       "model_id": "636d00c4a7f9428fb61ea08c0e297fc9",
       "version_major": 2,
       "version_minor": 0
      },
      "text/plain": [
       "Canvas(toolbar=Toolbar(toolitems=[('Home', 'Reset original view', 'home', 'home'), ('Back', 'Back to previous …"
      ]
     },
     "metadata": {},
     "output_type": "display_data"
    },
    {
     "data": {
      "application/vnd.jupyter.widget-view+json": {
       "model_id": "73a39947485d48c4827988d5f803a53d",
       "version_major": 2,
       "version_minor": 0
      },
      "text/plain": [
       "Canvas(toolbar=Toolbar(toolitems=[('Home', 'Reset original view', 'home', 'home'), ('Back', 'Back to previous …"
      ]
     },
     "metadata": {},
     "output_type": "display_data"
    }
   ],
   "source": [
    "%matplotlib widget\n",
    "    \n",
    "x=0 ; y=1 ; z=2 ;# v=3*N\n",
    "# X = x ; Y = y\n",
    "\n",
    "def plottini(X,Y,ii,n=n):\n",
    "    iii = 1\n",
    "    fig = plt.figure(ii, figsize=[n*6.8,n*4.8])\n",
    "#     ax = fig.add_subplot();\n",
    "    gs = fig.add_gridspec(1, 2, width_ratios=[1,0.2])\n",
    "    ax = fig.add_subplot(gs[0,0])\n",
    "#     axlab = fig.add_subplot(gs[0,1])\n",
    "    \n",
    "    for i in range(N):\n",
    "        _ = ax.scatter(o[:,i*3+X],o[:,i*3+Y], s=15, color=col[i], label=r'%d: %1.2f M$_\\odot$ %d(%d-body)'%(idx[i],m[i],iii,N), zorder=i)\n",
    "    #     _ = plt.scatter(o[0,i*3+X],o[0,i*3+Y], s=30, color='black', marker='*', zorder=i)\n",
    "        _ = ax.set_title('t = %1.1f years'%o[-1,N*6],fontsize=fs)\n",
    "    iii += 1\n",
    "    for i in range(N1):\n",
    "        _ = ax.scatter(o1[:,i*3+X],o1[:,i*3+Y], s=15, color=col[i+N], label=r'%d: %1.2f M$_\\odot$ %d(%d-body)'%(idx1[i],m1[i],iii,N1), zorder=i)\n",
    "    #     _ = plt.scatter(o1[0,i*3+X],o1[0,i*3+Y], s=30, color='black', marker='*', zorder=i)\n",
    "        _ = ax.set_title('t = %1.1f years'%o1[-1,N1*6],fontsize=fs)\n",
    "    iii += 1\n",
    "    for i in range(N2):\n",
    "        _ = ax.scatter(o2[:,i*3+X],o2[:,i*3+Y], s=15, color=col[i+N+N1], label=r'%d: %1.2f M$_\\odot$ %d(%d-body)'%(idx2[i],m2[i],iii,N2), zorder=i)\n",
    "    #     _ = plt.scatter(o2[0,i*3+X],o2[0,i*3+Y], s=30, color='black', marker='*', zorder=i)\n",
    "        _ = ax.set_title('t = %1.1f years'%o2[-1,N2*6],fontsize=fs)\n",
    "    iii += 1\n",
    "    for i in range(N3):\n",
    "        _ = ax.scatter(o3[:,i*3+X],o3[:,i*3+Y], s=15, color=col[i+N+N1+N2], label=r'%d: %1.2f M$_\\odot$ %d(%d-body)'%(idx3[i],m3[i],iii,N3), zorder=i)\n",
    "    #     _ = plt.scatter(o3[-1,i*3+X],o3[-1,i*3+Y], s=60, color='black', marker='*', zorder=i)\n",
    "        _ = ax.set_title('t = %1.1f years'%o3[-1,N3*6],fontsize=fs)\n",
    "    iii += 1\n",
    "    # for i in range(N4):\n",
    "    #     _ = plt.scatter(o4[:,i*3+X],o4[:,i*3+Y], s=15, color=col[i], label=r'%d: %1.2f M$_\\odot$ %d(%d-body)'%(idx4[i],m4[i],iii,N4), zorder=i)\n",
    "    #     _ = plt.scatter(o4[0,i*3+X],o4[0,i*3+Y], s=30, color='black', marker='*', zorder=i)\n",
    "    #     _ = plt.title('t = %1.1f years'%o4[-1,N4*6],fontsize=fs)\n",
    "    iii += 1\n",
    "    # for i in range(N5):\n",
    "    #     _ = plt.scatter(o5[:,i*3+X],o5[:,i*3+Y], s=15, color=col[i], label=r'%d: %1.2f M$_\\odot$ %d(%d-body)'%(idx5[i],m5[i],iii,N5), zorder=i)\n",
    "    #     _ = plt.scatter(o5[0,i*3+X],o5[0,i*3+Y], s=30, color='black', marker='*', zorder=i)\n",
    "    #     _ = plt.title('t = %1.1f years'%o5[-1,N5*6],fontsize=fs)\n",
    "\n",
    "    # N_ist = max(N,N1,N2)\n",
    "\n",
    "    for i in range(Ns):\n",
    "    #     if(i<N_ist): lab = r'%1.2f M$_\\odot$ (Ist)'%ms[i]\n",
    "    #     else: lab = r'%1.2f M$_\\odot$ (Pert)'%ms[i]\n",
    "        lab = r'%d: %1.2f M$_\\odot$'%(idxs[i],ms[i])\n",
    "    #     _ = plt.scatter(os[:,i*3+X],os[:,i*3+Y], s=10, color=col1[i],label=lab, zorder=12)\n",
    "    #     _ = plt.scatter(os[0,i*3+X],os[0,i*3+Y], s=30, color=\"black\",marker='*', zorder=132)\n",
    "        _ = ax.scatter(os[:,i*3+X],os[:,i*3+Y], s=10,label=lab, zorder=-12)\n",
    "    #     _ = plt.scatter(os[-1,i*3+X],os[-1,i*3+Y], color='black', s=50,label=lab, zorder=-12)\n",
    "    #     _ = plt.scatter(os[0,i*3+X],os[0,i*3+Y], s=30,marker='*', zorder=-11)\n",
    "    # _ = plt.scatter(os[:,(Ns-1)*3+X],os[:,(Ns-1)*3+Y], s=30,marker='*',label=lab, zorder=-12)\n",
    "\n",
    "    # for i in range(Nsv):\n",
    "    #     _ = plt.scatter(osv[:,i*3+X],osv[:,i*3+Y], s=5, label=r'%d: %1.2f M$_\\odot$ NOREG'%(idxs[i],ms[i]), zorder=13)\n",
    "    #     _ = plt.scatter(osv[0,i*3+X],osv[0,i*3+Y], s=15, color=\"black\",marker='*', zorder=133)\n",
    "\n",
    "    _ = ax.set_xlabel(right_label(X), fontsize=fs)\n",
    "    _ = ax.set_ylabel(right_label(Y), fontsize=fs)\n",
    "    _ = ax.grid()\n",
    "    _ = ax.legend(fontsize=fs_small, loc='center', bbox_to_anchor=(1.2, 0.5))\n",
    "#     label_params = ax.get_legend_handles_labels() \n",
    "#     figlegend = plt.figure(666)\n",
    "#     axlab.legend(*label_params,  fontsize=fs_small, loc='center')\n",
    "    \n",
    "plottini(x,y,0)\n",
    "plottini(x,z,1)\n",
    "plottini(y,z,2)"
   ]
  },
  {
   "cell_type": "code",
   "execution_count": 11,
   "id": "d88be8db-7425-44e3-9042-58d3d93c5750",
   "metadata": {
    "pycharm": {
     "name": "#%%\n"
    }
   },
   "outputs": [
    {
     "data": {
      "application/vnd.jupyter.widget-view+json": {
       "model_id": "7e206501441b43978e3a9f66ce9d1e60",
       "version_major": 2,
       "version_minor": 0
      },
      "text/plain": [
       "Canvas(toolbar=Toolbar(toolitems=[('Home', 'Reset original view', 'home', 'home'), ('Back', 'Back to previous …"
      ]
     },
     "metadata": {},
     "output_type": "display_data"
    }
   ],
   "source": [
    "%matplotlib widget\n",
    "    \n",
    "x=0 ; y=1 ; z=2 ; v=3*N\n",
    "X = x ; Y = y ; Z = z\n",
    "\n",
    "iii = 1\n",
    "fig = plt.figure(0, figsize=[n*4.8,n*4.8])\n",
    "ax = fig.add_subplot(projection='3d')\n",
    "for i in range(N):\n",
    "    _ = ax.scatter(o[:,i*3+X],o[:,i*3+Y],o[:,i*3+Z], s=15, color=col[i], label=r'%d: %1.2f M$_\\odot$ %d(%d-body)'%(idx[i],m[i],iii,N), zorder=i)\n",
    "    _ = ax.scatter(o[0,i*3+X],o[0,i*3+Y],o[0,i*3+z], s=30, color='black', marker='*', zorder=i)\n",
    "    _ = plt.title('t = %1.1f years'%o[-1,N*6],fontsize=fs)\n",
    "iii += 1\n",
    "for i in range(N1):\n",
    "    _ = ax.scatter(o1[:,i*3+X],o1[:,i*3+Y],o1[:,i*3+Z], s=15, color=col[i], label=r'%d: %1.2f M$_\\odot$ %d(%d-body)'%(idx1[i],m1[i],iii,N1), zorder=i)\n",
    "    _ = ax.scatter(o1[0,i*3+X],o1[0,i*3+Y],o1[0,i*3+Z], s=30, color='black', marker='*', zorder=i)\n",
    "    _ = plt.title('t = %1.1f years'%o1[-1,N1*6],fontsize=fs)\n",
    "iii += 1\n",
    "for i in range(N2):\n",
    "    _ = ax.scatter(o2[:,i*3+X],o2[:,i*3+Y],o2[:,i*3+Z], s=15, color=col[i], label=r'%d: %1.2f M$_\\odot$ %d(%d-body)'%(idx2[i],m2[i],iii,N2), zorder=i)\n",
    "    _ = ax.scatter(o2[0,i*3+X],o2[0,i*3+Y],o2[0,i*3+Z], s=30, color='black', marker='*', zorder=i)\n",
    "    _ = plt.title('t = %1.1f years'%o2[-1,N2*6],fontsize=fs)\n",
    "iii += 1\n",
    "for i in range(N3):\n",
    "    _ = ax.scatter(o3[:,i*3+X],o3[:,i*3+Y], o3[:,i*3+Z], s=15, color=col[i], label=r'%d: %1.2f M$_\\odot$ %d(%d-body)'%(idx3[i],m3[i],iii,N3), zorder=i)\n",
    "    _ = ax.scatter(o3[0,i*3+X],o3[0,i*3+Y], o3[0,i*3+Z], s=30, color='black', marker='*', zorder=i)\n",
    "    _ = plt.title('t = %1.1f years'%o3[-1,N3*6],fontsize=fs)\n",
    "iii += 1\n",
    "# for i in range(N4):\n",
    "#     _ = plt.scatter(o4[:,i*3+X],o4[:,i*3+Y], lw=0.00001, color=col[i], zorder=i)\n",
    "#     _ = plt.title('t = %1.1f years'%o4[-1,N4*6],fontsize=fs)\n",
    "iii += 1\n",
    "# for i in range(N5):\n",
    "#     _ = ax.scatter(o5[:,i*3+X],o5[:,i*3+Y], o5[:,i*3+Z], s=15, color=col[i], label=r'%1.2f M$_\\odot$ %d(%d-body)'%(m5[i],iii,N5), zorder=i)\n",
    "#     _ = ax.scatter(o5[0,i*3+X],o5[0,i*3+Y], o5[:,i*3+Z], s=30, color='black', marker='*', zorder=i)\n",
    "#     _ = plt.title('t = %1.1f years'%o5[-1,N5*6],fontsize=fs)\n",
    "\n",
    "\n",
    "for i in range(Ns):\n",
    "    lab = r'%d: %1.2f M$_\\odot$'%(idxs[i],ms[i])\n",
    "    _ = ax.scatter(os[:,i*3+X],os[:,i*3+Y],os[:,i*3+Z], s=10,label=lab, zorder=12)\n",
    "#     _ = ax.scatter(os[0,i*3+X],os[0,i*3+Y],os[0,i*3+Z], s=30, color=\"black\",marker='*', zorder=132)\n",
    "    \n",
    "# for i in range(Nsv):\n",
    "#     _ = ax.scatter(osv[:,i*3+X],osv[:,i*3+Y],osv[:,i*3+Z], s=5, label='no reg', zorder=13)\n",
    "#     _ = ax.scatter(osv[0,i*3+X],osv[0,i*3+Y],osv[0,i*3+Z], s=15, color=\"black\",marker='*', zorder=133)\n",
    "\n",
    "_ = plt.xlabel(right_label(X), fontsize=fs)\n",
    "_ = plt.ylabel(right_label(Y), fontsize=fs)\n",
    "# _ = plt.legend(fontsize=fs_small)"
   ]
  },
  {
   "cell_type": "code",
   "execution_count": null,
   "id": "827741d1-729f-4eb3-b882-a00b40c5e69e",
   "metadata": {
    "pycharm": {
     "name": "#%%\n"
    }
   },
   "outputs": [],
   "source": [
    "# %matplotlib widget\n",
    "\n",
    "# a=0 ; b=-1 ; j=1000\n",
    "\n",
    "# fig = plt.figure(0, figsize=[n*4.8,n*4.8])\n",
    "# ax = fig.add_subplot(projection='3d')\n",
    "# for i in range(N):\n",
    "#     _ = ax.scatter(o[a:b:j,i*3],o[a:b:j,i*3+1],o[a:b:j,i*3+2], lw=1, color=col[i], marker='*', label=r'm=%1.2f M$_\\odot$'%m[i])\n",
    "# _ = ax.scatter(0,0, color='black', marker='o',lw=3)\n",
    "# _ = ax.set_xlabel('X [UA]', fontsize=fs)\n",
    "# _ = ax.set_ylabel('Y [UA]', fontsize=fs)\n",
    "# _ = ax.set_zlabel('Z [UA]', fontsize=fs)\n",
    "# _ = plt.title('t=' + str(o[b,N*6]) + ' su un totale di t=' + str(2**(-3)),fontsize=fs)\n",
    "# _ = plt.legend(fontsize=fs)"
   ]
  },
  {
   "cell_type": "markdown",
   "id": "b92d1d5a-45f3-4437-8fe3-99853f378154",
   "metadata": {
    "pycharm": {
     "name": "#%% md\n"
    }
   },
   "source": [
    "## Orbital elements:\n",
    "<img src=\"Orbit1.jpg\" width=\"600\">"
   ]
  },
  {
   "cell_type": "code",
   "execution_count": 7,
   "id": "6c860a13-c483-422f-9151-57a6b79f4dae",
   "metadata": {
    "pycharm": {
     "name": "#%%\n"
    }
   },
   "outputs": [
    {
     "data": {
      "application/vnd.jupyter.widget-view+json": {
       "model_id": "5a36e77eed584047b74d5e7ec9c5a4d9",
       "version_major": 2,
       "version_minor": 0
      },
      "text/plain": [
       "Canvas(toolbar=Toolbar(toolitems=[('Home', 'Reset original view', 'home', 'home'), ('Back', 'Back to previous …"
      ]
     },
     "metadata": {},
     "output_type": "display_data"
    },
    {
     "ename": "NameError",
     "evalue": "name 'a1' is not defined",
     "output_type": "error",
     "traceback": [
      "\u001b[0;31m---------------------------------------------------------------------------\u001b[0m",
      "\u001b[0;31mNameError\u001b[0m                                 Traceback (most recent call last)",
      "\u001b[0;32m<ipython-input-7-5fd59420aee8>\u001b[0m in \u001b[0;36m<module>\u001b[0;34m\u001b[0m\n\u001b[1;32m      8\u001b[0m \u001b[0;34m\u001b[0m\u001b[0m\n\u001b[1;32m      9\u001b[0m \u001b[0mi\u001b[0m\u001b[0;34m=\u001b[0m\u001b[0;36m0\u001b[0m\u001b[0;34m\u001b[0m\u001b[0;34m\u001b[0m\u001b[0m\n\u001b[0;32m---> 10\u001b[0;31m \u001b[0m_\u001b[0m \u001b[0;34m=\u001b[0m \u001b[0maxs\u001b[0m\u001b[0;34m[\u001b[0m\u001b[0mi\u001b[0m\u001b[0;34m]\u001b[0m\u001b[0;34m.\u001b[0m\u001b[0msemilogy\u001b[0m\u001b[0;34m(\u001b[0m\u001b[0mo\u001b[0m\u001b[0;34m[\u001b[0m\u001b[0ma\u001b[0m\u001b[0;34m:\u001b[0m\u001b[0mb\u001b[0m\u001b[0;34m:\u001b[0m\u001b[0mj\u001b[0m\u001b[0;34m,\u001b[0m\u001b[0mN\u001b[0m\u001b[0;34m*\u001b[0m\u001b[0;36m6\u001b[0m\u001b[0;34m]\u001b[0m\u001b[0;34m,\u001b[0m\u001b[0ma1\u001b[0m\u001b[0;34m[\u001b[0m\u001b[0ma\u001b[0m\u001b[0;34m:\u001b[0m\u001b[0mb\u001b[0m\u001b[0;34m:\u001b[0m\u001b[0mj\u001b[0m\u001b[0;34m]\u001b[0m\u001b[0;34m,\u001b[0m \u001b[0mlw\u001b[0m\u001b[0;34m=\u001b[0m\u001b[0;36m1\u001b[0m\u001b[0;34m,\u001b[0m \u001b[0mcolor\u001b[0m\u001b[0;34m=\u001b[0m\u001b[0;34m'blue'\u001b[0m\u001b[0;34m,\u001b[0m \u001b[0mlabel\u001b[0m\u001b[0;34m=\u001b[0m\u001b[0;34m'inner bin'\u001b[0m\u001b[0;34m)\u001b[0m\u001b[0;34m;\u001b[0m \u001b[0mi\u001b[0m\u001b[0;34m+=\u001b[0m\u001b[0;36m1\u001b[0m\u001b[0;34m\u001b[0m\u001b[0;34m\u001b[0m\u001b[0m\n\u001b[0m\u001b[1;32m     11\u001b[0m \u001b[0;31m# _ = axs[i].semilogy(o[a:b:j,N*6],T1[a:b:j], lw=1, color='blue'); i+=1\u001b[0m\u001b[0;34m\u001b[0m\u001b[0;34m\u001b[0m\u001b[0;34m\u001b[0m\u001b[0m\n\u001b[1;32m     12\u001b[0m \u001b[0m_\u001b[0m \u001b[0;34m=\u001b[0m \u001b[0maxs\u001b[0m\u001b[0;34m[\u001b[0m\u001b[0mi\u001b[0m\u001b[0;34m]\u001b[0m\u001b[0;34m.\u001b[0m\u001b[0msemilogy\u001b[0m\u001b[0;34m(\u001b[0m\u001b[0mo\u001b[0m\u001b[0;34m[\u001b[0m\u001b[0ma\u001b[0m\u001b[0;34m:\u001b[0m\u001b[0mb\u001b[0m\u001b[0;34m:\u001b[0m\u001b[0mj\u001b[0m\u001b[0;34m,\u001b[0m\u001b[0mN\u001b[0m\u001b[0;34m*\u001b[0m\u001b[0;36m6\u001b[0m\u001b[0;34m]\u001b[0m\u001b[0;34m,\u001b[0m\u001b[0me1\u001b[0m\u001b[0;34m[\u001b[0m\u001b[0ma\u001b[0m\u001b[0;34m:\u001b[0m\u001b[0mb\u001b[0m\u001b[0;34m:\u001b[0m\u001b[0mj\u001b[0m\u001b[0;34m]\u001b[0m\u001b[0;34m,\u001b[0m \u001b[0mlw\u001b[0m\u001b[0;34m=\u001b[0m\u001b[0;36m1\u001b[0m\u001b[0;34m,\u001b[0m \u001b[0mcolor\u001b[0m\u001b[0;34m=\u001b[0m\u001b[0;34m'blue'\u001b[0m\u001b[0;34m)\u001b[0m\u001b[0;34m;\u001b[0m \u001b[0mi\u001b[0m\u001b[0;34m+=\u001b[0m\u001b[0;36m1\u001b[0m\u001b[0;34m\u001b[0m\u001b[0;34m\u001b[0m\u001b[0m\n",
      "\u001b[0;31mNameError\u001b[0m: name 'a1' is not defined"
     ]
    }
   ],
   "source": [
    "%matplotlib widget\n",
    "\n",
    "a=0 ; b=o.shape[0] ; j=1\n",
    "\n",
    "fig = plt.figure(666, figsize=[n*4.8,n*4.8*1.5])\n",
    "gs = fig.add_gridspec(7, hspace=0)\n",
    "axs = gs.subplots(sharex=True)#sharex=True, sharey=True)\n",
    "\n",
    "i=0\n",
    "_ = axs[i].semilogy(o[a:b:j,N*6],a1[a:b:j], lw=1, color='blue', label='inner bin'); i+=1\n",
    "# _ = axs[i].semilogy(o[a:b:j,N*6],T1[a:b:j], lw=1, color='blue'); i+=1\n",
    "_ = axs[i].semilogy(o[a:b:j,N*6],e1[a:b:j], lw=1, color='blue'); i+=1\n",
    "_ = axs[i].plot(o[a:b:j,N*6],inc1[a:b:j], lw=1, color='blue'); i+=1\n",
    "_ = axs[i].plot(o[a:b:j,N*6],ome1[a:b:j], lw=1, color='blue'); i+=1\n",
    "_ = axs[i].plot(o[a:b:j,N*6],Ome1[a:b:j], lw=1, color='blue'); i+=1\n",
    "# _ = axs[i].plot(o[a:b:j,N*6],nu1[a:b:j], lw=1, color='blue'); i+=1\n",
    "if(N==3):\n",
    "    i=0\n",
    "    _ = axs[i].semilogy(o[a:b:j,N*6],a2[a:b:j], lw=1, color='red', label='outer bin'); i+=1\n",
    "#     _ = axs[i].semilogy(o[a:b:j,N*6],T2[a:b:j], lw=1, color='red'); i+=1\n",
    "    _ = axs[i].semilogy(o[a:b:j,N*6],e2[a:b:j], lw=1, color='red'); i+=1\n",
    "    _ = axs[i].plot(o[a:b:j,N*6],inc2[a:b:j], lw=1, color='red'); i+=1\n",
    "    _ = axs[i].plot(o[a:b:j,N*6],ome2[a:b:j], lw=1, color='red'); i+=1\n",
    "    _ = axs[i].plot(o[a:b:j,N*6],Ome2[a:b:j], lw=1, color='red'); i+=1\n",
    "#     _ = axs[i].plot(o[a:b:j,N*6],nu2[a:b:j], lw=1, color='red'); i+=1\n",
    "    _ = axs[i].plot(o[a:b:j,N*6],i_mut[a:b:j], lw=1, color='green'); i+=1\n",
    "    _ = axs[i].plot(o[a:b:j,N*6],dist_mut[a:b:j], lw=1, color='green'); i+=1\n",
    "\n",
    "i=0\n",
    "_ = axs[i].set_ylabel('semi-major\\n axis [AU]', fontsize=fs_small); i+=1\n",
    "# _ = axs[i].set_ylabel('period [years]', fontsize=fs_small); i+=1\n",
    "_ = axs[i].set_ylabel('eccentricity', fontsize=fs_small); i+=1\n",
    "_ = axs[i].set_ylabel('inclination [Deg]', fontsize=fs_small); i+=1\n",
    "_ = axs[i].set_ylabel('omega [Deg]', fontsize=fs_small); i+=1\n",
    "_ = axs[i].set_ylabel('Omega [Deg]', fontsize=fs_small); i+=1\n",
    "# _ = axs[i].set_ylabel('nu [Deg]', fontsize=fs_small); i+=1\n",
    "_ = axs[i].set_ylabel('mutual\\n inclination [Deg]', fontsize=fs_small); i+=1\n",
    "_ = axs[i].set_ylabel('distance\\n 3body - Ibin [AU]', fontsize=fs_small); i+=1\n",
    "for ax in axs:\n",
    "    _ = ax.grid()\n",
    "_ = plt.xlabel('t [years]', fontsize=fs)\n",
    "_ = fig.legend(fontsize=fs_small)"
   ]
  },
  {
   "cell_type": "code",
   "execution_count": 4,
   "id": "e130ec6b-35f5-4d07-bb64-0d717bd5e160",
   "metadata": {
    "pycharm": {
     "name": "#%%\n"
    }
   },
   "outputs": [
    {
     "data": {
      "application/vnd.jupyter.widget-view+json": {
       "model_id": "9d635532f1914c629920e0c3d804ef3b",
       "version_major": 2,
       "version_minor": 0
      },
      "text/plain": [
       "Canvas(toolbar=Toolbar(toolitems=[('Home', 'Reset original view', 'home', 'home'), ('Back', 'Back to previous …"
      ]
     },
     "metadata": {},
     "output_type": "display_data"
    }
   ],
   "source": [
    "%matplotlib widget\n",
    "\n",
    "oplot = o2\n",
    "%matplotlib widget\n",
    "plot = plt.semilogy\n",
    "lab = r'$\\alpha\\beta\\gamma=1,0,0$'\n",
    "i=0 ; f=o.shape[0] ; iii = 0\n",
    "_ = plt.figure(1, figsize=[n*4.8,n*4.8])\n",
    "# _ = plt.semilogy(o[i:f,6],o[i:f,7], color='blue')\n",
    "# _ = plot(oplot[:,N*6],oplot[:,N*6+1], color='blue', label='%d'%iii) ; iii += 1\n",
    "_ = plot(o[:,N*6],o[:,N*6+1], color='blue', label='%d'%idx[0])\n",
    "_ = plot(o1[:,N1*6],o1[:,N1*6+1], color='red', label='%d'%idx1[0])\n",
    "_ = plot(o2[:,N2*6],o2[:,N2*6+1], color='green',label='%d'%idx2[0])\n",
    "_ = plot(o3[:,N3*6],o3[:,N3*6+1], color='orange', label='%d'%idx3[0])\n",
    "# _ = plt.semilogy(o3[:,N3*6],o3[:,N3*6+1], color='black')\n",
    "# _ = plt.semilogy(o4[:,N4*6],o4[:,N4*6+1], color='orange')\n",
    "# _ = plt.semilogy(o5[:,N5*6],o5[:,N5*6+1], color='magenta')\n",
    "# _ = plt.semilogy(o1[i:f,9],o1[i:f,10], color='red', label=r'$\\alpha\\beta\\gamma=0,0,1$')\n",
    "''' the next it is usable only using stops '''\n",
    "# _ = plt.vlines(o[stop,N*6], np.min(o[i:f,N*6+1]), np.max(o[i:f,N*6+1]), linestyle='--', color='red') \n",
    "_ = plt.xticks(fontsize=fs)\n",
    "_ = plt.yticks(fontsize=fs)\n",
    "_ = plt.xlabel('time [years]', fontsize=fs)\n",
    "_ = plt.ylabel('relative error energy', fontsize=fs)\n",
    "_ = plt.legend(fontsize=fs)"
   ]
  },
  {
   "cell_type": "markdown",
   "id": "db4351a4-721d-4378-95e9-353bc716365c",
   "metadata": {
    "pycharm": {
     "name": "#%% md\n"
    }
   },
   "source": [
    "# ISTEDDAS OUTPUT"
   ]
  },
  {
   "cell_type": "code",
   "execution_count": 2,
   "id": "671c6fcd-aa69-4f49-9e9f-54353af454fb",
   "metadata": {
    "pycharm": {
     "name": "#%%\n"
    }
   },
   "outputs": [
    {
     "name": "stdout",
     "output_type": "stream",
     "text": [
      "(3862, 9)\n",
      "(3862, 20) (3862, 20) (3862,) (20,)\n",
      "(3862,) (20,)\n"
     ]
    }
   ],
   "source": [
    "direc = '/home/matti/programming/isteddas/cmake-build-debug/bin/'\n",
    "# direc = '/home/matti/programming/isteddas/build/bin/'\n",
    "out = 'output/'\n",
    "lf = 'logfiles/'\n",
    "name = 'diagnostic.dat'\n",
    "nameT = 'timeprofile.dat.cumul'\n",
    "nameB = 'blocks_current.dat'\n",
    "f = open(direc + out + name)\n",
    "# fT = open(direc + lf + nameT)\n",
    "fB = open(direc + out + nameB)\n",
    "file=f.readlines()\n",
    "# fileT=fT.readlines()\n",
    "fileB=fB.readlines()\n",
    "f.close()\n",
    "# fT.close()\n",
    "file.pop(0)\n",
    "# fileT.pop(0)\n",
    "err = np.loadtxt(file)\n",
    "# time = np.loadtxt(fileT)\n",
    "lim = 20\n",
    "Nbl,Ibl,Tbl,bl = matti.read_blocks(fileB,lim)\n",
    "print(err.shape)\n",
    "# print(time.shape)\n",
    "print(Nbl.shape,Ibl.shape,Tbl.shape,bl.shape)\n",
    "print(Tbl.shape, bl.shape)\n",
    "del(file, fileB)"
   ]
  },
  {
   "cell_type": "code",
   "execution_count": 11,
   "id": "1aa98048-5ea0-45b5-9b2d-a4f6b539b8eb",
   "metadata": {
    "pycharm": {
     "name": "#%%\n"
    }
   },
   "outputs": [
    {
     "data": {
      "application/vnd.jupyter.widget-view+json": {
       "model_id": "61ece18bb1834340a1b3e1047a113044",
       "version_major": 2,
       "version_minor": 0
      },
      "text/plain": [
       "Canvas(toolbar=Toolbar(toolitems=[('Home', 'Reset original view', 'home', 'home'), ('Back', 'Back to previous …"
      ]
     },
     "metadata": {},
     "output_type": "display_data"
    },
    {
     "data": {
      "application/vnd.jupyter.widget-view+json": {
       "model_id": "a05acacd05dc4de7986ebba2055375f1",
       "version_major": 2,
       "version_minor": 0
      },
      "text/plain": [
       "Canvas(toolbar=Toolbar(toolitems=[('Home', 'Reset original view', 'home', 'home'), ('Back', 'Back to previous …"
      ]
     },
     "metadata": {},
     "output_type": "display_data"
    }
   ],
   "source": [
    "%matplotlib widget\n",
    "fig = plt.figure(11, figsize=[n*4.8,n*4.8])\n",
    "ax = fig.add_subplot()\n",
    "ax2 = ax.twiny()\n",
    "_ = ax.semilogy(err[:,0]*t_unit,err[:,1], color='blue')\n",
    "# _ = plt.vlines(o[stop,9], 1e-13, 2e-7, color='red',linestyle='--')\n",
    "# _ = plt.vlines(o[-1,N*6], np.min(err[:,1]), np.max(err[:,1]), color='red',linestyle='--') #momeno termination\n",
    "# _ = ax.set_xticks(fontsize=fs)\n",
    "# _ = ax.set_yticks(fontsize=fs)\n",
    "_ = ax.set_xlabel('time [years]', fontsize=fs)\n",
    "_ = ax.set_ylabel(r'relative error energy $(\\Delta E/E)$', fontsize=fs)\n",
    "_ = ax.grid()\n",
    "_ = ax2.set_xlim((ax.get_xlim()[0]/t_unit, ax.get_xlim()[1]/t_unit))\n",
    "# _ = ax2.set_xticks(err[:,0])\n",
    "# _ = ax2.set_xticklabels(tick_function(new_tick_locations))\n",
    "_ = ax2.set_xlabel(\"time [code units]\", fontsize=fs)\n",
    "\n",
    "\n",
    "# _ = plt.figure(33, figsize=[n*4.8,n*4.8])\n",
    "# _ = plt.plot(time[:,0], np.linspace(time[0,2],time[-1,2], len(time[:,2]))/60.0, '--', color='green')\n",
    "# _ = plt.plot(time[:,0],time[:,2]/60.0, color='blue')\n",
    "# # _ = plt.vlines(o[stop,9], 1e-13, 2e-7, color='red',linestyle='--')\n",
    "# _ = plt.xticks(fontsize=fs)\n",
    "# _ = plt.yticks(fontsize=fs)\n",
    "# _ = plt.xlabel('steps', fontsize=fs)\n",
    "# _ = plt.ylabel('cumulative time [mis]', fontsize=fs)\n",
    "# _ = plt.title('avarage steps per second: %1.2f'%(time[-1,0]/time[-1,2]), fontsize=fs)\n",
    "\n",
    "fig = plt.figure(22, figsize=[n*4.8,n*4.8])\n",
    "ax = fig.add_subplot()\n",
    "ax2 = ax.twiny()\n",
    "_ = ax.semilogy(err[:,0]*t_unit,err[:,5], color='blue')\n",
    "# _ = plt.vlines(o[stop,9], 1e-13, 2e-7, color='red',linestyle='--')\n",
    "# _ = ax.set_xticks(fontsize=fs)\n",
    "# _ = ax.set_yticks(fontsize=fs)\n",
    "_ = ax.set_xlabel('time [years]', fontsize=fs)\n",
    "_ = ax.set_ylabel(r'relative error angular momentum $(\\Delta L/L)$', fontsize=fs)\n",
    "_ = ax.grid()\n",
    "_ = ax2.set_xlim((ax.get_xlim()[0]/t_unit, ax.get_xlim()[1]/t_unit))\n",
    "_ = ax2.set_xlabel(\"time [code units]\", fontsize=fs)"
   ]
  },
  {
   "cell_type": "code",
   "execution_count": 14,
   "id": "acee4add-d2c4-4787-b343-86cd55006965",
   "metadata": {},
   "outputs": [
    {
     "data": {
      "application/vnd.jupyter.widget-view+json": {
       "model_id": "d3fe3d8ba28d41c48f65f23e9cf1cc15",
       "version_major": 2,
       "version_minor": 0
      },
      "text/plain": [
       "Canvas(toolbar=Toolbar(toolitems=[('Home', 'Reset original view', 'home', 'home'), ('Back', 'Back to previous …"
      ]
     },
     "metadata": {},
     "output_type": "display_data"
    },
    {
     "data": {
      "application/vnd.jupyter.widget-view+json": {
       "model_id": "9d1a8c43d39641999ebde218c3213386",
       "version_major": 2,
       "version_minor": 0
      },
      "text/plain": [
       "Canvas(toolbar=Toolbar(toolitems=[('Home', 'Reset original view', 'home', 'home'), ('Back', 'Back to previous …"
      ]
     },
     "metadata": {},
     "output_type": "display_data"
    }
   ],
   "source": [
    "%matplotlib widget\n",
    "\n",
    "xt = np.arange(1,lim,1)\n",
    "cut = 1400\n",
    "vm = min(np.min(Tbl), np.min(Nbl)) # cosi do la stessa colorbar a tutti\n",
    "vM = max(np.max(Tbl), np.max(Nbl))\n",
    "\n",
    "#viridis modificato\n",
    "# viridis = matplotlib.cm.get_cmap('viridis', 256)\n",
    "# newcolors = viridis(np.linspace(0, 1, 256))\n",
    "# black = np.array([0, 0, 0, 1])\n",
    "# newcolors[0, :] = black\n",
    "# newcmp = matplotlib.colors.ListedColormap(newcolors)\n",
    "# #customize\n",
    "# norm = matplotlib.colors.Normalize(vm,vM)\n",
    "# colors = [[norm(0), \"black\"],[norm(1), \"blue\"],[norm(vM*0.5), \"purple\"],[norm(vM), \"red\"]]\n",
    "# cmapcustom = matplotlib.colors.LinearSegmentedColormap.from_list(\"\", colors)\n",
    "\n",
    "\n",
    "n = 1.5\n",
    "fig = plt.figure(276, figsize=[n*4.8*2,n*4.8])\n",
    "gs = fig.add_gridspec(1, 3, width_ratios=[1,1,0.05])\n",
    "axN = fig.add_subplot(gs[0,0])\n",
    "axI = fig.add_subplot(gs[0,1])\n",
    "cbr = fig.add_subplot(gs[0,2])\n",
    "\n",
    "cN = axN.contourf(bl, Tbl, Nbl, 255, vmin=vm, vmax=vM) # norm=matplotlib.colors.LogNorm()\n",
    "cI = axI.contourf(bl, Tbl, Ibl, vmin=vm, vmax=vM, cmap=cN.cmap)\n",
    "_ = axN.hlines(Tbl[cut], 0,lim-1, color='red')\n",
    "_ = axI.hlines(Tbl[cut], 0,lim-1, color='red', label=\"time=%f\"%Tbl[cut])\n",
    "_ = axI.grid()\n",
    "_ = axN.grid()\n",
    "_ = axN.set_ylabel('code time',fontsize=fs)\n",
    "_ = axN.set_xlabel('blocks indexes',fontsize=fs)\n",
    "_ = axI.set_xlabel('blocks indexes',fontsize=fs)\n",
    "_ = axI.set_title('I-particles',fontsize=fs)\n",
    "_ = axN.set_title('N-particles',fontsize=fs)\n",
    "_ = axI.legend(fontsize=fs)\n",
    "_ = axI.set_xticks(xt)\n",
    "_ = axN.set_xticks(xt)\n",
    "_ = matplotlib.colorbar.ColorbarBase(cbr, norm=matplotlib.colors.Normalize(vmin=vm, vmax=vM), cmap = cN.cmap)\n",
    "\n",
    "# plt.colorbar(im, ax=axes.ravel().tolist())\n",
    "\n",
    "fig = plt.figure(277, figsize=[n*4.8,n*4.8])\n",
    "_ = plt.plot(Ibl[cut], label='I')\n",
    "_ = plt.plot(Nbl[cut], label='N', linestyle='--')\n",
    "_ = plt.grid()\n",
    "_ = plt.legend(fontsize=fs)\n",
    "_ = plt.xticks(xt)\n",
    "_ = plt.yticks(fontsize=fs)\n",
    "_ = plt.xlabel('blocks indexes', fontsize=fs)\n",
    "_ = plt.ylabel('number of particles', fontsize=fs)\n",
    "_ = plt.title(\"blocks at time = {}\".format(Tbl[cut]),fontsize=fs)\n"
   ]
  },
  {
   "cell_type": "code",
   "execution_count": null,
   "id": "38086067-6ae7-4a50-9971-803acc050635",
   "metadata": {
    "pycharm": {
     "name": "#%%\n"
    }
   },
   "outputs": [],
   "source": [
    "direc = '/home/matti/Documents/data/plot_errore_isteddas_vs_tunami_singlebinary/'\n",
    "name1 = 'diagnostic_ist.dat'\n",
    "name2 = 'diagnostic_ist_tsu.dat'\n",
    "f1 = open(direc + name1)\n",
    "f2 = open(direc + name2)\n",
    "file1=f1.readlines()\n",
    "file2=f2.readlines()\n",
    "f1.close()\n",
    "f2.close()\n",
    "file1.pop(0)\n",
    "file2.pop(0)\n",
    "err1 = np.loadtxt(file1)\n",
    "err2 = np.loadtxt(file2)\n",
    "print(err1.shape)\n",
    "print(err2.shape)"
   ]
  },
  {
   "cell_type": "code",
   "execution_count": null,
   "id": "bff99e12-e0a6-4a33-b6b1-c929c7bd9587",
   "metadata": {
    "pycharm": {
     "name": "#%%\n"
    }
   },
   "outputs": [],
   "source": [
    "%matplotlib widget\n",
    "plot = plt.loglog\n",
    "\n",
    "a = err1[:,-1]*t_unit\n",
    "b = err2[:,-1]*t_unit\n",
    "\n",
    "\n",
    "_ = plt.figure(123, figsize=[n*4.8,n*4.8])\n",
    "# _ = plt.loglog(err1[:,0]*t_unit,err1[:,1], color='red', label='Ist (%1.0f yr)'%(err1[-1,0]*t_unit))\n",
    "# _ = plt.loglog(err2[:,0]*t_unit,err2[:,1], color='blue', label='Ist+Tsu (%1.0f yr)'%(err2[-1,0]*t_unit))\n",
    "_ = plot(err1[:,0]*t_unit, err1[:,1], color='red', label='Ist (1400 yr)')\n",
    "_ = plot(err2[:,0]*t_unit, err2[:,1], color='blue', label='Ist+Tsu (400000 yr)')\n",
    "_ = plt.xticks(fontsize=fs_small)\n",
    "_ = plt.yticks(fontsize=fs)\n",
    "_ = plt.xlim(10**-3, 5*10**5)\n",
    "_ = plt.ylim(10**-13, 10**-2)\n",
    "_ = plt.xlabel('time [years]', fontsize=fs)\n",
    "_ = plt.ylabel('relative error energy', fontsize=fs)\n",
    "_ = plt.legend(fontsize=fs, loc='upper left')\n",
    "_ = plt.title('2048 stars, 1 binary (4 mins on my laptop)', fontsize=fs)\n",
    "_ = plt.grid(true)\n"
   ]
  },
  {
   "cell_type": "code",
   "execution_count": null,
   "id": "ea86ae3b-81b4-4833-b247-a3571d3bb143",
   "metadata": {
    "pycharm": {
     "name": "#%%\n"
    }
   },
   "outputs": [],
   "source": [
    "err1[:,0]"
   ]
  },
  {
   "cell_type": "code",
   "execution_count": null,
   "id": "296b11fb-3e0e-4491-a9b1-352cc52ff3b2",
   "metadata": {},
   "outputs": [],
   "source": []
  }
 ],
 "metadata": {
  "kernelspec": {
   "display_name": "Python 3",
   "language": "python",
   "name": "python3"
  },
  "language_info": {
   "codemirror_mode": {
    "name": "ipython",
    "version": 3
   },
   "file_extension": ".py",
   "mimetype": "text/x-python",
   "name": "python",
   "nbconvert_exporter": "python",
   "pygments_lexer": "ipython3",
   "version": "3.8.10"
  }
 },
 "nbformat": 4,
 "nbformat_minor": 5
}
