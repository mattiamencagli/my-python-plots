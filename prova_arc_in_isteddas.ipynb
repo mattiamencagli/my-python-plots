{
 "cells": [
  {
   "cell_type": "code",
   "execution_count": 7,
   "id": "21239bf4-7da5-4a83-8e2b-4e46a962dbd1",
   "metadata": {},
   "outputs": [],
   "source": [
    "import numpy as np\n",
    "import matplotlib.pylab as plt\n",
    "import matti_func as matti\n",
    "\n",
    "conv_pc_UA = 206264.8062471 \n",
    "m_unit = 1322.412172 #to have M_sol\n",
    "\n",
    "v_unit = 2.38041454521845 #to have km/s\n",
    "t_unit = 0.411046867566472 #to have Megayear\n",
    "t_unit *= 1e6 #to have year\n",
    "\n",
    "n=2\n",
    "fs = 'xx-large'\n",
    "fs_small = 'large'\n",
    "col = ['blue', 'red', 'green', 'orange', 'purple']\n",
    "\n",
    "true = True\n",
    "false = False"
   ]
  },
  {
   "cell_type": "code",
   "execution_count": 8,
   "id": "95ea46f9-6b27-4bea-8fc6-bd8beeb483bd",
   "metadata": {},
   "outputs": [
    {
     "name": "stdout",
     "output_type": "stream",
     "text": [
      "[[ 3.56336260e-04  3.04673935e-02 -2.42708477e-01  4.06769842e-01\n",
      "   6.21104797e-01 -2.35742375e+00 -5.68106123e+00]\n",
      " [ 2.11540677e-04  3.04662987e-02 -2.42706623e-01  4.06769090e-01\n",
      "  -8.11149743e-01  4.44126481e+00  9.26989431e+00]\n",
      " [ 1.44078116e-04  3.05118656e-02 -2.42424581e-01  4.06685126e-01\n",
      "  -3.45166882e-01 -6.90407447e-01  4.40097318e-01]]\n",
      "0.17617391052745388\n",
      "5.676209360432889\n"
     ]
    }
   ],
   "source": [
    "com=np.array((0.030476068014076,  -0.242650473932945,  0.406752474545063))\n",
    "\n",
    "#m,x,y,z,vx,vy,vz\n",
    "tr = [[4.712234077117456454e-01, -1.789243367495202630e+00, -1.196389797594871318e+01, 3.582289575609655330e+00, 4.963823001776352523e-02, -1.884035399647597253e-01, -4.540261575696664664e-01],\n",
    "[2.797439667004745778e-01, -2.015064067415357929e+00, -1.158151700853190036e+01, 3.427192818342689407e+00, -6.482647978706289338e-02, 3.549425565322608667e-01, 7.408430079055652318e-01],\n",
    "[1.905306548366714758e-01, 7.383774403321472946e+00, 4.659370057657135789e+01, -1.389170271392033484e+01, -2.758547858555557286e-02, -5.517684593591470205e-02, 3.517224791033741332e-02]]\n",
    "tr = np.array(tr)\n",
    "tr[:,0] /= m_unit #QUESTO OK\n",
    "tr[:,1:4] /= conv_pc_UA #QUESTO OK\n",
    "tr[:,1:4] += com #QUESTO OK\n",
    "tr[:,4:7] *= 149597828.67727545 * 2 * np.pi / 31557600 #cosi passo da 2pi*AU/yr a km/s\n",
    "tr[:,4:7] /= v_unit\n",
    "print(tr)\n",
    "print(6.311059631768861644e-01/3.582289575609655330e+00)\n",
    "print(3.582289575609655330e+00/6.311059631768861644e-01)"
   ]
  },
  {
   "cell_type": "markdown",
   "id": "4f1d80ec-23fb-4968-9e8f-a16275483eeb",
   "metadata": {},
   "source": [
    "# REGULARIZATION OUTPUT"
   ]
  },
  {
   "cell_type": "code",
   "execution_count": 9,
   "id": "6d2202a3-4a97-4157-a0bb-2c40bd10d22d",
   "metadata": {},
   "outputs": [
    {
     "name": "stdout",
     "output_type": "stream",
     "text": [
      "STOP, i = 54\n",
      "STOP, i = 57\n",
      "STOP, i = 60\n",
      "STOP, i = 63\n",
      "(63, 14)\n",
      "(63, 14)\n",
      "units: M_sol, year, km/s, UA\n",
      "units: UA, years, deg\n"
     ]
    }
   ],
   "source": [
    "direc = '/home/matti/programming/isteddas/cmake-build-debug/bin/output/'\n",
    "name = 'arc_1360.dat'\n",
    "o, stop, m, N = matti.open_reg(direc, name, 1, True)\n",
    "\n",
    "off = N*3\n",
    "a1, T1, e1, inc1, ome1, Ome1, nu1 = matti.cart_to_kepl(m[0],o[:,0:3], o[:,off:off+3], m[1], o[:,3:6], o[:,off+3:off+6])\n",
    "\n",
    "if(N==3): #hierarchical triple\n",
    "    cm_bin = (o[:,0:3]*m[0]+o[:,3:6]*m[1])/(m[0]+m[1])\n",
    "    cv_bin = (o[:,off:off+3]*m[0]+o[:,off+3:off+6]*m[1])/(m[0]+m[1])\n",
    "    a2, T2, e2, inc2, ome2, Ome2, nu2 = matti.cart_to_kepl(m[0]+m[1], cm_bin, cv_bin, m[2], o[:,6:9], o[:,off+6:off+9])\n",
    "    i_mut = np.arccos( np.cos(inc1)*np.cos(inc2) + np.cos(Ome1-Ome2)*np.sin(inc1)*np.sin(inc2) ) * 180.0 / np.pi\n",
    "    matti.kepl_units(a2,T2,inc2,ome2,Ome2,nu2,t_unit,conv_pc_UA)\n",
    "\n",
    "matti.change_units(o,m,m_unit,t_unit,v_unit,conv_pc_UA)\n",
    "matti.kepl_units(a1,T1,inc1,ome1,Ome1,nu1,t_unit,conv_pc_UA)\n",
    "\n",
    "\n",
    "# direc1 = '/home/matti/programming/figures_py/'\n",
    "# name1 = 'arc_provagamma1.dat'\n",
    "# o1, stop1, m1 = open_reg(direc1, name1)"
   ]
  },
  {
   "cell_type": "code",
   "execution_count": 10,
   "id": "22351914-1b8d-4b74-9879-e32e1c277343",
   "metadata": {},
   "outputs": [],
   "source": [
    "'''controlla dr dot dv'''\n",
    "# for idx in range(o.shape[0]):\n",
    "#     dx = o[idx,x] - o[idx,3+x] ; dy = o[idx,y] - o[idx,3+y] ; dz = o[idx,z] - o[idx,3+z]\n",
    "#     dvx = o[idx,x+v] - o[idx,3+x+v] ; dvy = o[idx,y+v] - o[idx,3+y+v] ; dvz = o[idx,z+v] - o[idx,3+z+v]\n",
    "\n",
    "#     dvx /= v_unit ; dvy /= v_unit ; dvz /= v_unit;\n",
    "#     dx /= conv_pc_UA ; dy /= conv_pc_UA ; dz /= conv_pc_UA;\n",
    "\n",
    "# #     print(dx,dy,dx,dvx,dvy,dvz)\n",
    "#     print(\" dr scalare prod dv = \" + str(dx*dvx+dy*dvy+dz*dvz))\n",
    "    \n",
    "'''controllo su 763 e 1360... cosa fanno prima di diventare reg sys? {xa, ya, za, xb, yb, zb, idem for v}''' \n",
    "con = [[-0.173456, -0.446921, -0.116149, -0.173850, -0.446013, -0.114663, -0.049394, 0.035893, -0.096184, 0.680669, -0.629882, -0.830982], #step 27\n",
    "       [-0.173462, -0.446917, -0.116160, -0.173767, -0.446090, -0.114764, -0.051834, 0.042048, -0.086096, 0.681877, -0.632808, -0.835989], #step 28\n",
    "       [-0.173469, -0.446911, -0.116170, -0.173684, -0.446167, -0.114867, -0.054151, 0.049153, -0.074025, 0.683023, -0.636213, -0.841998], #step 29\n",
    "       [-0.173475, -0.446905, -0.116178, -0.173600, -0.446245, -0.114970, -0.056123, 0.057417, -0.059376, 0.683995, -0.640204, -0.849309], #step 30\n",
    "       [-0.173482, -0.446897, -0.116185, -0.173517, -0.446324, -0.115074, -0.057344, 0.067089, -0.041328, 0.684588, -0.644906, -0.858335], #step 31\n",
    "       [-0.173486, -0.446893, -0.116187, -0.173475, -0.446363, -0.115127, -0.057463, 0.072539, -0.030691, 0.684635, -0.647567, -0.863663], #step 32\n",
    "       [-0.173489, -0.446888, -0.116188, -0.173433, -0.446403, -0.115180, -0.057079, 0.078441, -0.018751, 0.684429, -0.650456, -0.869648], #step 33\n",
    "       [-0.173493, -0.446883, -0.116189, -0.173392, -0.446442, -0.115233, -0.056003, 0.084823, -0.005304, 0.683874, -0.653588, -0.876395], #step 34\n",
    "       [-0.173496, -0.446878, -0.116189, -0.173350, -0.446482, -0.115287, -0.053979, 0.091696, 0.009878, 0.682840, -0.656967, -0.884018], #step 35\n",
    "       [-0.173499, -0.446872, -0.116188, -0.173308, -0.446523, -0.115341, -0.050663, 0.099045, 0.027044, 0.681154, -0.660587, -0.892643], #step 36\n",
    "       [-0.173502, -0.446866, -0.116186, -0.173267, -0.446563, -0.115396, -0.045598, 0.106811, 0.046445, 0.678585, -0.664418, -0.902395], #step 37\n",
    "       [-0.173505, -0.446859, -0.116182, -0.173225, -0.446604, -0.115451, -0.038186, 0.114863, 0.068297, 0.674830, -0.668392, -0.913386], #step 38\n",
    "       [-0.173507, -0.446852, -0.116177, -0.173184, -0.446645, -0.115507, -0.027671, 0.122955, 0.092723, 0.669509, -0.672387, -0.925677], #step 39\n",
    "       [-0.173508, -0.446844, -0.116171, -0.173144, -0.446686, -0.115564, -0.013155, 0.130687, 0.119649, 0.662167, -0.676201, -0.939229]] #step 40\n",
    "con = np.asarray(con)\n",
    "\n",
    "com = [-0.173239388420389, -0.446763661499376, -0.11580322427523,-0.173239388420389, -0.446763661499376, -0.11580322427523,\n",
    "       0.435572503480458, -0.405409311341332, -0.58391996302904, 0.435572503480458, -0.405409311341332, -0.58391996302904]\n",
    "com = np.asarray(com)\n",
    "\n",
    "for i in range(con.shape[0]):\n",
    "    con[i,:] = con[i,:]-com[:]\n",
    "\n",
    "con[:,0:6] *= conv_pc_UA\n",
    "con[:,6:12] *= v_unit\n",
    "\n",
    "'''controllo su 763 e 1360... cosa fanno i loro 2 perturbers? {[x,y,z]A, [x,y,z]B...}''' \n",
    "pert = [[-0.152641131283946, -0.416305348622372, -0.0768164022189047], [-0.202857528771898, -0.388985868135357, -0.100002500703561],\n",
    "        [-0.152253977141167, -0.416889904093163, -0.0775429771130445], [-0.202328717181412, -0.389556625391474, -0.100392276791777],\n",
    "        [-0.152253599188397, -0.416890474515902, -0.0775436865934065], [-0.202328200774970, -0.389557182394459, -0.100392657221779],\n",
    "        [-0.152253596235541, -0.416890478972461, -0.0775436921363020], [-0.202328196740545, -0.389557186746042, -0.100392660193887],\n",
    "        [-0.152253551942703, -0.416890545820837, -0.0775437752797339], [-0.202328136224167, -0.389557252019780, -0.100392704775501],\n",
    "        [-0.152252843257719, -0.416891615393343, -0.0775451055744420], [-0.202327167962159, -0.389558296398218, -0.100393418080563],\n",
    "        [-0.152205599359746, -0.416962913824459, -0.0776337910290463], [-0.202262617326406, -0.389627915802641, -0.100440968501418]]\n",
    "pert = np.asarray(pert)\n",
    "pert *= conv_pc_UA"
   ]
  },
  {
   "cell_type": "code",
   "execution_count": 18,
   "id": "3f6a72fc-543d-4dcf-820d-15253d86c13b",
   "metadata": {},
   "outputs": [
    {
     "data": {
      "application/vnd.jupyter.widget-view+json": {
       "model_id": "0673f13eaed941de8d8b3c404f0c613d",
       "version_major": 2,
       "version_minor": 0
      },
      "text/plain": [
       "Canvas(toolbar=Toolbar(toolitems=[('Home', 'Reset original view', 'home', 'home'), ('Back', 'Back to previous …"
      ]
     },
     "metadata": {},
     "output_type": "display_data"
    }
   ],
   "source": [
    "%matplotlib widget\n",
    "\n",
    "def right_label(X):\n",
    "    if(X==0): return 'X [UA]'\n",
    "    elif(X==1): return 'Y [UA]'\n",
    "    else: return 'Z [UA]'\n",
    "    \n",
    "threeD = true;\n",
    "x=0 ; y=1 ; z=2 ; v=3*N\n",
    "a=0 ; b=o.shape[0] ; j=1\n",
    "\n",
    "''' choose the axis to be visualize, for 2D '''\n",
    "X = x ; Y = z;\n",
    "\n",
    "fig = plt.figure(0, figsize=[n*4.8,n*4.8])\n",
    "if threeD:\n",
    "    ax = fig.add_subplot(projection='3d')\n",
    "\n",
    "for i in range(N):\n",
    "    if not threeD:\n",
    "        _ = plt.quiver(o[a:b,i*3+X],o[a:b:j,i*3+Y],o[a:b:j,i*3+X+v],o[a:b:j,i*3+Y+v], lw=1, color=col[i], zorder=i)\n",
    "#         _ = plt.quiver(con[:,i*3+X],con[:,i*3+Y],con[:,i*3+X+v],con[:,i*3+Y+v],color='black', zorder=i)\n",
    "        _ = plt.plot(con[:,i*3+X],con[:,i*3+Y],color='black', zorder=i)\n",
    "        _ = plt.plot(o[a:b:j,i*3+X],o[a:b:j,i*3+Y], lw=1, color=col[i], label=r'%1.2f M$_\\odot$'%m[i], zorder=i)\n",
    "#         _ = plt.scatter(o[0,i*3+X],o[0,i*3+Y], lw=2, color='purple', marker='*', zorder=10)\n",
    "#         _ = plt.scatter(o[-1,i*3+X],o[-1,i*3+Y], lw=2, color='green', marker='*', zorder=10)\n",
    "    else:\n",
    "        _ = ax.quiver(o[a:b,i*3],o[a:b:j,i*3+y],o[a:b:j,i*3+z],o[a:b:j,i*3+v],o[a:b:j,i*3+y+v],o[a:b:j,i*3+z+v], color=col[i], length=10, zorder=i, label=r'%1.2f M$_\\odot$'%m[i])\n",
    "        _ = ax.quiver(con[:,i*3],con[:,i*3+y],con[:,i*3+z],con[:,i*3+v],con[:,i*3+y+v],con[:,i*3+z+v], color='black', length=5, zorder=i)\n",
    "#         _ = ax.plot(con[:,i*3],con[:,i*3+y],con[:,i*3+z], color='black', zorder=i)\n",
    "#         _ = ax.scatter(pert[:,x],pert[:,y],pert[:,z], color='green', zorder=i)\n",
    "#         _ = ax.scatter(o[a:b:j,i*3],o[a:b:j,i*3+y],o[a:b:j,i*3+z], lw=1, color=col[i], marker='*', label=r'%1.2f M$_\\odot$'%m[i])   \n",
    "#     _ = plt.plot(o1[a:b:j,i*3+x],o1[a:b:j,i*3+z], lw=1, color=col[i], label=r'%1.2f M$_\\odot$'%m[i], zorder=i)\n",
    "\n",
    "if not threeD:\n",
    "    _ = plt.scatter(0, 0, color='black', marker='h', lw=3, label='COM', zorder=10)\n",
    "    _ = plt.xlabel(right_label(X), fontsize=fs)\n",
    "    _ = plt.ylabel(right_label(Y), fontsize=fs)\n",
    "else:\n",
    "    _ = ax.scatter(0, 0, 0, color='black', marker='h', lw=3, label='COM', zorder=10)\n",
    "    _ = ax.set_xlabel('X [UA]', fontsize=fs)\n",
    "    _ = ax.set_ylabel('Y [UA]', fontsize=fs)\n",
    "    _ = ax.set_zlabel('Z [UA]', fontsize=fs)\n",
    "_ = plt.title('t = %1.1f years'%o[b-1,N*6],fontsize=fs)\n",
    "_ = plt.legend(fontsize=fs)"
   ]
  },
  {
   "cell_type": "code",
   "execution_count": 15,
   "id": "827741d1-729f-4eb3-b882-a00b40c5e69e",
   "metadata": {},
   "outputs": [],
   "source": [
    "# %matplotlib widget\n",
    "\n",
    "# a=0 ; b=-1 ; j=1000\n",
    "\n",
    "# fig = plt.figure(0, figsize=[n*4.8,n*4.8])\n",
    "# ax = fig.add_subplot(projection='3d')\n",
    "# for i in range(N):\n",
    "#     _ = ax.scatter(o[a:b:j,i*3],o[a:b:j,i*3+1],o[a:b:j,i*3+2], lw=1, color=col[i], marker='*', label=r'm=%1.2f M$_\\odot$'%m[i])\n",
    "# _ = ax.scatter(0,0, color='black', marker='o',lw=3)\n",
    "# _ = ax.set_xlabel('X [UA]', fontsize=fs)\n",
    "# _ = ax.set_ylabel('Y [UA]', fontsize=fs)\n",
    "# _ = ax.set_zlabel('Z [UA]', fontsize=fs)\n",
    "# _ = plt.title('t=' + str(o[b,N*6]) + ' su un totale di t=' + str(2**(-3)),fontsize=fs)\n",
    "# _ = plt.legend(fontsize=fs)"
   ]
  },
  {
   "cell_type": "markdown",
   "id": "b92d1d5a-45f3-4437-8fe3-99853f378154",
   "metadata": {},
   "source": [
    "## Orbital elements:\n",
    "<img src=\"Orbit1.jpg\" width=\"600\">"
   ]
  },
  {
   "cell_type": "code",
   "execution_count": 15,
   "id": "6c860a13-c483-422f-9151-57a6b79f4dae",
   "metadata": {},
   "outputs": [
    {
     "data": {
      "application/vnd.jupyter.widget-view+json": {
       "model_id": "a60578907dfe4327a167cb10ae5c035b",
       "version_major": 2,
       "version_minor": 0
      },
      "text/plain": [
       "Canvas(toolbar=Toolbar(toolitems=[('Home', 'Reset original view', 'home', 'home'), ('Back', 'Back to previous …"
      ]
     },
     "metadata": {},
     "output_type": "display_data"
    }
   ],
   "source": [
    "%matplotlib widget\n",
    "\n",
    "a=0 ; b=o.shape[0] ; j=1\n",
    "\n",
    "fig = plt.figure(666, figsize=[n*4.8,n*4.8*1.5])\n",
    "gs = fig.add_gridspec(7, hspace=0)\n",
    "axs = gs.subplots(sharex=True)#sharex=True, sharey=True)\n",
    "\n",
    "i=0\n",
    "_ = axs[i].semilogy(o[a:b:j,N*6],a1[a:b:j], lw=1, color='blue', label='int bin'); i+=1\n",
    "# _ = axs[i].semilogy(o[a:b:j,N*6],T1[a:b:j], lw=1, color='blue'); i+=1\n",
    "_ = axs[i].semilogy(o[a:b:j,N*6],e1[a:b:j], lw=1, color='blue'); i+=1\n",
    "_ = axs[i].plot(o[a:b:j,N*6],inc1[a:b:j], lw=1, color='blue'); i+=1\n",
    "_ = axs[i].plot(o[a:b:j,N*6],ome1[a:b:j], lw=1, color='blue'); i+=1\n",
    "_ = axs[i].plot(o[a:b:j,N*6],Ome1[a:b:j], lw=1, color='blue'); i+=1\n",
    "_ = axs[i].plot(o[a:b:j,N*6],nu1[a:b:j], lw=1, color='blue')\n",
    "if(N==3):\n",
    "    i=0\n",
    "    _ = axs[i].semilogy(o[a:b:j,N*6],a2[a:b:j], lw=1, color='red', label='ext bin'); i+=1\n",
    "#     _ = axs[i].semilogy(o[a:b:j,N*6],T2[a:b:j], lw=1, color='red'); i+=1\n",
    "    _ = axs[i].semilogy(o[a:b:j,N*6],e2[a:b:j], lw=1, color='red'); i+=1\n",
    "    _ = axs[i].plot(o[a:b:j,N*6],inc2[a:b:j], lw=1, color='red'); i+=1\n",
    "    _ = axs[i].plot(o[a:b:j,N*6],ome2[a:b:j], lw=1, color='red'); i+=1\n",
    "    _ = axs[i].plot(o[a:b:j,N*6],Ome2[a:b:j], lw=1, color='red'); i+=1\n",
    "    _ = axs[i].plot(o[a:b:j,N*6],nu2[a:b:j], lw=1, color='red'); i+=1\n",
    "    _ = axs[i].plot(o[a:b:j,N*6],i_mut[a:b:j], lw=1, color='green')\n",
    "\n",
    "i=0\n",
    "_ = axs[i].set_ylabel('semi-major\\n axis [AU]', fontsize=fs_small); i+=1\n",
    "# _ = axs[i].set_ylabel('period [years]', fontsize=fs_small); i+=1\n",
    "_ = axs[i].set_ylabel('eccentricity', fontsize=fs_small); i+=1\n",
    "_ = axs[i].set_ylabel('inclination [Deg]', fontsize=fs_small); i+=1\n",
    "_ = axs[i].set_ylabel('omega [Deg]', fontsize=fs_small); i+=1\n",
    "_ = axs[i].set_ylabel('Omega [Deg]', fontsize=fs_small); i+=1\n",
    "_ = axs[i].set_ylabel('nu [Deg]', fontsize=fs_small); i+=1\n",
    "_ = axs[i].set_ylabel('mutual\\n inclination [Deg]', fontsize=fs_small)\n",
    "for ax in axs:\n",
    "    _ = ax.grid()\n",
    "_ = plt.xlabel('t [years]', fontsize=fs)\n",
    "_ = fig.legend(fontsize=fs_small)"
   ]
  },
  {
   "cell_type": "code",
   "execution_count": 12,
   "id": "e130ec6b-35f5-4d07-bb64-0d717bd5e160",
   "metadata": {},
   "outputs": [
    {
     "data": {
      "application/vnd.jupyter.widget-view+json": {
       "model_id": "7c14553adbf24dcfb6d4791b26125d77",
       "version_major": 2,
       "version_minor": 0
      },
      "text/plain": [
       "Canvas(toolbar=Toolbar(toolitems=[('Home', 'Reset original view', 'home', 'home'), ('Back', 'Back to previous …"
      ]
     },
     "metadata": {},
     "output_type": "display_data"
    }
   ],
   "source": [
    "%matplotlib widget\n",
    "i=0 ; f=o.shape[0]\n",
    "_ = plt.figure(1, figsize=[n*4.8,n*4.8])\n",
    "# _ = plt.semilogy(o[i:f,6],o[i:f,7], color='blue')\n",
    "_ = plt.semilogy(o[i:f,N*6],o[i:f,N*6+1], color='blue', label=r'$\\alpha\\beta\\gamma=1,0,0$')\n",
    "# _ = plt.semilogy(o1[i:f,9],o1[i:f,10], color='red', label=r'$\\alpha\\beta\\gamma=0,0,1$')\n",
    "''' the next it is usable only using stops '''\n",
    "# _ = plt.vlines(o[stop,N*6], np.min(o[i:f,N*6+1]), np.max(o[i:f,N*6+1]), linestyle='--', color='red') \n",
    "_ = plt.xticks(fontsize=fs)\n",
    "_ = plt.yticks(fontsize=fs)\n",
    "_ = plt.xlabel('time [years]', fontsize=fs)\n",
    "_ = plt.ylabel('relative error energy', fontsize=fs)\n",
    "_ = plt.legend(fontsize=fs)"
   ]
  },
  {
   "cell_type": "markdown",
   "id": "db4351a4-721d-4378-95e9-353bc716365c",
   "metadata": {},
   "source": [
    "# ISTEDDAS OUTPUT"
   ]
  },
  {
   "cell_type": "code",
   "execution_count": 13,
   "id": "671c6fcd-aa69-4f49-9e9f-54353af454fb",
   "metadata": {},
   "outputs": [
    {
     "name": "stdout",
     "output_type": "stream",
     "text": [
      "(51, 9)\n"
     ]
    }
   ],
   "source": [
    "direc = '/home/matti/programming/isteddas/cmake-build-debug/bin/output/'\n",
    "name = 'diagnostic.dat'\n",
    "f = open(direc + name)\n",
    "file=f.readlines()\n",
    "f.close()\n",
    "file.pop(0)\n",
    "err = np.loadtxt(file)\n",
    "print(err.shape)"
   ]
  },
  {
   "cell_type": "code",
   "execution_count": 14,
   "id": "1aa98048-5ea0-45b5-9b2d-a4f6b539b8eb",
   "metadata": {},
   "outputs": [
    {
     "data": {
      "application/vnd.jupyter.widget-view+json": {
       "model_id": "97f84ff7375342b1b586525cf840998e",
       "version_major": 2,
       "version_minor": 0
      },
      "text/plain": [
       "Canvas(toolbar=Toolbar(toolitems=[('Home', 'Reset original view', 'home', 'home'), ('Back', 'Back to previous …"
      ]
     },
     "metadata": {},
     "output_type": "display_data"
    },
    {
     "data": {
      "application/vnd.jupyter.widget-view+json": {
       "model_id": "b84c306619fa47ccbf8dce1fa51b219a",
       "version_major": 2,
       "version_minor": 0
      },
      "text/plain": [
       "Canvas(toolbar=Toolbar(toolitems=[('Home', 'Reset original view', 'home', 'home'), ('Back', 'Back to previous …"
      ]
     },
     "metadata": {},
     "output_type": "display_data"
    }
   ],
   "source": [
    "%matplotlib widget\n",
    "_ = plt.figure(11, figsize=[n*4.8,n*4.8])\n",
    "_ = plt.semilogy(err[:,0]*t_unit,err[:,1], color='blue')\n",
    "# _ = plt.vlines(o[stop,9], 1e-13, 2e-7, color='red',linestyle='--')\n",
    "_ = plt.xticks(fontsize=fs)\n",
    "_ = plt.yticks(fontsize=fs)\n",
    "_ = plt.xlabel('time [years]', fontsize=fs)\n",
    "_ = plt.ylabel('relative error energy', fontsize=fs)\n",
    "\n",
    "_ = plt.figure(22, figsize=[n*4.8,n*4.8])\n",
    "_ = plt.semilogy(err[:,0]*t_unit,err[:,5], color='blue')\n",
    "# _ = plt.vlines(o[stop,9], 1e-13, 2e-7, color='red',linestyle='--')\n",
    "_ = plt.xticks(fontsize=fs)\n",
    "_ = plt.yticks(fontsize=fs)\n",
    "_ = plt.xlabel('time [years]', fontsize=fs)\n",
    "_ = plt.ylabel('relative error angular momentum', fontsize=fs)"
   ]
  },
  {
   "cell_type": "code",
   "execution_count": null,
   "id": "38086067-6ae7-4a50-9971-803acc050635",
   "metadata": {},
   "outputs": [],
   "source": []
  }
 ],
 "metadata": {
  "kernelspec": {
   "display_name": "Python 3",
   "language": "python",
   "name": "python3"
  },
  "language_info": {
   "codemirror_mode": {
    "name": "ipython",
    "version": 3
   },
   "file_extension": ".py",
   "mimetype": "text/x-python",
   "name": "python",
   "nbconvert_exporter": "python",
   "pygments_lexer": "ipython3",
   "version": "3.8.10"
  }
 },
 "nbformat": 4,
 "nbformat_minor": 5
}
