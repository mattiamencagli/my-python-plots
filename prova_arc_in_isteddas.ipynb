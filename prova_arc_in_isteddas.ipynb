{
 "cells": [
  {
   "cell_type": "code",
   "execution_count": 1,
   "id": "21239bf4-7da5-4a83-8e2b-4e46a962dbd1",
   "metadata": {
    "pycharm": {
     "name": "#%%\n"
    }
   },
   "outputs": [
    {
     "name": "stdout",
     "output_type": "stream",
     "text": [
      "['blue', 'red', 'green', 'orange', 'purple', 'dimgrey', 'navy', 'crimson', 'blue', 'red', 'green', 'orange', 'purple', 'dimgrey', 'navy', 'crimson']\n",
      "T_gw = 1.552276e+01   (dovrebbe essese ~1.3e+1) ok ora funge\n"
     ]
    }
   ],
   "source": [
    "import numpy as np\n",
    "import matplotlib.pylab as plt\n",
    "import matplotlib\n",
    "import matti_func as matti\n",
    "\n",
    "conv_pc_UA = 206264.8062471 \n",
    "m_unit = 1322.412172 #to have M_sol\n",
    "\n",
    "v_unit = 2.38041454521845 #to have km/s\n",
    "t_unit = 0.411046867566472 #to have Megayear\n",
    "t_unit *= 1e6 #to have year\n",
    "\n",
    "n=2\n",
    "fs = 'xx-large'\n",
    "fs_small = 'large'\n",
    "col = ['blue', 'red', 'green', 'orange', 'purple', 'dimgrey', 'navy', 'crimson', 'blue', 'red', 'green', 'orange', 'purple', 'dimgrey', 'navy', 'crimson']\n",
    "col1 = ['deepskyblue', 'salmon', 'lime', 'gold', 'magenta','silver', 'cyan', 'pink', 'deepskyblue', 'salmon', 'lime', 'gold', 'magenta','silver', 'cyan', 'pink']\n",
    "\n",
    "print(col)\n",
    "true = True\n",
    "false = False\n",
    "\n",
    "T_GW = matti.comp_t_gw_in_Gyr(0.1, 10, 10)\n",
    "print(\"T_gw = %e   (dovrebbe essese ~1.3e+1) ok ora funge\"%T_GW)\n",
    "\n",
    "def right_label(X):\n",
    "    if(X==0): return 'X [au]'\n",
    "    elif(X==1): return 'Y [au]'\n",
    "    else: return 'Z [au]'"
   ]
  },
  {
   "cell_type": "code",
   "execution_count": 11,
   "id": "95ea46f9-6b27-4bea-8fc6-bd8beeb483bd",
   "metadata": {
    "pycharm": {
     "name": "#%%\n"
    }
   },
   "outputs": [
    {
     "name": "stdout",
     "output_type": "stream",
     "text": [
      "[[ 3.56336260e-04  3.04673935e-02 -2.42708477e-01  4.06769842e-01\n",
      "   6.21104797e-01 -2.35742375e+00 -5.68106123e+00]\n",
      " [ 2.11540677e-04  3.04662987e-02 -2.42706623e-01  4.06769090e-01\n",
      "  -8.11149743e-01  4.44126481e+00  9.26989431e+00]\n",
      " [ 1.44078116e-04  3.05118656e-02 -2.42424581e-01  4.06685126e-01\n",
      "  -3.45166882e-01 -6.90407447e-01  4.40097318e-01]]\n",
      "0.17617391052745388\n",
      "5.676209360432889\n"
     ]
    }
   ],
   "source": [
    "'''controllo cambio unita isteddas <--> tzunami'''\n",
    "\n",
    "com=np.array((0.030476068014076,  -0.242650473932945,  0.406752474545063))\n",
    "\n",
    "#m,x,y,z,vx,vy,vz\n",
    "tr = [[4.712234077117456454e-01, -1.789243367495202630e+00, -1.196389797594871318e+01, 3.582289575609655330e+00, 4.963823001776352523e-02, -1.884035399647597253e-01, -4.540261575696664664e-01],\n",
    "[2.797439667004745778e-01, -2.015064067415357929e+00, -1.158151700853190036e+01, 3.427192818342689407e+00, -6.482647978706289338e-02, 3.549425565322608667e-01, 7.408430079055652318e-01],\n",
    "[1.905306548366714758e-01, 7.383774403321472946e+00, 4.659370057657135789e+01, -1.389170271392033484e+01, -2.758547858555557286e-02, -5.517684593591470205e-02, 3.517224791033741332e-02]]\n",
    "tr = np.array(tr)\n",
    "tr[:,0] /= m_unit #QUESTO OK\n",
    "tr[:,1:4] /= conv_pc_UA #QUESTO OK\n",
    "tr[:,1:4] += com #QUESTO OK\n",
    "tr[:,4:7] *= 149597828.67727545 * 2 * np.pi / 31557600 #cosi passo da 2pi*AU/yr a km/s\n",
    "tr[:,4:7] /= v_unit\n",
    "print(tr)\n",
    "print(6.311059631768861644e-01/3.582289575609655330e+00)\n",
    "print(3.582289575609655330e+00/6.311059631768861644e-01)"
   ]
  },
  {
   "cell_type": "markdown",
   "id": "4f1d80ec-23fb-4968-9e8f-a16275483eeb",
   "metadata": {
    "pycharm": {
     "name": "#%% md\n"
    }
   },
   "source": [
    "# REGULARIZATION OUTPUT"
   ]
  },
  {
   "cell_type": "code",
   "execution_count": 13,
   "id": "6d2202a3-4a97-4157-a0bb-2c40bd10d22d",
   "metadata": {
    "pycharm": {
     "name": "#%%\n"
    }
   },
   "outputs": [
    {
     "name": "stdout",
     "output_type": "stream",
     "text": [
      "[562, 1495]\n",
      "[0.000622066087089, 0.000529399258757]\n",
      "stops : \n",
      "(140, 14)\n",
      "[1495, 562]\n",
      "[0.0005293992587566, 0.0006220660646859]\n",
      "(57347, 14)\n",
      "[1495, 562]\n",
      "[0.0005293992587566, 0.0006220660646859]\n",
      "(17945, 14)\n",
      "units: M_sol, year, km/s, UA\n",
      "units: M_sol, year, km/s, UA\n",
      "units: M_sol, year, km/s, UA\n"
     ]
    }
   ],
   "source": [
    "direc = '/home/matti/programming/isteddas/cmake-build-debug/bin/output/'\n",
    "# direc1 = '/home/matti/Documents/data/close_enc_4body_rotto/'\n",
    "direc1 = '/home/matti/Documents/data/close_enc/'\n",
    "# name = 'arc_375.dat'\n",
    "name = 'arc_188.dat'\n",
    "name1 = 'arc_188i.dat'\n",
    "name2 = 'arc_188ii.dat'\n",
    "name3 = 'arc_188iio.dat'\n",
    "# name4 = 'arc_188ioio.dat'\n",
    "# nameoioi = 'arc_0oioi.dat'\n",
    "# nameoioio = 'arc_0oioio.dat'\n",
    "name5 = 'arc_562.dat'\n",
    "# name = 'arc_286.dat'\n",
    "# nameo = 'arc_286i.dat'\n",
    "# nameoi = 'arc_286io.dat'\n",
    "names = 'specstars.dat'\n",
    "namesv = 'specstars_562.dat'\n",
    "# o, stop, m, idx, N = matti.open_reg(direc, name, 1,true)\n",
    "# o1, stop1, m1, idx1, N1 = matti.open_reg(direc, name1, 1, true)\n",
    "# o2, stop2, m2, idx2, N2 = matti.open_reg(direc, name2, 1, true)\n",
    "# o3, stop3, m3, idx3, N3 = matti.open_reg(direc, name3, 1, true)\n",
    "# o4, stop4, m4, idx4, N4 = matti.open_reg(direc, name4, 1, true)\n",
    "o5, stop5, m5, idx5, N5 = matti.open_reg(direc, name5, 1, true)\n",
    "os, stops, ms, idxs, Ns = matti.open_reg(direc, names, 1)\n",
    "osv, stopsv, msv, idxsv, Nsv = matti.open_reg(direc1, namesv, 1)\n",
    "\n",
    "# off = N*3\n",
    "# off5 = N5*3\n",
    "# a1, T1, e1, inc1, ome1, Ome1, nu1 = matti.cart_to_kepl(m[0],o[:,0:3], o[:,off:off+3], m[1], o[:,3:6], o[:,off+3:off+6])\n",
    "# af, Tf, ef, incf, omef, Omef, nuf = matti.cart_to_kepl(m5[0],o5[:,0:3], o5[:,off5:off5+3], m5[1], o5[:,3:6], o5[:,off5+3:off5+6])\n",
    "\n",
    "# if(N==3): #hierarchical triple\n",
    "#     cm_bin = (o[:,0:3]*m[0]+o[:,3:6]*m[1])/(m[0]+m[1])\n",
    "#     cv_bin = (o[:,off:off+3]*m[0]+o[:,off+3:off+6]*m[1])/(m[0]+m[1])\n",
    "#     a2, T2, e2, inc2, ome2, Ome2, nu2 = matti.cart_to_kepl(m[0]+m[1], cm_bin, cv_bin, m[2], o[:,6:9], o[:,off+6:off+9])\n",
    "#     i_mut = np.arccos( np.cos(inc1)*np.cos(inc2) + np.cos(Ome1-Ome2)*np.sin(inc1)*np.sin(inc2) ) * 180.0 / np.pi\n",
    "#     dist_mut = ((o[:,6] - cm_bin[:,0])**2 + (o[:,7] - cm_bin[:,1])**2 + (o[:,8] - cm_bin[:,2])**2 )**0.5\n",
    "#     dist_mut *= conv_pc_UA\n",
    "#     matti.kepl_units(a2,T2,inc2,ome2,Ome2,nu2,t_unit,conv_pc_UA)\n",
    "\n",
    "# matti.change_units(o,m,m_unit,t_unit,v_unit,conv_pc_UA)\n",
    "# matti.change_units(o1,m1,m_unit,t_unit,v_unit,conv_pc_UA)\n",
    "# matti.change_units(o2,m2,m_unit,t_unit,v_unit,conv_pc_UA)\n",
    "# matti.change_units(o3,m3,m_unit,t_unit,v_unit,conv_pc_UA)\n",
    "# matti.change_units(o4,m4,m_unit,t_unit,v_unit,conv_pc_UA)\n",
    "matti.change_units(o5,m5,m_unit,t_unit,v_unit,conv_pc_UA)\n",
    "matti.change_units(os,ms,m_unit,t_unit,v_unit,conv_pc_UA)\n",
    "matti.change_units(osv,msv,m_unit,t_unit,v_unit,conv_pc_UA)\n",
    "\n",
    "# matti.kepl_units(a1,T1,inc1,ome1,Ome1,nu1,t_unit,conv_pc_UA)\n",
    "# matti.kepl_units(af,Tf,incf,omef,Omef,nuf,t_unit,conv_pc_UA)\n",
    "\n",
    "# T_GW_i = matti.comp_t_gw_in_Gyr(a1[0], m[0], m[1])\n",
    "# T_GW_f = matti.comp_t_gw_in_Gyr(a1[-1], m[0], m[1])\n",
    "# print(\"a1[0] = %e;     a2[-1] = %e\"%(a1[0],a1[-1]))\n",
    "# print(\"T_gw_i = %e;     T_gw_f = %e\"%(T_GW_i,T_GW_f))\n",
    "\n",
    "\n",
    "# o_com = (o[:,0:3]*m[0]+o[:,3:6]*m[1])/(m[0]+m[1])\n",
    "# o_comV = (o[:,6:9]*m[0]+o[:,9:12]*m[1])/(m[0]+m[1])\n",
    "# osv_com = (osv[:,0:3]*msv[0]+osv[:,3:6]*msv[1])/(msv[0]+msv[1])\n",
    "# o1_comV = (o1[:,6:9]*m[0]+o1[:,9:12]*m[1])/(m[0]+m[1])\n",
    "# print((o1_comV[0,:] - o1_comV[-1,:])/o1_comV[0,:])\n",
    "\n",
    "# direc1 = '/home/matti/programming/figures_py/'\n",
    "# name1 = 'arc_provagamma1.dat'\n",
    "# o1, stop1, m1 = open_reg(direc1, name1))"
   ]
  },
  {
   "cell_type": "code",
   "execution_count": 8,
   "id": "22351914-1b8d-4b74-9879-e32e1c277343",
   "metadata": {
    "pycharm": {
     "name": "#%%\n"
    }
   },
   "outputs": [
    {
     "ename": "NameError",
     "evalue": "name 'o' is not defined",
     "output_type": "error",
     "traceback": [
      "\u001b[0;31m---------------------------------------------------------------------------\u001b[0m",
      "\u001b[0;31mNameError\u001b[0m                                 Traceback (most recent call last)",
      "\u001b[0;32m<ipython-input-8-f1289c07d534>\u001b[0m in \u001b[0;36m<module>\u001b[0;34m\u001b[0m\n\u001b[1;32m     65\u001b[0m \u001b[0mpert\u001b[0m \u001b[0;34m*=\u001b[0m \u001b[0mconv_pc_UA\u001b[0m\u001b[0;34m\u001b[0m\u001b[0;34m\u001b[0m\u001b[0m\n\u001b[1;32m     66\u001b[0m \u001b[0;34m\u001b[0m\u001b[0m\n\u001b[0;32m---> 67\u001b[0;31m \u001b[0mprint\u001b[0m\u001b[0;34m(\u001b[0m\u001b[0mo\u001b[0m\u001b[0;34m[\u001b[0m\u001b[0;36m0\u001b[0m\u001b[0;34m,\u001b[0m\u001b[0;36m0\u001b[0m\u001b[0;34m:\u001b[0m\u001b[0;36m3\u001b[0m\u001b[0;34m]\u001b[0m\u001b[0;34m,\u001b[0m\u001b[0mo\u001b[0m\u001b[0;34m[\u001b[0m\u001b[0;36m0\u001b[0m\u001b[0;34m,\u001b[0m\u001b[0;36m3\u001b[0m\u001b[0;34m:\u001b[0m\u001b[0;36m6\u001b[0m\u001b[0;34m]\u001b[0m\u001b[0;34m,\u001b[0m \u001b[0mo\u001b[0m\u001b[0;34m[\u001b[0m\u001b[0;36m0\u001b[0m\u001b[0;34m,\u001b[0m\u001b[0;36m6\u001b[0m\u001b[0;34m:\u001b[0m\u001b[0;36m9\u001b[0m\u001b[0;34m]\u001b[0m\u001b[0;34m,\u001b[0m \u001b[0mo\u001b[0m\u001b[0;34m[\u001b[0m\u001b[0;36m0\u001b[0m\u001b[0;34m,\u001b[0m\u001b[0;36m9\u001b[0m\u001b[0;34m:\u001b[0m\u001b[0;36m12\u001b[0m\u001b[0;34m]\u001b[0m\u001b[0;34m)\u001b[0m\u001b[0;34m\u001b[0m\u001b[0;34m\u001b[0m\u001b[0m\n\u001b[0m\u001b[1;32m     68\u001b[0m \u001b[0mprint\u001b[0m\u001b[0;34m(\u001b[0m\u001b[0mcon\u001b[0m\u001b[0;34m[\u001b[0m\u001b[0;34m-\u001b[0m\u001b[0;36m1\u001b[0m\u001b[0;34m,\u001b[0m\u001b[0;36m0\u001b[0m\u001b[0;34m:\u001b[0m\u001b[0;36m3\u001b[0m\u001b[0;34m]\u001b[0m\u001b[0;34m,\u001b[0m\u001b[0mcon\u001b[0m\u001b[0;34m[\u001b[0m\u001b[0;34m-\u001b[0m\u001b[0;36m1\u001b[0m\u001b[0;34m,\u001b[0m\u001b[0;36m3\u001b[0m\u001b[0;34m:\u001b[0m\u001b[0;36m6\u001b[0m\u001b[0;34m]\u001b[0m\u001b[0;34m,\u001b[0m \u001b[0mcon\u001b[0m\u001b[0;34m[\u001b[0m\u001b[0;34m-\u001b[0m\u001b[0;36m1\u001b[0m\u001b[0;34m,\u001b[0m\u001b[0;36m6\u001b[0m\u001b[0;34m:\u001b[0m\u001b[0;36m9\u001b[0m\u001b[0;34m]\u001b[0m\u001b[0;34m,\u001b[0m \u001b[0mcon\u001b[0m\u001b[0;34m[\u001b[0m\u001b[0;34m-\u001b[0m\u001b[0;36m1\u001b[0m\u001b[0;34m,\u001b[0m\u001b[0;36m9\u001b[0m\u001b[0;34m:\u001b[0m\u001b[0;36m12\u001b[0m\u001b[0;34m]\u001b[0m\u001b[0;34m)\u001b[0m\u001b[0;34m\u001b[0m\u001b[0;34m\u001b[0m\u001b[0m\n",
      "\u001b[0;31mNameError\u001b[0m: name 'o' is not defined"
     ]
    }
   ],
   "source": [
    "'''controlla dr dot dv'''\n",
    "# for idx in range(o.shape[0]):\n",
    "#     dx = o[idx,x] - o[idx,3+x] ; dy = o[idx,y] - o[idx,3+y] ; dz = o[idx,z] - o[idx,3+z]\n",
    "#     dvx = o[idx,x+v] - o[idx,3+x+v] ; dvy = o[idx,y+v] - o[idx,3+y+v] ; dvz = o[idx,z+v] - o[idx,3+z+v]\n",
    "\n",
    "#     dvx /= v_unit ; dvy /= v_unit ; dvz /= v_unit;\n",
    "#     dx /= conv_pc_UA ; dy /= conv_pc_UA ; dz /= conv_pc_UA;\n",
    "\n",
    "# #     print(dx,dy,dx,dvx,dvy,dvz)\n",
    "#     print(\" dr scalare prod dv = \" + str(dx*dvx+dy*dvy+dz*dvz))\n",
    "    \n",
    "'''controllo su 763 e 1360... cosa fanno prima di diventare reg sys? {xa, ya, za, xb, yb, zb, idem for v} (dopo corrector)''' \n",
    "con = [[-0.173456, -0.446921, -0.116149, -0.173850, -0.446013, -0.114663, -0.049394, 0.035893, -0.096184, 0.680669, -0.629882, -0.830982], #step 26\n",
    "       [-0.173462, -0.446917, -0.116160, -0.173767, -0.446090, -0.114764, -0.051834, 0.042048, -0.086096, 0.681877, -0.632808, -0.835989], #step 27\n",
    "       [-0.173469, -0.446911, -0.116170, -0.173684, -0.446167, -0.114867, -0.054151, 0.049153, -0.074025, 0.683023, -0.636213, -0.841998], #step 28\n",
    "       [-0.173475, -0.446905, -0.116178, -0.173600, -0.446245, -0.114970, -0.056123, 0.057417, -0.059376, 0.683995, -0.640204, -0.849309], #step 29\n",
    "       [-0.173482, -0.446897, -0.116185, -0.173517, -0.446324, -0.115074, -0.057344, 0.067089, -0.041328, 0.684588, -0.644906, -0.858335], #step 30\n",
    "       [-0.173486, -0.446893, -0.116187, -0.173475, -0.446363, -0.115127, -0.057463, 0.072539, -0.030691, 0.684635, -0.647567, -0.863663], #step 31\n",
    "       [-0.173489, -0.446888, -0.116188, -0.173433, -0.446403, -0.115180, -0.057079, 0.078441, -0.018751, 0.684429, -0.650456, -0.869648], #step 32\n",
    "       [-0.173493, -0.446883, -0.116189, -0.173392, -0.446442, -0.115233, -0.056003, 0.084823, -0.005304, 0.683874, -0.653588, -0.876395], #step 33\n",
    "       [-0.173496, -0.446878, -0.116189, -0.173350, -0.446482, -0.115287, -0.053979, 0.091696, 0.009878, 0.682840, -0.656967, -0.884018], #step 34\n",
    "       [-0.173499, -0.446872, -0.116188, -0.173308, -0.446523, -0.115341, -0.050663, 0.099045, 0.027044, 0.681154, -0.660587, -0.892643], #step 35\n",
    "       [-0.173502, -0.446866, -0.116186, -0.173267, -0.446563, -0.115396, -0.045598, 0.106811, 0.046445, 0.678585, -0.664418, -0.902395], #step 36\n",
    "       [-0.173505, -0.446859, -0.116182, -0.173225, -0.446604, -0.115451, -0.038186, 0.114863, 0.068297, 0.674830, -0.668392, -0.913386], #step 37\n",
    "       [-0.173507, -0.446852, -0.116177, -0.173184, -0.446645, -0.115507, -0.027671, 0.122955, 0.092723, 0.669509, -0.672387, -0.925677], #step 38\n",
    "       [-0.173508, -0.446844, -0.116171, -0.173144, -0.446686, -0.115564, -0.013155, 0.130687, 0.119649, 0.662167, -0.676201, -0.939229], #step 39\n",
    "       [-0.173508, -0.446836, -0.116163, -0.173104, -0.446727, -0.115622, 0.006333, 0.137457, 0.148660, 0.652315, -0.679528, -0.953835,]] #step 40 (I)\n",
    "con = np.asarray(con)\n",
    "con[:,0:6] *= conv_pc_UA\n",
    "con[:,6:12] *= v_unit\n",
    "\n",
    "# com = [[-0.173239388420389, -0.446763661499376, -0.11580322427523], \n",
    "#        [-0.092206, 0.052735, 0.316517]]\n",
    "# comV = [[0.435572503480458, -0.405409311341332, -0.58391996302904],\n",
    "#         [-0.078224, -0.067070, 0.713140]]\n",
    "com = [[-0.173239388367338,  -0.446763661415534,  -0.115803224230329]]\n",
    "comV = [[0.435572523543048,  -0.405409276987522,  -0.583919944671586]]\n",
    "com = np.asarray(com)\n",
    "comV = np.asarray(comV)\n",
    "com *= conv_pc_UA\n",
    "comV *= v_unit\n",
    "\n",
    "# con[:,0:3] -= com[0,:]\n",
    "# con[:,3:6] -= com[0,:]\n",
    "# con[:,6:9] -= comV[0,:]\n",
    "# con[:,9:12] -= comV[0,:]\n",
    "\n",
    "# for i in range(N):\n",
    "#     o[:,i*3:i*3+3] += com[0,:]\n",
    "#     o[:,i*3+3*N:i*3+3+3*N] += comV[0,:]\n",
    "#     o[0:stop[0],i*3:i*3+3] += com[0,:] #questo e' quello con gli stop trslati da diversi com\n",
    "#     o[0:stop[0],i*3+3*N:i*3+3+3*N] += comV[0,:]\n",
    "#     o[stop[0]:,i*3:i*3+3] += com[1,:]\n",
    "#     o[stop[0]:,i*3+3*N:i*3+3+3*N] += comV[1,:]\n",
    "\n",
    "'''controllo su 763 e 1360... cosa fanno i loro 2 perturbers? {[x,y,z]A, [x,y,z]B...}''' \n",
    "pert = [[-0.152641131283946, -0.416305348622372, -0.0768164022189047], [-0.202857528771898, -0.388985868135357, -0.100002500703561],\n",
    "        [-0.152253977141167, -0.416889904093163, -0.0775429771130445], [-0.202328717181412, -0.389556625391474, -0.100392276791777],\n",
    "        [-0.152253599188397, -0.416890474515902, -0.0775436865934065], [-0.202328200774970, -0.389557182394459, -0.100392657221779],\n",
    "        [-0.152253596235541, -0.416890478972461, -0.0775436921363020], [-0.202328196740545, -0.389557186746042, -0.100392660193887],\n",
    "        [-0.152253551942703, -0.416890545820837, -0.0775437752797339], [-0.202328136224167, -0.389557252019780, -0.100392704775501],\n",
    "        [-0.152252843257719, -0.416891615393343, -0.0775451055744420], [-0.202327167962159, -0.389558296398218, -0.100393418080563],\n",
    "        [-0.152205599359746, -0.416962913824459, -0.0776337910290463], [-0.202262617326406, -0.389627915802641, -0.100440968501418]]\n",
    "pert = np.asarray(pert)\n",
    "pert *= conv_pc_UA\n",
    "\n",
    "print(o[0,0:3],o[0,3:6], o[0,6:9], o[0,9:12])\n",
    "print(con[-1,0:3],con[-1,3:6], con[-1,6:9], con[-1,9:12])"
   ]
  },
  {
   "cell_type": "code",
   "execution_count": 29,
   "id": "3f6a72fc-543d-4dcf-820d-15253d86c13b",
   "metadata": {
    "pycharm": {
     "name": "#%%\n"
    }
   },
   "outputs": [
    {
     "data": {
      "application/vnd.jupyter.widget-view+json": {
       "model_id": "113d236f354b475f91d09d2520d98726",
       "version_major": 2,
       "version_minor": 0
      },
      "text/plain": [
       "Canvas(toolbar=Toolbar(toolitems=[('Home', 'Reset original view', 'home', 'home'), ('Back', 'Back to previous …"
      ]
     },
     "metadata": {},
     "output_type": "display_data"
    }
   ],
   "source": [
    "%matplotlib widget\n",
    "\n",
    "threeD = false;\n",
    "x=0 ; y=1 ; z=2 ; v=3*N\n",
    "a=0 ; b=o.shape[0] ; j=1\n",
    "\n",
    "fine = 40\n",
    "\n",
    "\n",
    "''' choose the axis to be visualize, for 2D '''\n",
    "X = x ; Y = z;\n",
    "\n",
    "fig = plt.figure(0, figsize=[n*4.8,n*4.8])\n",
    "if threeD:\n",
    "    ax = fig.add_subplot(projection='3d')\n",
    "\n",
    "for i in range(N):\n",
    "    if not threeD:\n",
    "#         _ = plt.quiver(con[:,i*3+X],con[:,i*3+Y],con[:,i*3+X+v],con[:,i*3+Y+v], width=0.001,color='black', zorder=i)\n",
    "#         _ = plt.plot(con[:,i*3+X],con[:,i*3+Y],color='black', zorder=i)\n",
    "#         _ = plt.quiver(o[a:b:j,i*3+X],o[a:b:j,i*3+Y],o[a:b:j,i*3+X+v],o[a:b:j,i*3+Y+v], width=0.001, color=col[i], zorder=i)\n",
    "        _ = plt.scatter(o[a:b:j,i*3+X],o[a:b:j,i*3+Y], s=0.8, color=col[i], label=r'%1.2f M$_\\odot$'%m[i], zorder=i)\n",
    "#         _ = plt.scatter(os[:,i*3+X],os[:,i*3+Y], s=6, color=col1[i], label=r'%1.2f M$_\\odot$'%m[i], zorder=-2)\n",
    "#         _ = plt.scatter(o[stop,i*3+X],o[stop,i*3+Y], s=1,color='black', label='stops', zorder=5)\n",
    "#         _ = plt.plot(osv[:,i*3+X],osv[:,i*3+Y], lw=1, color='green', linestyle='--',zorder=-1)\n",
    "        _ = plt.scatter(o[0,i*3+X],o[0,i*3+Y], lw=2, color='purple', marker='*', zorder=10)\n",
    "#         _ = plt.scatter(o[-1,i*3+X],o[-1,i*3+Y], lw=2, color='purple', marker='*', zorder=10)\n",
    "    else:\n",
    "#         _ = ax.quiver(o[a:b,i*3],o[a:b:j,i*3+y],o[a:b:j,i*3+z],o[a:b:j,i*3+v],o[a:b:j,i*3+y+v],o[a:b:j,i*3+z+v], color=col[i], length=10, zorder=i, label=r'%1.2f M$_\\odot$'%m[i])\n",
    "#         _ = ax.quiver(con[:,i*3],con[:,i*3+y],con[:,i*3+z],con[:,i*3+v],con[:,i*3+y+v],con[:,i*3+z+v], color='black', length=10, zorder=i)\n",
    "#         _ = ax.plot(con[:,i*3],con[:,i*3+y],con[:,i*3+z], color='black', zorder=i)\n",
    "#         _ = ax.scatter(pert[:,x],pert[:,y],pert[:,z], color='green', zorder=i)\n",
    "        _ = ax.plot(o[a:b:j,i*3],o[a:b:j,i*3+y],o[a:b:j,i*3+z], lw=1, color=col[i], marker='*', label=r'%1.2f M$_\\odot$'%m[i])   \n",
    "#     _ = plt.plot(o1[a:b:j,i*3+x],o1[a:b:j,i*3+z], lw=1, color=col[i], label=r'%1.2f M$_\\odot$'%m[i], zorder=i)\n",
    "\n",
    "# _ = plt.plot(osv_com[:,X],osv_com[:,Y], lw=1, color='magenta', linestyle='--', label='com isteddas', zorder=0)\n",
    "# _ = plt.plot(o_com[:,X],o_com[:,Y], lw=1, color='darkred',  label='com ARChain', zorder=0)\n",
    "\n",
    "if not threeD:\n",
    "#     _ = plt.scatter(0, 0, color='black', marker='h', lw=3, label='COM', zorder=10)\n",
    "#     _ = plt.scatter(com[0,X], com[0,Y], color='black', marker='h', lw=3, label='COM', zorder=10)\n",
    "    _ = plt.xlabel(right_label(X), fontsize=fs)\n",
    "    _ = plt.ylabel(right_label(Y), fontsize=fs)\n",
    "else:\n",
    "#     _ = ax.scatter(0, 0, 0, color='black', marker='h', lw=3, label='COM', zorder=10)\n",
    "#     _ = ax.scatter(com[0,x], com[0,y], com[0,z], color='black', marker='h', lw=3, label='COM', zorder=10)\n",
    "    _ = ax.set_xlabel('X [au]', fontsize=fs)\n",
    "    _ = ax.set_ylabel('Y [au]', fontsize=fs)\n",
    "    _ = ax.set_zlabel('Z [au]', fontsize=fs)\n",
    "_ = plt.title('t = %1.1f years'%o[b-1,N*6],fontsize=fs)\n",
    "_ = plt.legend(fontsize=fs)"
   ]
  },
  {
   "cell_type": "code",
   "execution_count": 16,
   "id": "eb6c61d0-3123-4f4a-a3af-9cae3a04d1d8",
   "metadata": {
    "pycharm": {
     "name": "#%%\n"
    }
   },
   "outputs": [
    {
     "data": {
      "application/vnd.jupyter.widget-view+json": {
       "model_id": "688692a176914e03b369304d13b53454",
       "version_major": 2,
       "version_minor": 0
      },
      "text/plain": [
       "Canvas(toolbar=Toolbar(toolitems=[('Home', 'Reset original view', 'home', 'home'), ('Back', 'Back to previous …"
      ]
     },
     "metadata": {},
     "output_type": "display_data"
    }
   ],
   "source": [
    "%matplotlib widget\n",
    "    \n",
    "x=0 ; y=1 ; z=2 ;# v=3*N\n",
    "X = x ; Y = y\n",
    "\n",
    "iii = 1\n",
    "fig = plt.figure(0, figsize=[n*4.8,n*4.8])\n",
    "# for i in range(N):\n",
    "#     _ = plt.scatter(o[:,i*3+X],o[:,i*3+Y], s=15, color=col[i], label=r'%d: %1.2f M$_\\odot$ %d(%d-body)'%(idx[i],m[i],iii,N), zorder=i)\n",
    "#     _ = plt.scatter(o[0,i*3+X],o[0,i*3+Y], s=30, color='black', marker='*', zorder=i)\n",
    "#     _ = plt.title('t = %1.1f years'%o[-1,N*6],fontsize=fs)\n",
    "# iii += 1\n",
    "# for i in range(N1):\n",
    "#     _ = plt.scatter(o1[:,i*3+X],o1[:,i*3+Y], s=15, color=col[i], label=r'%d: %1.2f M$_\\odot$ %d(%d-body)'%(idx1[i],m1[i],iii,N1), zorder=i)\n",
    "#     _ = plt.scatter(o1[0,i*3+X],o1[0,i*3+Y], s=30, color='black', marker='*', zorder=i)\n",
    "#     _ = plt.title('t = %1.1f years'%o1[-1,N1*6],fontsize=fs)\n",
    "# iii += 1\n",
    "# for i in range(N2):\n",
    "#     _ = plt.scatter(o2[:,i*3+X],o2[:,i*3+Y], s=15, color=col[i], label=r'%d: %1.2f M$_\\odot$ %d(%d-body)'%(idx2[i],m2[i],iii,N2), zorder=i)\n",
    "#     _ = plt.scatter(o2[0,i*3+X],o2[0,i*3+Y], s=30, color='black', marker='*', zorder=i)\n",
    "#     _ = plt.title('t = %1.1f years'%o2[-1,N2*6],fontsize=fs)\n",
    "# iii += 1\n",
    "# for i in range(N3):\n",
    "#     _ = plt.scatter(o3[:,i*3+X],o3[:,i*3+Y], s=15, color=col[i], label=r'%d: %1.2f M$_\\odot$ %d(%d-body)'%(idx3[i],m3[i],iii,N3), zorder=i)\n",
    "#     _ = plt.scatter(o3[0,i*3+X],o3[0,i*3+Y], s=30, color='black', marker='*', zorder=i)\n",
    "#     _ = plt.title('t = %1.1f years'%o3[-1,N3*6],fontsize=fs)\n",
    "iii += 1\n",
    "# for i in range(N4):\n",
    "#     _ = plt.scatter(o4[:,i*3+X],o4[:,i*3+Y], s=15, color=col[i], label=r'%d: %1.2f M$_\\odot$ %d(%d-body)'%(idx4[i],m4[i],iii,N4), zorder=i)\n",
    "#     _ = plt.scatter(o4[0,i*3+X],o4[0,i*3+Y], s=30, color='black', marker='*', zorder=i)\n",
    "#     _ = plt.title('t = %1.1f years'%o4[-1,N4*6],fontsize=fs)\n",
    "iii += 1\n",
    "for i in range(N5):\n",
    "    _ = plt.scatter(o5[:,i*3+X],o5[:,i*3+Y], s=15, color=col[i], label=r'%d: %1.2f M$_\\odot$ %d(%d-body)'%(idx5[i],m5[i],iii,N5), zorder=i)\n",
    "    _ = plt.scatter(o5[0,i*3+X],o5[0,i*3+Y], s=30, color='black', marker='*', zorder=i)\n",
    "    _ = plt.title('t = %1.1f years'%o5[-1,N5*6],fontsize=fs)\n",
    "\n",
    "# N_ist = max(N,N1,N2)\n",
    "\n",
    "for i in range(Ns):\n",
    "#     if(i<N_ist): lab = r'%1.2f M$_\\odot$ (Ist)'%ms[i]\n",
    "#     else: lab = r'%1.2f M$_\\odot$ (Pert)'%ms[i]\n",
    "    lab = r'%d: %1.2f M$_\\odot$'%(idxs[i],ms[i])\n",
    "#     _ = plt.scatter(os[:,i*3+X],os[:,i*3+Y], s=10, color=col1[i],label=lab, zorder=12)\n",
    "#     _ = plt.scatter(os[0,i*3+X],os[0,i*3+Y], s=30, color=\"black\",marker='*', zorder=132)\n",
    "    _ = plt.scatter(os[:,i*3+X],os[:,i*3+Y], s=10,label=lab, zorder=-12)\n",
    "    _ = plt.scatter(os[0,i*3+X],os[0,i*3+Y], s=30,marker='*', zorder=-11)\n",
    "    \n",
    "for i in range(Nsv):\n",
    "    _ = plt.scatter(osv[:,i*3+X],osv[:,i*3+Y], s=5, label=r'%d: %1.2f M$_\\odot$ NOREG'%(idxs[i],ms[i]), zorder=13)\n",
    "    _ = plt.scatter(osv[0,i*3+X],osv[0,i*3+Y], s=15, color=\"black\",marker='*', zorder=133)\n",
    "\n",
    "_ = plt.xlabel(right_label(X), fontsize=fs)\n",
    "_ = plt.ylabel(right_label(Y), fontsize=fs)\n",
    "_ = plt.grid()\n",
    "_ = plt.legend(fontsize=fs_small)"
   ]
  },
  {
   "cell_type": "code",
   "execution_count": 4,
   "id": "d88be8db-7425-44e3-9042-58d3d93c5750",
   "metadata": {
    "pycharm": {
     "name": "#%%\n"
    }
   },
   "outputs": [
    {
     "data": {
      "application/vnd.jupyter.widget-view+json": {
       "model_id": "3789df8d2d0e49b9a2c2c29dc91a3144",
       "version_major": 2,
       "version_minor": 0
      },
      "text/plain": [
       "Canvas(toolbar=Toolbar(toolitems=[('Home', 'Reset original view', 'home', 'home'), ('Back', 'Back to previous …"
      ]
     },
     "metadata": {},
     "output_type": "display_data"
    },
    {
     "ename": "NameError",
     "evalue": "name 'N3' is not defined",
     "output_type": "error",
     "traceback": [
      "\u001b[0;31m---------------------------------------------------------------------------\u001b[0m",
      "\u001b[0;31mNameError\u001b[0m                                 Traceback (most recent call last)",
      "\u001b[0;32m<ipython-input-4-c42de027088c>\u001b[0m in \u001b[0;36m<module>\u001b[0;34m\u001b[0m\n\u001b[1;32m     22\u001b[0m     \u001b[0m_\u001b[0m \u001b[0;34m=\u001b[0m \u001b[0mplt\u001b[0m\u001b[0;34m.\u001b[0m\u001b[0mtitle\u001b[0m\u001b[0;34m(\u001b[0m\u001b[0;34m't = %1.1f years'\u001b[0m\u001b[0;34m%\u001b[0m\u001b[0mo2\u001b[0m\u001b[0;34m[\u001b[0m\u001b[0;34m-\u001b[0m\u001b[0;36m1\u001b[0m\u001b[0;34m,\u001b[0m\u001b[0mN2\u001b[0m\u001b[0;34m*\u001b[0m\u001b[0;36m6\u001b[0m\u001b[0;34m]\u001b[0m\u001b[0;34m,\u001b[0m\u001b[0mfontsize\u001b[0m\u001b[0;34m=\u001b[0m\u001b[0mfs\u001b[0m\u001b[0;34m)\u001b[0m\u001b[0;34m\u001b[0m\u001b[0;34m\u001b[0m\u001b[0m\n\u001b[1;32m     23\u001b[0m \u001b[0miii\u001b[0m \u001b[0;34m+=\u001b[0m \u001b[0;36m1\u001b[0m\u001b[0;34m\u001b[0m\u001b[0;34m\u001b[0m\u001b[0m\n\u001b[0;32m---> 24\u001b[0;31m \u001b[0;32mfor\u001b[0m \u001b[0mi\u001b[0m \u001b[0;32min\u001b[0m \u001b[0mrange\u001b[0m\u001b[0;34m(\u001b[0m\u001b[0mN3\u001b[0m\u001b[0;34m)\u001b[0m\u001b[0;34m:\u001b[0m\u001b[0;34m\u001b[0m\u001b[0;34m\u001b[0m\u001b[0m\n\u001b[0m\u001b[1;32m     25\u001b[0m     \u001b[0m_\u001b[0m \u001b[0;34m=\u001b[0m \u001b[0max\u001b[0m\u001b[0;34m.\u001b[0m\u001b[0mscatter\u001b[0m\u001b[0;34m(\u001b[0m\u001b[0mo3\u001b[0m\u001b[0;34m[\u001b[0m\u001b[0;34m:\u001b[0m\u001b[0;34m,\u001b[0m\u001b[0mi\u001b[0m\u001b[0;34m*\u001b[0m\u001b[0;36m3\u001b[0m\u001b[0;34m+\u001b[0m\u001b[0mX\u001b[0m\u001b[0;34m]\u001b[0m\u001b[0;34m,\u001b[0m\u001b[0mo3\u001b[0m\u001b[0;34m[\u001b[0m\u001b[0;34m:\u001b[0m\u001b[0;34m,\u001b[0m\u001b[0mi\u001b[0m\u001b[0;34m*\u001b[0m\u001b[0;36m3\u001b[0m\u001b[0;34m+\u001b[0m\u001b[0mY\u001b[0m\u001b[0;34m]\u001b[0m\u001b[0;34m,\u001b[0m \u001b[0mo3\u001b[0m\u001b[0;34m[\u001b[0m\u001b[0;34m:\u001b[0m\u001b[0;34m,\u001b[0m\u001b[0mi\u001b[0m\u001b[0;34m*\u001b[0m\u001b[0;36m3\u001b[0m\u001b[0;34m+\u001b[0m\u001b[0mZ\u001b[0m\u001b[0;34m]\u001b[0m\u001b[0;34m,\u001b[0m \u001b[0ms\u001b[0m\u001b[0;34m=\u001b[0m\u001b[0;36m15\u001b[0m\u001b[0;34m,\u001b[0m \u001b[0mcolor\u001b[0m\u001b[0;34m=\u001b[0m\u001b[0mcol\u001b[0m\u001b[0;34m[\u001b[0m\u001b[0mi\u001b[0m\u001b[0;34m]\u001b[0m\u001b[0;34m,\u001b[0m \u001b[0mlabel\u001b[0m\u001b[0;34m=\u001b[0m\u001b[0;34mr'%1.2f M$_\\odot$ %d(%d-body)'\u001b[0m\u001b[0;34m%\u001b[0m\u001b[0;34m(\u001b[0m\u001b[0mm3\u001b[0m\u001b[0;34m[\u001b[0m\u001b[0mi\u001b[0m\u001b[0;34m]\u001b[0m\u001b[0;34m,\u001b[0m\u001b[0miii\u001b[0m\u001b[0;34m,\u001b[0m\u001b[0mN3\u001b[0m\u001b[0;34m)\u001b[0m\u001b[0;34m,\u001b[0m \u001b[0mzorder\u001b[0m\u001b[0;34m=\u001b[0m\u001b[0mi\u001b[0m\u001b[0;34m)\u001b[0m\u001b[0;34m\u001b[0m\u001b[0;34m\u001b[0m\u001b[0m\n\u001b[1;32m     26\u001b[0m     \u001b[0m_\u001b[0m \u001b[0;34m=\u001b[0m \u001b[0max\u001b[0m\u001b[0;34m.\u001b[0m\u001b[0mscatter\u001b[0m\u001b[0;34m(\u001b[0m\u001b[0mo3\u001b[0m\u001b[0;34m[\u001b[0m\u001b[0;36m0\u001b[0m\u001b[0;34m,\u001b[0m\u001b[0mi\u001b[0m\u001b[0;34m*\u001b[0m\u001b[0;36m3\u001b[0m\u001b[0;34m+\u001b[0m\u001b[0mX\u001b[0m\u001b[0;34m]\u001b[0m\u001b[0;34m,\u001b[0m\u001b[0mo3\u001b[0m\u001b[0;34m[\u001b[0m\u001b[0;36m0\u001b[0m\u001b[0;34m,\u001b[0m\u001b[0mi\u001b[0m\u001b[0;34m*\u001b[0m\u001b[0;36m3\u001b[0m\u001b[0;34m+\u001b[0m\u001b[0mY\u001b[0m\u001b[0;34m]\u001b[0m\u001b[0;34m,\u001b[0m \u001b[0mo3\u001b[0m\u001b[0;34m[\u001b[0m\u001b[0;36m0\u001b[0m\u001b[0;34m,\u001b[0m\u001b[0mi\u001b[0m\u001b[0;34m*\u001b[0m\u001b[0;36m3\u001b[0m\u001b[0;34m+\u001b[0m\u001b[0mZ\u001b[0m\u001b[0;34m]\u001b[0m\u001b[0;34m,\u001b[0m \u001b[0ms\u001b[0m\u001b[0;34m=\u001b[0m\u001b[0;36m30\u001b[0m\u001b[0;34m,\u001b[0m \u001b[0mcolor\u001b[0m\u001b[0;34m=\u001b[0m\u001b[0;34m'black'\u001b[0m\u001b[0;34m,\u001b[0m \u001b[0mmarker\u001b[0m\u001b[0;34m=\u001b[0m\u001b[0;34m'*'\u001b[0m\u001b[0;34m,\u001b[0m \u001b[0mzorder\u001b[0m\u001b[0;34m=\u001b[0m\u001b[0mi\u001b[0m\u001b[0;34m)\u001b[0m\u001b[0;34m\u001b[0m\u001b[0;34m\u001b[0m\u001b[0m\n",
      "\u001b[0;31mNameError\u001b[0m: name 'N3' is not defined"
     ]
    }
   ],
   "source": [
    "%matplotlib widget\n",
    "    \n",
    "x=0 ; y=1 ; z=2 ; v=3*N\n",
    "X = x ; Y = y ; Z = z\n",
    "\n",
    "iii = 1\n",
    "fig = plt.figure(0, figsize=[n*4.8,n*4.8])\n",
    "ax = fig.add_subplot(projection='3d')\n",
    "for i in range(N):\n",
    "    _ = ax.scatter(o[:,i*3+X],o[:,i*3+Y],o[:,i*3+Z], s=15, color=col[i], label=r'%1.2f M$_\\odot$ %d(%d-body)'%(m[i],iii,N), zorder=i)\n",
    "    _ = ax.scatter(o[0,i*3+X],o[0,i*3+Y],o[0,i*3+z], s=30, color='black', marker='*', zorder=i)\n",
    "    _ = plt.title('t = %1.1f years'%o[-1,N*6],fontsize=fs)\n",
    "iii += 1\n",
    "for i in range(N1):\n",
    "    _ = ax.scatter(o1[:,i*3+X],o1[:,i*3+Y],o1[:,i*3+Z], s=15, color=col[i], label=r'%1.2f M$_\\odot$ %d(%d-body)'%(m1[i],iii,N1), zorder=i)\n",
    "    _ = ax.scatter(o1[0,i*3+X],o1[0,i*3+Y],o1[0,i*3+Z], s=30, color='black', marker='*', zorder=i)\n",
    "    _ = plt.title('t = %1.1f years'%o1[-1,N1*6],fontsize=fs)\n",
    "iii += 1\n",
    "for i in range(N2):\n",
    "    _ = ax.scatter(o2[:,i*3+X],o2[:,i*3+Y],o2[:,i*3+Z], s=15, color=col[i], label=r'%1.2f M$_\\odot$ %d(%d-body)'%(m2[i],iii,N2), zorder=i)\n",
    "    _ = ax.scatter(o2[0,i*3+X],o2[0,i*3+Y],o2[0,i*3+Z], s=30, color='black', marker='*', zorder=i)\n",
    "    _ = plt.title('t = %1.1f years'%o2[-1,N2*6],fontsize=fs)\n",
    "iii += 1\n",
    "for i in range(N3):\n",
    "    _ = ax.scatter(o3[:,i*3+X],o3[:,i*3+Y], o3[:,i*3+Z], s=15, color=col[i], label=r'%1.2f M$_\\odot$ %d(%d-body)'%(m3[i],iii,N3), zorder=i)\n",
    "    _ = ax.scatter(o3[0,i*3+X],o3[0,i*3+Y], o3[0,i*3+Z], s=30, color='black', marker='*', zorder=i)\n",
    "    _ = plt.title('t = %1.1f years'%o3[-1,N3*6],fontsize=fs)\n",
    "iii += 1\n",
    "# for i in range(N4):\n",
    "#     _ = plt.scatter(o4[:,i*3+X],o4[:,i*3+Y], lw=0.00001, color=col[i], zorder=i)\n",
    "#     _ = plt.title('t = %1.1f years'%o4[-1,N4*6],fontsize=fs)\n",
    "iii += 1\n",
    "for i in range(N5):\n",
    "    _ = ax.scatter(o5[:,i*3+X],o5[:,i*3+Y], o5[:,i*3+Z], s=15, color=col[i], label=r'%1.2f M$_\\odot$ %d(%d-body)'%(m5[i],iii,N5), zorder=i)\n",
    "    _ = ax.scatter(o5[0,i*3+X],o5[0,i*3+Y], o5[:,i*3+Z], s=30, color='black', marker='*', zorder=i)\n",
    "    _ = plt.title('t = %1.1f years'%o5[-1,N5*6],fontsize=fs)\n",
    "\n",
    "N_ist = max(N,N1,N2,N3)\n",
    "\n",
    "for i in range(Ns):\n",
    "    if(i<N_ist): lab = r'%1.2f M$_\\odot$ (Ist)'%ms[i]\n",
    "    else: lab = r'%1.2f M$_\\odot$ (Pert)'%ms[i]\n",
    "    _ = ax.scatter(os[:,i*3+X],os[:,i*3+Y],os[:,i*3+Z], s=10, color=col1[i],label=lab, zorder=12)\n",
    "    _ = ax.scatter(os[0,i*3+X],os[0,i*3+Y],os[0,i*3+Z], s=30, color=\"black\",marker='*', zorder=132)\n",
    "    \n",
    "for i in range(Nsv):\n",
    "    _ = ax.scatter(osv[:,i*3+X],osv[:,i*3+Y],osv[:,i*3+Z], s=5, label='no reg', zorder=13)\n",
    "    _ = ax.scatter(osv[0,i*3+X],osv[0,i*3+Y],osv[0,i*3+Z], s=15, color=\"black\",marker='*', zorder=133)\n",
    "\n",
    "_ = plt.xlabel(right_label(X), fontsize=fs)\n",
    "_ = plt.ylabel(right_label(Y), fontsize=fs)\n",
    "# _ = plt.legend(fontsize=fs_small)"
   ]
  },
  {
   "cell_type": "code",
   "execution_count": null,
   "id": "827741d1-729f-4eb3-b882-a00b40c5e69e",
   "metadata": {
    "pycharm": {
     "name": "#%%\n"
    }
   },
   "outputs": [],
   "source": [
    "# %matplotlib widget\n",
    "\n",
    "# a=0 ; b=-1 ; j=1000\n",
    "\n",
    "# fig = plt.figure(0, figsize=[n*4.8,n*4.8])\n",
    "# ax = fig.add_subplot(projection='3d')\n",
    "# for i in range(N):\n",
    "#     _ = ax.scatter(o[a:b:j,i*3],o[a:b:j,i*3+1],o[a:b:j,i*3+2], lw=1, color=col[i], marker='*', label=r'm=%1.2f M$_\\odot$'%m[i])\n",
    "# _ = ax.scatter(0,0, color='black', marker='o',lw=3)\n",
    "# _ = ax.set_xlabel('X [UA]', fontsize=fs)\n",
    "# _ = ax.set_ylabel('Y [UA]', fontsize=fs)\n",
    "# _ = ax.set_zlabel('Z [UA]', fontsize=fs)\n",
    "# _ = plt.title('t=' + str(o[b,N*6]) + ' su un totale di t=' + str(2**(-3)),fontsize=fs)\n",
    "# _ = plt.legend(fontsize=fs)"
   ]
  },
  {
   "cell_type": "markdown",
   "id": "b92d1d5a-45f3-4437-8fe3-99853f378154",
   "metadata": {
    "pycharm": {
     "name": "#%% md\n"
    }
   },
   "source": [
    "## Orbital elements:\n",
    "<img src=\"Orbit1.jpg\" width=\"600\">"
   ]
  },
  {
   "cell_type": "code",
   "execution_count": null,
   "id": "6c860a13-c483-422f-9151-57a6b79f4dae",
   "metadata": {
    "pycharm": {
     "name": "#%%\n"
    }
   },
   "outputs": [],
   "source": [
    "%matplotlib widget\n",
    "\n",
    "a=0 ; b=o.shape[0] ; j=1\n",
    "\n",
    "fig = plt.figure(666, figsize=[n*4.8,n*4.8*1.5])\n",
    "gs = fig.add_gridspec(7, hspace=0)\n",
    "axs = gs.subplots(sharex=True)#sharex=True, sharey=True)\n",
    "\n",
    "i=0\n",
    "_ = axs[i].semilogy(o[a:b:j,N*6],a1[a:b:j], lw=1, color='blue', label='inner bin'); i+=1\n",
    "# _ = axs[i].semilogy(o[a:b:j,N*6],T1[a:b:j], lw=1, color='blue'); i+=1\n",
    "_ = axs[i].semilogy(o[a:b:j,N*6],e1[a:b:j], lw=1, color='blue'); i+=1\n",
    "_ = axs[i].plot(o[a:b:j,N*6],inc1[a:b:j], lw=1, color='blue'); i+=1\n",
    "_ = axs[i].plot(o[a:b:j,N*6],ome1[a:b:j], lw=1, color='blue'); i+=1\n",
    "_ = axs[i].plot(o[a:b:j,N*6],Ome1[a:b:j], lw=1, color='blue'); i+=1\n",
    "# _ = axs[i].plot(o[a:b:j,N*6],nu1[a:b:j], lw=1, color='blue'); i+=1\n",
    "if(N==3):\n",
    "    i=0\n",
    "    _ = axs[i].semilogy(o[a:b:j,N*6],a2[a:b:j], lw=1, color='red', label='outer bin'); i+=1\n",
    "#     _ = axs[i].semilogy(o[a:b:j,N*6],T2[a:b:j], lw=1, color='red'); i+=1\n",
    "    _ = axs[i].semilogy(o[a:b:j,N*6],e2[a:b:j], lw=1, color='red'); i+=1\n",
    "    _ = axs[i].plot(o[a:b:j,N*6],inc2[a:b:j], lw=1, color='red'); i+=1\n",
    "    _ = axs[i].plot(o[a:b:j,N*6],ome2[a:b:j], lw=1, color='red'); i+=1\n",
    "    _ = axs[i].plot(o[a:b:j,N*6],Ome2[a:b:j], lw=1, color='red'); i+=1\n",
    "#     _ = axs[i].plot(o[a:b:j,N*6],nu2[a:b:j], lw=1, color='red'); i+=1\n",
    "    _ = axs[i].plot(o[a:b:j,N*6],i_mut[a:b:j], lw=1, color='green'); i+=1\n",
    "    _ = axs[i].plot(o[a:b:j,N*6],dist_mut[a:b:j], lw=1, color='green'); i+=1\n",
    "\n",
    "i=0\n",
    "_ = axs[i].set_ylabel('semi-major\\n axis [AU]', fontsize=fs_small); i+=1\n",
    "# _ = axs[i].set_ylabel('period [years]', fontsize=fs_small); i+=1\n",
    "_ = axs[i].set_ylabel('eccentricity', fontsize=fs_small); i+=1\n",
    "_ = axs[i].set_ylabel('inclination [Deg]', fontsize=fs_small); i+=1\n",
    "_ = axs[i].set_ylabel('omega [Deg]', fontsize=fs_small); i+=1\n",
    "_ = axs[i].set_ylabel('Omega [Deg]', fontsize=fs_small); i+=1\n",
    "# _ = axs[i].set_ylabel('nu [Deg]', fontsize=fs_small); i+=1\n",
    "_ = axs[i].set_ylabel('mutual\\n inclination [Deg]', fontsize=fs_small); i+=1\n",
    "_ = axs[i].set_ylabel('distance\\n 3body - Ibin [AU]', fontsize=fs_small); i+=1\n",
    "for ax in axs:\n",
    "    _ = ax.grid()\n",
    "_ = plt.xlabel('t [years]', fontsize=fs)\n",
    "_ = fig.legend(fontsize=fs_small)"
   ]
  },
  {
   "cell_type": "code",
   "execution_count": 12,
   "id": "e130ec6b-35f5-4d07-bb64-0d717bd5e160",
   "metadata": {
    "pycharm": {
     "name": "#%%\n"
    }
   },
   "outputs": [
    {
     "data": {
      "application/vnd.jupyter.widget-view+json": {
       "model_id": "ec37ecd2ba9a40f5be0b467eec57eab6",
       "version_major": 2,
       "version_minor": 0
      },
      "text/plain": [
       "Canvas(toolbar=Toolbar(toolitems=[('Home', 'Reset original view', 'home', 'home'), ('Back', 'Back to previous …"
      ]
     },
     "metadata": {},
     "output_type": "display_data"
    }
   ],
   "source": [
    "%matplotlib widget\n",
    "plot = plt.semilogy\n",
    "lab = r'$\\alpha\\beta\\gamma=1,0,0$'\n",
    "i=0 ; f=o.shape[0] ; iii = 1\n",
    "_ = plt.figure(1, figsize=[n*4.8,n*4.8])\n",
    "# _ = plt.semilogy(o[i:f,6],o[i:f,7], color='blue')\n",
    "_ = plot(o[:,N*6],o[:,N*6+1], color='blue', label='%d'%iii) ; iii += 1\n",
    "_ = plot(o1[:,N1*6],o1[:,N1*6+1], color='red', label='%d'%iii) ; iii += 1\n",
    "_ = plot(o2[:,N2*6],o2[:,N2*6+1], color='green', linestyle='--',label='%d'%iii) ; iii += 1\n",
    "# _ = plot(o3[:,N3*6],o3[:,N3*6+1], color='orange', label='%d'%iii) ; iii += 1\n",
    "# _ = plt.semilogy(o3[:,N3*6],o3[:,N3*6+1], color='black')\n",
    "# _ = plt.semilogy(o4[:,N4*6],o4[:,N4*6+1], color='orange')\n",
    "# _ = plt.semilogy(o5[:,N5*6],o5[:,N5*6+1], color='magenta')\n",
    "# _ = plt.semilogy(o1[i:f,9],o1[i:f,10], color='red', label=r'$\\alpha\\beta\\gamma=0,0,1$')\n",
    "''' the next it is usable only using stops '''\n",
    "# _ = plt.vlines(o[stop,N*6], np.min(o[i:f,N*6+1]), np.max(o[i:f,N*6+1]), linestyle='--', color='red') \n",
    "_ = plt.xticks(fontsize=fs)\n",
    "_ = plt.yticks(fontsize=fs)\n",
    "_ = plt.xlabel('time [years]', fontsize=fs)\n",
    "_ = plt.ylabel('relative error energy', fontsize=fs)\n",
    "_ = plt.legend(fontsize=fs)"
   ]
  },
  {
   "cell_type": "markdown",
   "id": "db4351a4-721d-4378-95e9-353bc716365c",
   "metadata": {
    "pycharm": {
     "name": "#%% md\n"
    }
   },
   "source": [
    "# ISTEDDAS OUTPUT"
   ]
  },
  {
   "cell_type": "code",
   "execution_count": 14,
   "id": "671c6fcd-aa69-4f49-9e9f-54353af454fb",
   "metadata": {
    "pycharm": {
     "name": "#%%\n"
    }
   },
   "outputs": [
    {
     "name": "stdout",
     "output_type": "stream",
     "text": [
      "(641, 9)\n",
      "(641, 20) (641, 20) (641,) (20,)\n",
      "(641,) (20,)\n"
     ]
    }
   ],
   "source": [
    "# direc = '/home/matti/programming/isteddas/cmake-build-debug/bin/'\n",
    "direc = '/home/matti/programming/isteddas/build/bin/'\n",
    "out = 'output/'\n",
    "lf = 'logfiles/'\n",
    "name = 'diagnostic.dat'\n",
    "nameT = 'timeprofile.dat.TOT'\n",
    "nameB = 'blocks_current.dat'\n",
    "f = open(direc + out + name)\n",
    "fT = open(direc + lf + nameT)\n",
    "fB = open(direc + out + nameB)\n",
    "file=f.readlines()\n",
    "fileT=fT.readlines()\n",
    "fileB=fB.readlines()\n",
    "f.close()\n",
    "fT.close()\n",
    "file.pop(0)\n",
    "fileT.pop(0)\n",
    "err = np.loadtxt(file)\n",
    "# time = np.loadtxt(fileT)\n",
    "lim = 20\n",
    "Nbl,Ibl,Tbl,bl = matti.read_blocks(fileB,lim)\n",
    "print(err.shape)\n",
    "# print(time.shape)\n",
    "print(Nbl.shape,Ibl.shape,Tbl.shape,bl.shape)\n",
    "print(Tbl.shape, bl.shape)\n",
    "del(file, fileT, fileB)"
   ]
  },
  {
   "cell_type": "code",
   "execution_count": 8,
   "id": "1aa98048-5ea0-45b5-9b2d-a4f6b539b8eb",
   "metadata": {
    "pycharm": {
     "name": "#%%\n"
    }
   },
   "outputs": [
    {
     "data": {
      "application/vnd.jupyter.widget-view+json": {
       "model_id": "95221f5390fd4498bdf30f5808e80f79",
       "version_major": 2,
       "version_minor": 0
      },
      "text/plain": [
       "Canvas(toolbar=Toolbar(toolitems=[('Home', 'Reset original view', 'home', 'home'), ('Back', 'Back to previous …"
      ]
     },
     "metadata": {},
     "output_type": "display_data"
    },
    {
     "data": {
      "application/vnd.jupyter.widget-view+json": {
       "model_id": "1be35e2d55a04afd9227989364260b40",
       "version_major": 2,
       "version_minor": 0
      },
      "text/plain": [
       "Canvas(toolbar=Toolbar(toolitems=[('Home', 'Reset original view', 'home', 'home'), ('Back', 'Back to previous …"
      ]
     },
     "metadata": {},
     "output_type": "display_data"
    },
    {
     "ename": "NameError",
     "evalue": "name 'time' is not defined",
     "output_type": "error",
     "traceback": [
      "\u001b[0;31m---------------------------------------------------------------------------\u001b[0m",
      "\u001b[0;31mNameError\u001b[0m                                 Traceback (most recent call last)",
      "\u001b[0;32m<ipython-input-8-bc39fd2a7f75>\u001b[0m in \u001b[0;36m<module>\u001b[0;34m\u001b[0m\n\u001b[1;32m     11\u001b[0m \u001b[0;34m\u001b[0m\u001b[0m\n\u001b[1;32m     12\u001b[0m \u001b[0m_\u001b[0m \u001b[0;34m=\u001b[0m \u001b[0mplt\u001b[0m\u001b[0;34m.\u001b[0m\u001b[0mfigure\u001b[0m\u001b[0;34m(\u001b[0m\u001b[0;36m33\u001b[0m\u001b[0;34m,\u001b[0m \u001b[0mfigsize\u001b[0m\u001b[0;34m=\u001b[0m\u001b[0;34m[\u001b[0m\u001b[0mn\u001b[0m\u001b[0;34m*\u001b[0m\u001b[0;36m4.8\u001b[0m\u001b[0;34m,\u001b[0m\u001b[0mn\u001b[0m\u001b[0;34m*\u001b[0m\u001b[0;36m4.8\u001b[0m\u001b[0;34m]\u001b[0m\u001b[0;34m)\u001b[0m\u001b[0;34m\u001b[0m\u001b[0;34m\u001b[0m\u001b[0m\n\u001b[0;32m---> 13\u001b[0;31m \u001b[0m_\u001b[0m \u001b[0;34m=\u001b[0m \u001b[0mplt\u001b[0m\u001b[0;34m.\u001b[0m\u001b[0mplot\u001b[0m\u001b[0;34m(\u001b[0m\u001b[0mtime\u001b[0m\u001b[0;34m[\u001b[0m\u001b[0;34m:\u001b[0m\u001b[0;34m,\u001b[0m\u001b[0;36m0\u001b[0m\u001b[0;34m]\u001b[0m\u001b[0;34m,\u001b[0m \u001b[0mnp\u001b[0m\u001b[0;34m.\u001b[0m\u001b[0mlinspace\u001b[0m\u001b[0;34m(\u001b[0m\u001b[0mtime\u001b[0m\u001b[0;34m[\u001b[0m\u001b[0;36m0\u001b[0m\u001b[0;34m,\u001b[0m\u001b[0;36m2\u001b[0m\u001b[0;34m]\u001b[0m\u001b[0;34m,\u001b[0m\u001b[0mtime\u001b[0m\u001b[0;34m[\u001b[0m\u001b[0;34m-\u001b[0m\u001b[0;36m1\u001b[0m\u001b[0;34m,\u001b[0m\u001b[0;36m2\u001b[0m\u001b[0;34m]\u001b[0m\u001b[0;34m,\u001b[0m \u001b[0mlen\u001b[0m\u001b[0;34m(\u001b[0m\u001b[0mtime\u001b[0m\u001b[0;34m[\u001b[0m\u001b[0;34m:\u001b[0m\u001b[0;34m,\u001b[0m\u001b[0;36m2\u001b[0m\u001b[0;34m]\u001b[0m\u001b[0;34m)\u001b[0m\u001b[0;34m)\u001b[0m\u001b[0;34m/\u001b[0m\u001b[0;36m60.0\u001b[0m\u001b[0;34m,\u001b[0m \u001b[0;34m'--'\u001b[0m\u001b[0;34m,\u001b[0m \u001b[0mcolor\u001b[0m\u001b[0;34m=\u001b[0m\u001b[0;34m'green'\u001b[0m\u001b[0;34m)\u001b[0m\u001b[0;34m\u001b[0m\u001b[0;34m\u001b[0m\u001b[0m\n\u001b[0m\u001b[1;32m     14\u001b[0m \u001b[0m_\u001b[0m \u001b[0;34m=\u001b[0m \u001b[0mplt\u001b[0m\u001b[0;34m.\u001b[0m\u001b[0mplot\u001b[0m\u001b[0;34m(\u001b[0m\u001b[0mtime\u001b[0m\u001b[0;34m[\u001b[0m\u001b[0;34m:\u001b[0m\u001b[0;34m,\u001b[0m\u001b[0;36m0\u001b[0m\u001b[0;34m]\u001b[0m\u001b[0;34m,\u001b[0m\u001b[0mtime\u001b[0m\u001b[0;34m[\u001b[0m\u001b[0;34m:\u001b[0m\u001b[0;34m,\u001b[0m\u001b[0;36m2\u001b[0m\u001b[0;34m]\u001b[0m\u001b[0;34m/\u001b[0m\u001b[0;36m60.0\u001b[0m\u001b[0;34m,\u001b[0m \u001b[0mcolor\u001b[0m\u001b[0;34m=\u001b[0m\u001b[0;34m'blue'\u001b[0m\u001b[0;34m)\u001b[0m\u001b[0;34m\u001b[0m\u001b[0;34m\u001b[0m\u001b[0m\n\u001b[1;32m     15\u001b[0m \u001b[0;31m# _ = plt.vlines(o[stop,9], 1e-13, 2e-7, color='red',linestyle='--')\u001b[0m\u001b[0;34m\u001b[0m\u001b[0;34m\u001b[0m\u001b[0;34m\u001b[0m\u001b[0m\n",
      "\u001b[0;31mNameError\u001b[0m: name 'time' is not defined"
     ]
    }
   ],
   "source": [
    "%matplotlib widget\n",
    "_ = plt.figure(11, figsize=[n*4.8,n*4.8])\n",
    "_ = plt.semilogy(err[:,0]*t_unit,err[:,1], color='blue')\n",
    "# _ = plt.vlines(o[stop,9], 1e-13, 2e-7, color='red',linestyle='--')\n",
    "# _ = plt.vlines(o[-1,N*6], np.min(err[:,1]), np.max(err[:,1]), color='red',linestyle='--') #momeno termination\n",
    "_ = plt.xticks(fontsize=fs)\n",
    "_ = plt.yticks(fontsize=fs)\n",
    "_ = plt.xlabel('time [years]', fontsize=fs)\n",
    "_ = plt.ylabel('relative error energy', fontsize=fs)\n",
    "_ = plt.grid()\n",
    "\n",
    "_ = plt.figure(33, figsize=[n*4.8,n*4.8])\n",
    "_ = plt.plot(time[:,0], np.linspace(time[0,2],time[-1,2], len(time[:,2]))/60.0, '--', color='green')\n",
    "_ = plt.plot(time[:,0],time[:,2]/60.0, color='blue')\n",
    "# _ = plt.vlines(o[stop,9], 1e-13, 2e-7, color='red',linestyle='--')\n",
    "_ = plt.xticks(fontsize=fs)\n",
    "_ = plt.yticks(fontsize=fs)\n",
    "_ = plt.xlabel('steps', fontsize=fs)\n",
    "_ = plt.ylabel('cumulative time [mis]', fontsize=fs)\n",
    "_ = plt.title('avarage steps per second: %1.2f'%(time[-1,0]/time[-1,2]), fontsize=fs)\n",
    "\n",
    "_ = plt.figure(22, figsize=[n*4.8,n*4.8])\n",
    "_ = plt.semilogy(err[:,0]*t_unit,err[:,5], color='blue')\n",
    "# _ = plt.vlines(o[stop,9], 1e-13, 2e-7, color='red',linestyle='--')\n",
    "_ = plt.xticks(fontsize=fs)\n",
    "_ = plt.yticks(fontsize=fs)\n",
    "_ = plt.xlabel('time [years]', fontsize=fs)\n",
    "_ = plt.ylabel('relative error angular momentum', fontsize=fs)\n",
    "# print(np.linspace(time[0,2],time[-1,2], len(time[:,2])))"
   ]
  },
  {
   "cell_type": "code",
   "execution_count": 15,
   "id": "acee4add-d2c4-4787-b343-86cd55006965",
   "metadata": {},
   "outputs": [
    {
     "data": {
      "application/vnd.jupyter.widget-view+json": {
       "model_id": "2e5e037e1e04453c880140749fafedf8",
       "version_major": 2,
       "version_minor": 0
      },
      "text/plain": [
       "Canvas(toolbar=Toolbar(toolitems=[('Home', 'Reset original view', 'home', 'home'), ('Back', 'Back to previous …"
      ]
     },
     "metadata": {},
     "output_type": "display_data"
    },
    {
     "data": {
      "application/vnd.jupyter.widget-view+json": {
       "model_id": "cf9b86a391e94199be724fe76aad680c",
       "version_major": 2,
       "version_minor": 0
      },
      "text/plain": [
       "Canvas(toolbar=Toolbar(toolitems=[('Home', 'Reset original view', 'home', 'home'), ('Back', 'Back to previous …"
      ]
     },
     "metadata": {},
     "output_type": "display_data"
    }
   ],
   "source": [
    "%matplotlib widget\n",
    "\n",
    "cut = 7\n",
    "\n",
    "n = 1.5\n",
    "fig = plt.figure(276, figsize=[n*4.8*2,n*4.8])\n",
    "gs = fig.add_gridspec(1,2)\n",
    "axN = fig.add_subplot(gs[0,0])\n",
    "axI = fig.add_subplot(gs[0,1])\n",
    "\n",
    "_ = axN.contourf(bl, Tbl, Nbl) # norm=matplotlib.colors.LogNorm()\n",
    "_ = axI.contourf(bl, Tbl, Ibl)\n",
    "_ = axN.hlines(Tbl[cut], 0,lim-1, color='red')\n",
    "_ = axI.hlines(Tbl[cut], 0,lim-1, color='red')\n",
    "_ = axI.grid()\n",
    "_ = axN.grid()\n",
    "_ = axN.set_ylabel('code time')\n",
    "# plt.colorbar(im, ax=axes.ravel().tolist())\n",
    "\n",
    "fig = plt.figure(277, figsize=[n*4.8,n*4.8])\n",
    "_ = plt.plot(Ibl[cut], label='I')\n",
    "_ = plt.plot(Nbl[cut], label='N', linestyle='--')\n",
    "_ = plt.grid()\n",
    "_ = plt.legend()\n"
   ]
  },
  {
   "cell_type": "code",
   "execution_count": null,
   "id": "38086067-6ae7-4a50-9971-803acc050635",
   "metadata": {
    "pycharm": {
     "name": "#%%\n"
    }
   },
   "outputs": [],
   "source": [
    "direc = '/home/matti/Documents/data/plot_errore_isteddas_vs_tunami_singlebinary/'\n",
    "name1 = 'diagnostic_ist.dat'\n",
    "name2 = 'diagnostic_ist_tsu.dat'\n",
    "f1 = open(direc + name1)\n",
    "f2 = open(direc + name2)\n",
    "file1=f1.readlines()\n",
    "file2=f2.readlines()\n",
    "f1.close()\n",
    "f2.close()\n",
    "file1.pop(0)\n",
    "file2.pop(0)\n",
    "err1 = np.loadtxt(file1)\n",
    "err2 = np.loadtxt(file2)\n",
    "print(err1.shape)\n",
    "print(err2.shape)"
   ]
  },
  {
   "cell_type": "code",
   "execution_count": null,
   "id": "bff99e12-e0a6-4a33-b6b1-c929c7bd9587",
   "metadata": {
    "pycharm": {
     "name": "#%%\n"
    }
   },
   "outputs": [],
   "source": [
    "%matplotlib widget\n",
    "plot = plt.loglog\n",
    "\n",
    "a = err1[:,-1]*t_unit\n",
    "b = err2[:,-1]*t_unit\n",
    "\n",
    "\n",
    "_ = plt.figure(123, figsize=[n*4.8,n*4.8])\n",
    "# _ = plt.loglog(err1[:,0]*t_unit,err1[:,1], color='red', label='Ist (%1.0f yr)'%(err1[-1,0]*t_unit))\n",
    "# _ = plt.loglog(err2[:,0]*t_unit,err2[:,1], color='blue', label='Ist+Tsu (%1.0f yr)'%(err2[-1,0]*t_unit))\n",
    "_ = plot(err1[:,0]*t_unit, err1[:,1], color='red', label='Ist (1400 yr)')\n",
    "_ = plot(err2[:,0]*t_unit, err2[:,1], color='blue', label='Ist+Tsu (400000 yr)')\n",
    "_ = plt.xticks(fontsize=fs_small)\n",
    "_ = plt.yticks(fontsize=fs)\n",
    "_ = plt.xlim(10**-3, 5*10**5)\n",
    "_ = plt.ylim(10**-13, 10**-2)\n",
    "_ = plt.xlabel('time [years]', fontsize=fs)\n",
    "_ = plt.ylabel('relative error energy', fontsize=fs)\n",
    "_ = plt.legend(fontsize=fs, loc='upper left')\n",
    "_ = plt.title('2048 stars, 1 binary (4 mins on my laptop)', fontsize=fs)\n",
    "_ = plt.grid(true)\n"
   ]
  },
  {
   "cell_type": "code",
   "execution_count": null,
   "id": "ea86ae3b-81b4-4833-b247-a3571d3bb143",
   "metadata": {
    "pycharm": {
     "name": "#%%\n"
    }
   },
   "outputs": [],
   "source": [
    "err1[:,0]"
   ]
  },
  {
   "cell_type": "code",
   "execution_count": null,
   "id": "296b11fb-3e0e-4491-a9b1-352cc52ff3b2",
   "metadata": {},
   "outputs": [],
   "source": []
  }
 ],
 "metadata": {
  "kernelspec": {
   "display_name": "Python 3",
   "language": "python",
   "name": "python3"
  },
  "language_info": {
   "codemirror_mode": {
    "name": "ipython",
    "version": 3
   },
   "file_extension": ".py",
   "mimetype": "text/x-python",
   "name": "python",
   "nbconvert_exporter": "python",
   "pygments_lexer": "ipython3",
   "version": "3.8.10"
  }
 },
 "nbformat": 4,
 "nbformat_minor": 5
}
