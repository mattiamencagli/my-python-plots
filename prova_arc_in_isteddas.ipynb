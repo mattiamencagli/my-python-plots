{
 "cells": [
  {
   "cell_type": "code",
   "execution_count": 1,
   "id": "21239bf4-7da5-4a83-8e2b-4e46a962dbd1",
   "metadata": {},
   "outputs": [],
   "source": [
    "import numpy as np\n",
    "import matplotlib.pylab as plt\n",
    "import matti_func as matti\n",
    "\n",
    "conv_pc_UA = 206264.8062471 \n",
    "m_unit = 1322.412172 #to have M_sol\n",
    "t_unit = 0.411046867566472 * 1e6 #to have year\n",
    "v_unit = 2.38041454521845 #to have km/s\n",
    "\n",
    "n=2\n",
    "fs = 'xx-large'\n",
    "fs_small = 'large'\n",
    "col = ['blue', 'red', 'green', 'orange', 'purple']\n"
   ]
  },
  {
   "cell_type": "markdown",
   "id": "4f1d80ec-23fb-4968-9e8f-a16275483eeb",
   "metadata": {},
   "source": [
    "# REGULARIZATION OUTPUT"
   ]
  },
  {
   "cell_type": "code",
   "execution_count": 2,
   "id": "6d2202a3-4a97-4157-a0bb-2c40bd10d22d",
   "metadata": {},
   "outputs": [
    {
     "name": "stdout",
     "output_type": "stream",
     "text": [
      "STOP, i = 27600\n",
      "STOP, i = 55219\n",
      "STOP, i = 110373\n",
      "STOP, i = 165415\n",
      "STOP, i = 192901\n",
      "STOP, i = 220394\n",
      "STOP, i = 247791\n",
      "STOP, i = 275173\n",
      "STOP, i = 302561\n",
      "STOP, i = 330085\n",
      "STOP, i = 357821\n",
      "(357821, 20)\n",
      "(357821, 20)\n",
      "units: M_sol, year, km/s, UA\n",
      "units: UA, deg\n",
      "units: UA, deg\n"
     ]
    }
   ],
   "source": [
    "direc = '/home/matti/programming/isteddas/cmake-build-debug/bin/output/'\n",
    "name = 'arc_0.dat'\n",
    "o, stop, m, N = matti.open_reg(direc, name, 1)\n",
    "\n",
    "off = N*3\n",
    "a1, e1, inc1, ome1, Ome1, nu1 = matti.cart_to_kepl(m[0],o[:,0:3], o[:,off:off+3], m[1], o[:,3:6], o[:,off+3:off+6])\n",
    "\n",
    "if(N==3): #hierarchical triple\n",
    "    cm_bin = (o[:,0:3]*m[0]+o[:,3:6]*m[1])/(m[0]+m[1])\n",
    "    cv_bin = (o[:,off:off+3]*m[0]+o[:,off+3:off+6]*m[1])/(m[0]+m[1])\n",
    "    a2, e2, inc2, ome2, Ome2, nu2 = matti.cart_to_kepl(m[0]+m[1], cm_bin, cv_bin, m[2], o[:,6:9], o[:,off+6:off+9])\n",
    "    i_mut = np.arccos( np.cos(inc1)*np.cos(inc2) + np.cos(Ome1-Ome2)*np.sin(inc1)*np.sin(inc2) ) * 180.0 / np.pi\n",
    "\n",
    "matti.change_units(o,m,m_unit,t_unit,v_unit,conv_pc_UA)\n",
    "matti.kepl_units(a1,inc1,ome1,Ome1,nu1,conv_pc_UA)\n",
    "matti.kepl_units(a2,inc2,ome2,Ome2,nu2,conv_pc_UA)\n",
    "\n",
    "# direc1 = '/home/matti/programming/figures_py/'\n",
    "# name1 = 'arc_provagamma1.dat'\n",
    "# o1, stop1, m1 = open_reg(direc1, name1)"
   ]
  },
  {
   "cell_type": "code",
   "execution_count": 3,
   "id": "3f6a72fc-543d-4dcf-820d-15253d86c13b",
   "metadata": {},
   "outputs": [
    {
     "data": {
      "application/vnd.jupyter.widget-view+json": {
       "model_id": "70eee7e074044af7aae7b11a76369a04",
       "version_major": 2,
       "version_minor": 0
      },
      "text/plain": [
       "Canvas(toolbar=Toolbar(toolitems=[('Home', 'Reset original view', 'home', 'home'), ('Back', 'Back to previous …"
      ]
     },
     "metadata": {},
     "output_type": "display_data"
    }
   ],
   "source": [
    "%matplotlib widget\n",
    "\n",
    "x=0 ; y=1 ; z=2\n",
    "a=0 ; b=-1 ; j=10\n",
    "\n",
    "_ = plt.figure(0, figsize=[n*4.8,n*4.8])\n",
    "\n",
    "for i in range(N):\n",
    "    _ = plt.plot(o[a:b:j,i*3+x],o[a:b:j,i*3+z], lw=1, color=col[i], label=r'm=%1.2f M$_\\odot$'%m[i], zorder=i)\n",
    "# _ = plt.plot(o[:b:j,0],o[:b:j,2], lw=1, color='blue', label=r'm=%1.2f M$_\\odot$'%m[0], zorder=2)\n",
    "# _ = plt.plot(o[:b:j,3],o[:b:j,5], lw=1, color='red', label=r'm=%1.2f M$_\\odot$'%m[1], zorder=1)\n",
    "# _ = plt.plot(o[:b:j,6],o[:b:j,8], lw=1, color='green', label=r'm=%1.2f M$_\\odot$'%m[2], zorder=3)\n",
    "\n",
    "_ = plt.scatter(0,0, color='black', marker='h',lw=3,zorder=10)\n",
    "_ = plt.xlabel('X [UA]', fontsize=fs)\n",
    "_ = plt.ylabel('Z [UA]', fontsize=fs)\n",
    "_ = plt.title('t=' + str(o[b,N*6]) + ' years',fontsize=fs)\n",
    "_ = plt.legend(fontsize=fs)"
   ]
  },
  {
   "cell_type": "code",
   "execution_count": 4,
   "id": "827741d1-729f-4eb3-b882-a00b40c5e69e",
   "metadata": {},
   "outputs": [
    {
     "data": {
      "application/vnd.jupyter.widget-view+json": {
       "model_id": "d00474b5bc2a436d89221c1ab432f352",
       "version_major": 2,
       "version_minor": 0
      },
      "text/plain": [
       "Canvas(toolbar=Toolbar(toolitems=[('Home', 'Reset original view', 'home', 'home'), ('Back', 'Back to previous …"
      ]
     },
     "metadata": {},
     "output_type": "display_data"
    }
   ],
   "source": [
    "# %matplotlib widget\n",
    "\n",
    "# a=0 ; b=-1 ; j=1000\n",
    "\n",
    "# fig = plt.figure(0, figsize=[n*4.8,n*4.8])\n",
    "# ax = fig.add_subplot(projection='3d')\n",
    "# for i in range(N):\n",
    "#     _ = ax.scatter(o[a:b:j,i*3],o[a:b:j,i*3+1],o[a:b:j,i*3+2], lw=1, color=col[i], marker='*', label=r'm=%1.2f M$_\\odot$'%m[i])\n",
    "# _ = ax.scatter(0,0, color='black', marker='o',lw=3)\n",
    "# _ = ax.set_xlabel('X [UA]', fontsize=fs)\n",
    "# _ = ax.set_ylabel('Y [UA]', fontsize=fs)\n",
    "# _ = ax.set_zlabel('Z [UA]', fontsize=fs)\n",
    "# _ = plt.title('t=' + str(o[b,N*6]) + ' su un totale di t=' + str(2**(-3)),fontsize=fs)\n",
    "# _ = plt.legend(fontsize=fs)"
   ]
  },
  {
   "cell_type": "markdown",
   "id": "b92d1d5a-45f3-4437-8fe3-99853f378154",
   "metadata": {},
   "source": [
    "## Orbital elements:\n",
    "<img src=\"Orbit1.jpg\" width=\"600\">"
   ]
  },
  {
   "cell_type": "code",
   "execution_count": 7,
   "id": "6c860a13-c483-422f-9151-57a6b79f4dae",
   "metadata": {},
   "outputs": [
    {
     "data": {
      "application/vnd.jupyter.widget-view+json": {
       "model_id": "b6f40a255cb343619370d369735de63c",
       "version_major": 2,
       "version_minor": 0
      },
      "text/plain": [
       "Canvas(toolbar=Toolbar(toolitems=[('Home', 'Reset original view', 'home', 'home'), ('Back', 'Back to previous …"
      ]
     },
     "metadata": {},
     "output_type": "display_data"
    }
   ],
   "source": [
    "%matplotlib widget\n",
    "\n",
    "a=0 ; b=-1 ; j=10\n",
    "\n",
    "fig = plt.figure(666, figsize=[n*4.8,n*4.8*1.5])\n",
    "gs = fig.add_gridspec(7, hspace=0)\n",
    "axs = gs.subplots(sharex=True)#sharex=True, sharey=True)\n",
    "\n",
    "_ = axs[0].plot(o[a:b:j,N*6],a1[a:b:j], lw=1, color='blue', label='int bin')\n",
    "_ = axs[1].semilogy(o[a:b:j,N*6],e1[a:b:j], lw=1, color='blue')\n",
    "_ = axs[2].plot(o[a:b:j,N*6],inc1[a:b:j], lw=1, color='blue')\n",
    "_ = axs[3].plot(o[a:b:j,N*6],ome1[a:b:j], lw=1, color='blue')\n",
    "_ = axs[4].plot(o[a:b:j,N*6],Ome1[a:b:j], lw=1, color='blue')\n",
    "_ = axs[5].plot(o[a:b:j,N*6],nu1[a:b:j], lw=1, color='blue')\n",
    "if(N==3):\n",
    "    _ = axs[0].plot(o[a:b:j,N*6],a2[a:b:j], lw=1, color='red', label='ext bin')\n",
    "    _ = axs[1].semilogy(o[a:b:j,N*6],e2[a:b:j], lw=1, color='red')\n",
    "    _ = axs[2].plot(o[a:b:j,N*6],inc2[a:b:j], lw=1, color='red')\n",
    "    _ = axs[3].plot(o[a:b:j,N*6],ome2[a:b:j], lw=1, color='red')\n",
    "    _ = axs[4].plot(o[a:b:j,N*6],Ome2[a:b:j], lw=1, color='red')\n",
    "    _ = axs[5].plot(o[a:b:j,N*6],nu2[a:b:j], lw=1, color='red')\n",
    "    _ = axs[6].plot(o[a:b:j,N*6],i_mut[a:b:j], lw=1, color='green')\n",
    "\n",
    "_ = axs[0].set_ylabel('semi-major axis [AU]', fontsize=fs_small)\n",
    "_ = axs[1].set_ylabel('eccentricity', fontsize=fs_small)\n",
    "_ = axs[2].set_ylabel('inclination', fontsize=fs_small)\n",
    "_ = axs[3].set_ylabel('omega', fontsize=fs_small)\n",
    "_ = axs[4].set_ylabel('Omega', fontsize=fs_small)\n",
    "_ = axs[5].set_ylabel('nu', fontsize=fs_small)\n",
    "_ = axs[6].set_ylabel('mutual inclination', fontsize=fs_small)\n",
    "for ax in axs:\n",
    "    _ = ax.grid()\n",
    "_ = plt.xlabel('t [years]', fontsize=fs)\n",
    "_ = fig.legend(fontsize=fs_small)"
   ]
  },
  {
   "cell_type": "code",
   "execution_count": 8,
   "id": "e130ec6b-35f5-4d07-bb64-0d717bd5e160",
   "metadata": {},
   "outputs": [
    {
     "data": {
      "application/vnd.jupyter.widget-view+json": {
       "model_id": "537908f08417489a8790a2dc5f36c156",
       "version_major": 2,
       "version_minor": 0
      },
      "text/plain": [
       "Canvas(toolbar=Toolbar(toolitems=[('Home', 'Reset original view', 'home', 'home'), ('Back', 'Back to previous …"
      ]
     },
     "metadata": {},
     "output_type": "display_data"
    }
   ],
   "source": [
    "%matplotlib widget\n",
    "i=0\n",
    "f=-1\n",
    "_ = plt.figure(1, figsize=[n*4.8,n*4.8])\n",
    "# _ = plt.semilogy(o[i:f,6],o[i:f,7], color='blue')\n",
    "_ = plt.semilogy(o[i:f,N*6],o[i:f,N*6+1], color='blue', label=r'$\\alpha\\beta\\gamma=1,0,0$')\n",
    "# _ = plt.semilogy(o1[i:f,9],o1[i:f,10], color='red', label=r'$\\alpha\\beta\\gamma=0,0,1$')\n",
    "_ = plt.xticks(fontsize=fs)\n",
    "_ = plt.yticks(fontsize=fs)\n",
    "_ = plt.xlabel('time [years]', fontsize=fs)\n",
    "_ = plt.ylabel('relative error energy', fontsize=fs)\n",
    "_ = plt.legend(fontsize=fs)"
   ]
  },
  {
   "cell_type": "markdown",
   "id": "db4351a4-721d-4378-95e9-353bc716365c",
   "metadata": {},
   "source": [
    "# ISTEDDAS OUTPUT"
   ]
  },
  {
   "cell_type": "code",
   "execution_count": 6,
   "id": "671c6fcd-aa69-4f49-9e9f-54353af454fb",
   "metadata": {},
   "outputs": [
    {
     "name": "stdout",
     "output_type": "stream",
     "text": [
      "(887, 9)\n"
     ]
    }
   ],
   "source": [
    "direc = '/home/matti/programming/isteddas/cmake-build-debug/bin/output/'\n",
    "name = 'diagnostic.dat'\n",
    "f = open(direc + name)\n",
    "file=f.readlines()\n",
    "f.close()\n",
    "file.pop(0)\n",
    "err = np.loadtxt(file)\n",
    "print(err.shape)"
   ]
  },
  {
   "cell_type": "code",
   "execution_count": 7,
   "id": "1aa98048-5ea0-45b5-9b2d-a4f6b539b8eb",
   "metadata": {},
   "outputs": [
    {
     "data": {
      "application/vnd.jupyter.widget-view+json": {
       "model_id": "fc4f4c9514bb4ece98d980655316f2fd",
       "version_major": 2,
       "version_minor": 0
      },
      "text/plain": [
       "Canvas(toolbar=Toolbar(toolitems=[('Home', 'Reset original view', 'home', 'home'), ('Back', 'Back to previous …"
      ]
     },
     "metadata": {},
     "output_type": "display_data"
    },
    {
     "ename": "IndexError",
     "evalue": "index 110371 is out of bounds for axis 0 with size 89687",
     "output_type": "error",
     "traceback": [
      "\u001b[0;31m---------------------------------------------------------------------------\u001b[0m",
      "\u001b[0;31mIndexError\u001b[0m                                Traceback (most recent call last)",
      "\u001b[0;32m<ipython-input-7-ae530a07342d>\u001b[0m in \u001b[0;36m<module>\u001b[0;34m\u001b[0m\n\u001b[1;32m      2\u001b[0m \u001b[0m_\u001b[0m \u001b[0;34m=\u001b[0m \u001b[0mplt\u001b[0m\u001b[0;34m.\u001b[0m\u001b[0mfigure\u001b[0m\u001b[0;34m(\u001b[0m\u001b[0;36m11\u001b[0m\u001b[0;34m,\u001b[0m \u001b[0mfigsize\u001b[0m\u001b[0;34m=\u001b[0m\u001b[0;34m[\u001b[0m\u001b[0mn\u001b[0m\u001b[0;34m*\u001b[0m\u001b[0;36m4.8\u001b[0m\u001b[0;34m,\u001b[0m\u001b[0mn\u001b[0m\u001b[0;34m*\u001b[0m\u001b[0;36m4.8\u001b[0m\u001b[0;34m]\u001b[0m\u001b[0;34m)\u001b[0m\u001b[0;34m\u001b[0m\u001b[0;34m\u001b[0m\u001b[0m\n\u001b[1;32m      3\u001b[0m \u001b[0m_\u001b[0m \u001b[0;34m=\u001b[0m \u001b[0mplt\u001b[0m\u001b[0;34m.\u001b[0m\u001b[0msemilogy\u001b[0m\u001b[0;34m(\u001b[0m\u001b[0merr\u001b[0m\u001b[0;34m[\u001b[0m\u001b[0;34m:\u001b[0m\u001b[0;34m,\u001b[0m\u001b[0;36m0\u001b[0m\u001b[0;34m]\u001b[0m\u001b[0;34m,\u001b[0m\u001b[0merr\u001b[0m\u001b[0;34m[\u001b[0m\u001b[0;34m:\u001b[0m\u001b[0;34m,\u001b[0m\u001b[0;36m1\u001b[0m\u001b[0;34m]\u001b[0m\u001b[0;34m,\u001b[0m \u001b[0mcolor\u001b[0m\u001b[0;34m=\u001b[0m\u001b[0;34m'blue'\u001b[0m\u001b[0;34m)\u001b[0m\u001b[0;34m\u001b[0m\u001b[0;34m\u001b[0m\u001b[0m\n\u001b[0;32m----> 4\u001b[0;31m \u001b[0m_\u001b[0m \u001b[0;34m=\u001b[0m \u001b[0mplt\u001b[0m\u001b[0;34m.\u001b[0m\u001b[0mvlines\u001b[0m\u001b[0;34m(\u001b[0m\u001b[0mo\u001b[0m\u001b[0;34m[\u001b[0m\u001b[0mstop\u001b[0m\u001b[0;34m,\u001b[0m\u001b[0;36m9\u001b[0m\u001b[0;34m]\u001b[0m\u001b[0;34m,\u001b[0m \u001b[0;36m1e-13\u001b[0m\u001b[0;34m,\u001b[0m \u001b[0;36m2e-7\u001b[0m\u001b[0;34m,\u001b[0m \u001b[0mcolor\u001b[0m\u001b[0;34m=\u001b[0m\u001b[0;34m'red'\u001b[0m\u001b[0;34m,\u001b[0m\u001b[0mlinestyle\u001b[0m\u001b[0;34m=\u001b[0m\u001b[0;34m'--'\u001b[0m\u001b[0;34m)\u001b[0m\u001b[0;34m\u001b[0m\u001b[0;34m\u001b[0m\u001b[0m\n\u001b[0m\u001b[1;32m      5\u001b[0m \u001b[0m_\u001b[0m \u001b[0;34m=\u001b[0m \u001b[0mplt\u001b[0m\u001b[0;34m.\u001b[0m\u001b[0mxticks\u001b[0m\u001b[0;34m(\u001b[0m\u001b[0mfontsize\u001b[0m\u001b[0;34m=\u001b[0m\u001b[0mfs\u001b[0m\u001b[0;34m)\u001b[0m\u001b[0;34m\u001b[0m\u001b[0;34m\u001b[0m\u001b[0m\n\u001b[1;32m      6\u001b[0m \u001b[0m_\u001b[0m \u001b[0;34m=\u001b[0m \u001b[0mplt\u001b[0m\u001b[0;34m.\u001b[0m\u001b[0myticks\u001b[0m\u001b[0;34m(\u001b[0m\u001b[0mfontsize\u001b[0m\u001b[0;34m=\u001b[0m\u001b[0mfs\u001b[0m\u001b[0;34m)\u001b[0m\u001b[0;34m\u001b[0m\u001b[0;34m\u001b[0m\u001b[0m\n",
      "\u001b[0;31mIndexError\u001b[0m: index 110371 is out of bounds for axis 0 with size 89687"
     ]
    }
   ],
   "source": [
    "%matplotlib widget\n",
    "_ = plt.figure(11, figsize=[n*4.8,n*4.8])\n",
    "_ = plt.semilogy(err[:,0],err[:,1], color='blue')\n",
    "_ = plt.vlines(o[stop,9], 1e-13, 2e-7, color='red',linestyle='--')\n",
    "_ = plt.xticks(fontsize=fs)\n",
    "_ = plt.yticks(fontsize=fs)\n",
    "_ = plt.xlabel('time', fontsize=fs)\n",
    "_ = plt.ylabel('relative error energy', fontsize=fs)\n",
    "\n",
    "_ = plt.figure(22, figsize=[n*4.8,n*4.8])\n",
    "_ = plt.semilogy(err[:,0],err[:,5], color='blue')\n",
    "_ = plt.vlines(o[stop,9], 1e-13, 2e-7, color='red',linestyle='--')\n",
    "_ = plt.xticks(fontsize=fs)\n",
    "_ = plt.yticks(fontsize=fs)\n",
    "_ = plt.xlabel('time', fontsize=fs)\n",
    "_ = plt.ylabel('relative error angular momentum', fontsize=fs)"
   ]
  },
  {
   "cell_type": "code",
   "execution_count": null,
   "id": "38086067-6ae7-4a50-9971-803acc050635",
   "metadata": {},
   "outputs": [],
   "source": []
  }
 ],
 "metadata": {
  "kernelspec": {
   "display_name": "Python 3",
   "language": "python",
   "name": "python3"
  },
  "language_info": {
   "codemirror_mode": {
    "name": "ipython",
    "version": 3
   },
   "file_extension": ".py",
   "mimetype": "text/x-python",
   "name": "python",
   "nbconvert_exporter": "python",
   "pygments_lexer": "ipython3",
   "version": "3.8.10"
  }
 },
 "nbformat": 4,
 "nbformat_minor": 5
}
