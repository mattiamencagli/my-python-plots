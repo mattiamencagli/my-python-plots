{
 "cells": [
  {
   "cell_type": "code",
   "execution_count": 1,
   "id": "c621bc7d-9626-468e-baf6-2c3d40652cbb",
   "metadata": {},
   "outputs": [],
   "source": [
    "import numpy as np\n",
    "import matplotlib\n",
    "import matplotlib.pylab as plt\n",
    "import h5py\n",
    "\n",
    "n = 2\n",
    "lw = 2\n",
    "fs = 'xx-large'"
   ]
  },
  {
   "cell_type": "code",
   "execution_count": 2,
   "id": "99e7314c-0a17-4692-bf94-d86010fd3490",
   "metadata": {},
   "outputs": [
    {
     "ename": "OSError",
     "evalue": "Unable to open file (file signature not found)",
     "output_type": "error",
     "traceback": [
      "\u001b[0;31m---------------------------------------------------------------------------\u001b[0m",
      "\u001b[0;31mOSError\u001b[0m                                   Traceback (most recent call last)",
      "\u001b[0;32m<ipython-input-2-961899e5378c>\u001b[0m in \u001b[0;36m<module>\u001b[0;34m\u001b[0m\n\u001b[1;32m      3\u001b[0m \u001b[0mdirec\u001b[0m \u001b[0;34m=\u001b[0m \u001b[0;34m'/home/matti/programming/isteddas/input/'\u001b[0m\u001b[0;34m\u001b[0m\u001b[0;34m\u001b[0m\u001b[0m\n\u001b[1;32m      4\u001b[0m \u001b[0mname\u001b[0m \u001b[0;34m=\u001b[0m \u001b[0;34m'stelle_2048_num1bins_triple.dat'\u001b[0m\u001b[0;34m\u001b[0m\u001b[0;34m\u001b[0m\u001b[0m\n\u001b[0;32m----> 5\u001b[0;31m \u001b[0mh\u001b[0m \u001b[0;34m=\u001b[0m \u001b[0mh5py\u001b[0m\u001b[0;34m.\u001b[0m\u001b[0mFile\u001b[0m\u001b[0;34m(\u001b[0m\u001b[0mdirec\u001b[0m \u001b[0;34m+\u001b[0m \u001b[0mname\u001b[0m\u001b[0;34m,\u001b[0m \u001b[0;34m'r'\u001b[0m\u001b[0;34m)\u001b[0m\u001b[0;34m\u001b[0m\u001b[0;34m\u001b[0m\u001b[0m\n\u001b[0m\u001b[1;32m      6\u001b[0m \u001b[0;31m# for key in h.keys():\u001b[0m\u001b[0;34m\u001b[0m\u001b[0;34m\u001b[0m\u001b[0;34m\u001b[0m\u001b[0m\n\u001b[1;32m      7\u001b[0m \u001b[0;31m#     print('dataset = %s'%key)\u001b[0m\u001b[0;34m\u001b[0m\u001b[0;34m\u001b[0m\u001b[0;34m\u001b[0m\u001b[0m\n",
      "\u001b[0;32m~/.local/lib/python3.8/site-packages/h5py/_hl/files.py\u001b[0m in \u001b[0;36m__init__\u001b[0;34m(self, name, mode, driver, libver, userblock_size, swmr, rdcc_nslots, rdcc_nbytes, rdcc_w0, track_order, fs_strategy, fs_persist, fs_threshold, **kwds)\u001b[0m\n\u001b[1;32m    442\u001b[0m             \u001b[0;32mwith\u001b[0m \u001b[0mphil\u001b[0m\u001b[0;34m:\u001b[0m\u001b[0;34m\u001b[0m\u001b[0;34m\u001b[0m\u001b[0m\n\u001b[1;32m    443\u001b[0m                 \u001b[0mfapl\u001b[0m \u001b[0;34m=\u001b[0m \u001b[0mmake_fapl\u001b[0m\u001b[0;34m(\u001b[0m\u001b[0mdriver\u001b[0m\u001b[0;34m,\u001b[0m \u001b[0mlibver\u001b[0m\u001b[0;34m,\u001b[0m \u001b[0mrdcc_nslots\u001b[0m\u001b[0;34m,\u001b[0m \u001b[0mrdcc_nbytes\u001b[0m\u001b[0;34m,\u001b[0m \u001b[0mrdcc_w0\u001b[0m\u001b[0;34m,\u001b[0m \u001b[0;34m**\u001b[0m\u001b[0mkwds\u001b[0m\u001b[0;34m)\u001b[0m\u001b[0;34m\u001b[0m\u001b[0;34m\u001b[0m\u001b[0m\n\u001b[0;32m--> 444\u001b[0;31m                 fid = make_fid(name, mode, userblock_size,\n\u001b[0m\u001b[1;32m    445\u001b[0m                                fapl, fcpl=make_fcpl(track_order=track_order, fs_strategy=fs_strategy,\n\u001b[1;32m    446\u001b[0m                                fs_persist=fs_persist, fs_threshold=fs_threshold),\n",
      "\u001b[0;32m~/.local/lib/python3.8/site-packages/h5py/_hl/files.py\u001b[0m in \u001b[0;36mmake_fid\u001b[0;34m(name, mode, userblock_size, fapl, fcpl, swmr)\u001b[0m\n\u001b[1;32m    197\u001b[0m         \u001b[0;32mif\u001b[0m \u001b[0mswmr\u001b[0m \u001b[0;32mand\u001b[0m \u001b[0mswmr_support\u001b[0m\u001b[0;34m:\u001b[0m\u001b[0;34m\u001b[0m\u001b[0;34m\u001b[0m\u001b[0m\n\u001b[1;32m    198\u001b[0m             \u001b[0mflags\u001b[0m \u001b[0;34m|=\u001b[0m \u001b[0mh5f\u001b[0m\u001b[0;34m.\u001b[0m\u001b[0mACC_SWMR_READ\u001b[0m\u001b[0;34m\u001b[0m\u001b[0;34m\u001b[0m\u001b[0m\n\u001b[0;32m--> 199\u001b[0;31m         \u001b[0mfid\u001b[0m \u001b[0;34m=\u001b[0m \u001b[0mh5f\u001b[0m\u001b[0;34m.\u001b[0m\u001b[0mopen\u001b[0m\u001b[0;34m(\u001b[0m\u001b[0mname\u001b[0m\u001b[0;34m,\u001b[0m \u001b[0mflags\u001b[0m\u001b[0;34m,\u001b[0m \u001b[0mfapl\u001b[0m\u001b[0;34m=\u001b[0m\u001b[0mfapl\u001b[0m\u001b[0;34m)\u001b[0m\u001b[0;34m\u001b[0m\u001b[0;34m\u001b[0m\u001b[0m\n\u001b[0m\u001b[1;32m    200\u001b[0m     \u001b[0;32melif\u001b[0m \u001b[0mmode\u001b[0m \u001b[0;34m==\u001b[0m \u001b[0;34m'r+'\u001b[0m\u001b[0;34m:\u001b[0m\u001b[0;34m\u001b[0m\u001b[0;34m\u001b[0m\u001b[0m\n\u001b[1;32m    201\u001b[0m         \u001b[0mfid\u001b[0m \u001b[0;34m=\u001b[0m \u001b[0mh5f\u001b[0m\u001b[0;34m.\u001b[0m\u001b[0mopen\u001b[0m\u001b[0;34m(\u001b[0m\u001b[0mname\u001b[0m\u001b[0;34m,\u001b[0m \u001b[0mh5f\u001b[0m\u001b[0;34m.\u001b[0m\u001b[0mACC_RDWR\u001b[0m\u001b[0;34m,\u001b[0m \u001b[0mfapl\u001b[0m\u001b[0;34m=\u001b[0m\u001b[0mfapl\u001b[0m\u001b[0;34m)\u001b[0m\u001b[0;34m\u001b[0m\u001b[0;34m\u001b[0m\u001b[0m\n",
      "\u001b[0;32mh5py/_objects.pyx\u001b[0m in \u001b[0;36mh5py._objects.with_phil.wrapper\u001b[0;34m()\u001b[0m\n",
      "\u001b[0;32mh5py/_objects.pyx\u001b[0m in \u001b[0;36mh5py._objects.with_phil.wrapper\u001b[0;34m()\u001b[0m\n",
      "\u001b[0;32mh5py/h5f.pyx\u001b[0m in \u001b[0;36mh5py.h5f.open\u001b[0;34m()\u001b[0m\n",
      "\u001b[0;31mOSError\u001b[0m: Unable to open file (file signature not found)"
     ]
    }
   ],
   "source": [
    "direc = '/home/matti/programming/isteddas/cmake-build-debug/bin/output/'\n",
    "name = 'snapshots'\n",
    "# for key in h.keys():\n",
    "#     print('dataset = %s'%key)\n",
    "s0 = h.get('snapshot_0/predicted')[...]\n",
    "h.close()\n",
    "\n",
    "#x:y:z:vx:vy:vz:m:bl_i:bl_n:bl_c_i:bl_c_n:localtime\n",
    "x0 = s0[:,0]\n",
    "y0 = s0[:,1]\n",
    "z0 = s0[:,2]\n",
    "vx0 = s0[:,3]\n",
    "vy0 = s0[:,4]\n",
    "vz0 = s0[:,5]\n",
    "m0 = s0[:,6]\n",
    "del(s0)"
   ]
  },
  {
   "cell_type": "code",
   "execution_count": 34,
   "id": "889c14cd-eff3-499e-a1ea-68e762d62758",
   "metadata": {},
   "outputs": [],
   "source": [
    "# s = [[0.0304868250646065, -0.2425858579998645, 0.4067332838054689, 0.4456222054077507, -2.4429746102970218, -5.7388288937759029, 0.0003563362601231],\n",
    "# [0.0304857302549585, -0.2425840041646205, 0.4067325318751707, -0.9866633276528159, 4.3558610726358893, 9.2124501731821695, 0.0002115406774254],\n",
    "# [0.0304352770584385, -0.2429078763763385, 0.4068292179283354, 0.3958886487993871, 0.4605388287072274, -0.7022087918093974, 0.0001440781163928]]\n",
    "s = [[0.0304868250646065, -0.2425858579998645, 0.4067332838054689, 0.4456222054077507, -2.4429746102970218, -5.7388288937759029, 0.0003563362601231],\n",
    "[0.0304857302549585, -0.2425840041646205, 0.4067325318751707, -0.9866633276528159, 4.3558610726358893, 9.2124501731821695, 0.0002115406774254],\n",
    "[0.0300352770584385, -0.2424078763763385, 0.4064292179283354, 0.3958886487993871, -0.4605388287072274, 0.7022087918093974, 0.0001440781163928]]\n",
    "s = np.array(s)"
   ]
  },
  {
   "cell_type": "code",
   "execution_count": 35,
   "id": "9643751e-a554-43ef-813a-c60b0499040c",
   "metadata": {},
   "outputs": [
    {
     "data": {
      "image/png": "[encoded data removed]",
      "text/plain": [
       "<Figure size 691.2x691.2 with 1 Axes>"
      ]
     },
     "metadata": {
      "needs_background": "light"
     },
     "output_type": "display_data"
    }
   ],
   "source": [
    "fig = plt.figure(1, figsize=[n*4.8,n*4.8])\n",
    "ax = fig.add_subplot()\n",
    "# _ = ax.scatter(x0[0], y0[0], marker='*', lw=0.6, color='red',label='0')\n",
    "# _ = ax.scatter(x0[1], y0[1], marker='*', lw=0.6, color='blue',label='1')\n",
    "# _ = ax.scatter(x0[1370], y0[1370], marker='*', lw=0.6, color='green',label='1370')\n",
    "x = 0; y=1; z=2\n",
    "a = x; b=y\n",
    "_ = ax.quiver(s[0,a], s[0,b], s[0,a+3], s[0,b+3], lw=0.6, color='red',label='0')\n",
    "_ = ax.quiver(s[1,a], s[1,b], s[1,a+3], s[1,b+3], lw=0.6, color='blue',label='1')\n",
    "_ = ax.quiver(s[2,a], s[2,b], s[2,a+3], s[2,b+3], lw=0.6, color='green',label='2')\n",
    "_ = ax.set_xscale(\"log\")\n",
    "_ = plt.legend(fontsize=fs)\n",
    "_ = plt.xticks(fontsize=fs)\n",
    "_ = plt.yticks(fontsize=fs)\n",
    "_ = plt.xlabel(str(a),fontsize=fs)\n",
    "_ = plt.ylabel(str(b),fontsize=fs)\n",
    "# a = 5\n",
    "# _ = plt.xlim(-a,a);\n",
    "# _ = plt.ylim(-a,a);"
   ]
  },
  {
   "cell_type": "code",
   "execution_count": 30,
   "id": "6b622cc3-8277-4945-98e9-294dc0c6cf16",
   "metadata": {},
   "outputs": [
    {
     "data": {
      "text/plain": [
       "array([[ 3.04868251e-02, -2.42585858e-01,  4.06733284e-01, ...,\n",
       "        -5.73882889e+00,  3.56336260e-04,  1.00000000e-06],\n",
       "       [ 3.04857303e-02, -2.42584004e-01,  4.06732532e-01, ...,\n",
       "         9.21245017e+00,  2.11540677e-04,  1.00000000e-06],\n",
       "       [ 3.04352771e-02, -2.42907876e-01,  4.06829218e-01, ...,\n",
       "        -7.02208792e-01,  1.44078116e-04,  1.00000000e-06],\n",
       "       ...,\n",
       "       [-8.26168728e-02,  1.85379041e+00,  1.05843269e+00, ...,\n",
       "        -2.38356256e-01,  7.58434850e-05,  1.00000000e-06],\n",
       "       [-5.75683384e-01, -1.13966314e+00,  4.85305268e-01, ...,\n",
       "        -2.26552665e-02,  7.57949730e-05,  1.00000000e-06],\n",
       "       [ 9.24073493e-01,  1.12573540e+00,  2.95480904e-01, ...,\n",
       "         1.77005214e-01,  7.57118471e-05,  1.00000000e-06]])"
      ]
     },
     "execution_count": 30,
     "metadata": {},
     "output_type": "execute_result"
    }
   ],
   "source": [
    "direc = '/home/matti/programming/isteddas/input/'\n",
    "name = 'stelle_2048_num1bins_triple.dat'\n",
    "\n",
    "f = open(direc + name, 'r')\n",
    "file=f.readlines()\n",
    "f.close()\n",
    "o = np.loadtxt(file)\n",
    "\n",
    "o"
   ]
  },
  {
   "cell_type": "code",
   "execution_count": 33,
   "id": "01864c1b-2b05-40d9-979e-88887265119d",
   "metadata": {},
   "outputs": [
    {
     "data": {
      "application/vnd.jupyter.widget-view+json": {
       "model_id": "5215e80c969c44a3a0c88e7662b44210",
       "version_major": 2,
       "version_minor": 0
      },
      "text/plain": [
       "Canvas(toolbar=Toolbar(toolitems=[('Home', 'Reset original view', 'home', 'home'), ('Back', 'Back to previous …"
      ]
     },
     "metadata": {},
     "output_type": "display_data"
    }
   ],
   "source": [
    "%matplotlib widget\n",
    "x = 0\n",
    "y = 1\n",
    "\n",
    "fig = plt.figure(2, figsize=[n*4.8,n*4.8])\n",
    "ax = fig.add_subplot()\n",
    "_ = ax.scatter(o[0,x], o[0,y], lw=0.6, color='blue',label='0')\n",
    "_ = ax.scatter(o[1,x], o[1,y], lw=0.6, color='green',label='1')\n",
    "_ = ax.scatter(o[2,x], o[2,y], lw=0.6, color='purple',label='2')\n",
    "_ = ax.quiver(o[0,x], o[0,y],o[0,x+3],o[0,y+3], lw=0.6, color='red',label='0')\n",
    "_ = ax.quiver(o[1,x], o[1,y],o[1,x+3],o[1,y+3], lw=0.6, color='orange',label='1')\n",
    "_ = ax.quiver(o[2,x], o[2,y],o[2,x+3],o[2,y+3], lw=0.6, color='pink',label='2')\n",
    "# _ = ax.set_xscale(\"log\")\n",
    "_ = plt.legend(fontsize=fs)\n",
    "# _ = plt.xticks(fontsize=fs)\n",
    "# _ = plt.yticks(fontsize=fs)\n",
    "_ = ax.set_xlabel('X [UA]', fontsize=fs)\n",
    "_ = ax.set_ylabel('Y [UA]', fontsize=fs)\n",
    "\n",
    "# fig = plt.figure(2, figsize=[n*4.8,n*4.8])\n",
    "# ax = fig.add_subplot(projection='3d')\n",
    "# _ = ax.scatter(o[0,0], o[0,1], o[0,2], lw=0.6, color='blue',label='0')\n",
    "# _ = ax.scatter(o[1,0], o[1,1], o[1,2], lw=0.6, color='green',label='1')\n",
    "# _ = ax.scatter(o[2,0], o[2,1], o[2,2], lw=0.6, color='purple',label='2')\n",
    "# _ = ax.quiver(o[0,0], o[0,1],o[0,2],o[0,3],o[0,4],o[0,5], lw=0.6, color='red',label='0')\n",
    "# _ = ax.quiver(o[1,0], o[1,1],o[1,2],o[1,3],o[1,4],o[1,5], lw=0.6, color='orange',label='1')\n",
    "# _ = ax.quiver(o[2,0], o[2,1],o[2,2],o[2,3],o[2,4],o[2,5], lw=0.6, color='pink',label='2')\n",
    "# # _ = ax.set_xscale(\"log\")\n",
    "# _ = plt.legend(fontsize=fs)\n",
    "# # _ = plt.xticks(fontsize=fs)\n",
    "# # _ = plt.yticks(fontsize=fs)\n",
    "# _ = ax.set_xlabel('X [UA]', fontsize=fs)\n",
    "# _ = ax.set_ylabel('Y [UA]', fontsize=fs)\n",
    "# _ = ax.set_zlabel('Z [UA]', fontsize=fs)"
   ]
  },
  {
   "cell_type": "code",
   "execution_count": null,
   "id": "07a89eb5-91bb-47bc-a177-50497a907f6c",
   "metadata": {},
   "outputs": [],
   "source": []
  }
 ],
 "metadata": {
  "kernelspec": {
   "display_name": "Python 3",
   "language": "python",
   "name": "python3"
  },
  "language_info": {
   "codemirror_mode": {
    "name": "ipython",
    "version": 3
   },
   "file_extension": ".py",
   "mimetype": "text/x-python",
   "name": "python",
   "nbconvert_exporter": "python",
   "pygments_lexer": "ipython3",
   "version": "3.8.10"
  }
 },
 "nbformat": 4,
 "nbformat_minor": 5
}
