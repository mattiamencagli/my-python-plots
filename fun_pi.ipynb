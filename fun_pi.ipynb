{
 "cells": [
  {
   "cell_type": "code",
   "execution_count": 22,
   "id": "99662ea5-d2c0-49ab-a1a7-4020e9e93d1e",
   "metadata": {},
   "outputs": [],
   "source": [
    "import numpy as np\n",
    "import matplotlib.pylab as plt\n",
    "import matplotlib\n",
    "import random \n",
    "\n",
    "n=2\n",
    "fs = 'xx-large'\n",
    "\n",
    "def area(x,y):\n",
    "    return np.abs(0.5*(x[0]*(y[1]-y[2]) + x[1]*(y[2]-y[0])+ x[2]*(y[0]-y[1])))"
   ]
  },
  {
   "cell_type": "code",
   "execution_count": 23,
   "id": "f5124408-5ed1-463b-904c-dda1f8453751",
   "metadata": {},
   "outputs": [],
   "source": [
    "#metodo triangoli\n",
    "\n",
    "X = [0,np.sqrt(3)/2,-np.sqrt(3)/2]\n",
    "Y = [1,-0.5,-0.5]\n",
    "max_iter = 6;\n",
    "A1 = area(X,Y)\n",
    "\n",
    "for i in range(max_iter):\n",
    "    points = len(X)\n",
    "    tmpX = []\n",
    "    tmpY = []\n",
    "    newX = []\n",
    "    newY = []\n",
    "    for j in range(points):\n",
    "        xm = 0.5 * (X[j] + X[j-1])\n",
    "        ym = 0.5 * (Y[j] + Y[j-1])\n",
    "        mod = np.sqrt(xm*xm + ym*ym)\n",
    "        tmpX.append(xm/mod)\n",
    "        tmpY.append(ym/mod)\n",
    "    A1 += area(tmpX,tmpY)\n",
    "    for j in range(2*points):\n",
    "        if(j%2 == 0):\n",
    "            idx = int(j/2)\n",
    "            newX.append(tmpX[idx])\n",
    "            newY.append(tmpY[idx])\n",
    "        else:\n",
    "            idx = int((j+1)/2)-1\n",
    "            newX.append(X[idx])\n",
    "            newY.append(Y[idx])\n",
    "    X = newX\n",
    "    Y = newY"
   ]
  },
  {
   "cell_type": "code",
   "execution_count": 35,
   "id": "49391c6c-739c-4321-98be-a2bcb71640ee",
   "metadata": {},
   "outputs": [
    {
     "name": "stdout",
     "output_type": "stream",
     "text": [
      "stima pi = 3.142048\n"
     ]
    }
   ],
   "source": [
    "#metodo montecarlo (tipo)\n",
    "\n",
    "points = int(1e6)\n",
    "x=[]\n",
    "y=[]\n",
    "inside=[]\n",
    "\n",
    "for i in range(points):\n",
    "    x.append(random.uniform(-1,1))\n",
    "    y.append(random.uniform(-1,1))\n",
    "    inside.append(x[i]**2 + y[i]**2 <= 1)\n",
    "\n",
    "x = np.array(x)\n",
    "y = np.array(y)\n",
    "    \n",
    "circle = 0\n",
    "for i in range(points):\n",
    "    if(inside[i]):\n",
    "        circle +=1\n",
    "\n",
    "pi = 4*circle/points\n",
    "print(\"stima pi = {}\".format(pi))"
   ]
  },
  {
   "cell_type": "code",
   "execution_count": 34,
   "id": "5397722c-e414-4938-817a-8bced32f2bc0",
   "metadata": {},
   "outputs": [
    {
     "ename": "TypeError",
     "evalue": "unsupported operand type(s) for ** or pow(): 'list' and 'int'",
     "output_type": "error",
     "traceback": [
      "\u001b[0;31m---------------------------------------------------------------------------\u001b[0m",
      "\u001b[0;31mTypeError\u001b[0m                                 Traceback (most recent call last)",
      "\u001b[0;32m<ipython-input-34-e049088ec133>\u001b[0m in \u001b[0;36m<module>\u001b[0;34m\u001b[0m\n\u001b[1;32m     10\u001b[0m \u001b[0mfig2\u001b[0m \u001b[0;34m=\u001b[0m \u001b[0mplt\u001b[0m\u001b[0;34m.\u001b[0m\u001b[0mfigure\u001b[0m\u001b[0;34m(\u001b[0m\u001b[0;36m2\u001b[0m\u001b[0;34m,\u001b[0m \u001b[0mfigsize\u001b[0m\u001b[0;34m=\u001b[0m\u001b[0;34m[\u001b[0m\u001b[0mn\u001b[0m\u001b[0;34m*\u001b[0m\u001b[0;36m4.8\u001b[0m\u001b[0;34m,\u001b[0m\u001b[0mn\u001b[0m\u001b[0;34m*\u001b[0m\u001b[0;36m4.8\u001b[0m\u001b[0;34m]\u001b[0m\u001b[0;34m)\u001b[0m\u001b[0;34m\u001b[0m\u001b[0;34m\u001b[0m\u001b[0m\n\u001b[1;32m     11\u001b[0m \u001b[0;31m# _ = plt.scatter(x[~inside],y[~inside],color='blue')\u001b[0m\u001b[0;34m\u001b[0m\u001b[0;34m\u001b[0m\u001b[0;34m\u001b[0m\u001b[0m\n\u001b[0;32m---> 12\u001b[0;31m \u001b[0m_\u001b[0m \u001b[0;34m=\u001b[0m \u001b[0mplt\u001b[0m\u001b[0;34m.\u001b[0m\u001b[0mscatter\u001b[0m\u001b[0;34m(\u001b[0m\u001b[0mx\u001b[0m\u001b[0;34m[\u001b[0m\u001b[0mx\u001b[0m\u001b[0;34m**\u001b[0m\u001b[0;36m2\u001b[0m \u001b[0;34m+\u001b[0m \u001b[0my\u001b[0m\u001b[0;34m**\u001b[0m\u001b[0;36m2\u001b[0m \u001b[0;34m<=\u001b[0m \u001b[0;36m1\u001b[0m\u001b[0;34m]\u001b[0m\u001b[0;34m,\u001b[0m\u001b[0my\u001b[0m\u001b[0;34m[\u001b[0m\u001b[0mx\u001b[0m\u001b[0;34m**\u001b[0m\u001b[0;36m2\u001b[0m \u001b[0;34m+\u001b[0m \u001b[0my\u001b[0m\u001b[0;34m**\u001b[0m\u001b[0;36m2\u001b[0m \u001b[0;34m<=\u001b[0m \u001b[0;36m1\u001b[0m\u001b[0;34m]\u001b[0m\u001b[0;34m,\u001b[0m\u001b[0mcolor\u001b[0m\u001b[0;34m=\u001b[0m\u001b[0;34m'red'\u001b[0m\u001b[0;34m)\u001b[0m\u001b[0;34m\u001b[0m\u001b[0;34m\u001b[0m\u001b[0m\n\u001b[0m\u001b[1;32m     13\u001b[0m \u001b[0m_\u001b[0m \u001b[0;34m=\u001b[0m \u001b[0mplt\u001b[0m\u001b[0;34m.\u001b[0m\u001b[0mscatter\u001b[0m\u001b[0;34m(\u001b[0m\u001b[0;36m0\u001b[0m\u001b[0;34m,\u001b[0m\u001b[0;36m0\u001b[0m\u001b[0;34m,\u001b[0m \u001b[0mcolor\u001b[0m\u001b[0;34m=\u001b[0m\u001b[0;34m'black'\u001b[0m\u001b[0;34m,\u001b[0m \u001b[0mmarker\u001b[0m\u001b[0;34m=\u001b[0m\u001b[0;34m'o'\u001b[0m\u001b[0;34m,\u001b[0m\u001b[0mlw\u001b[0m\u001b[0;34m=\u001b[0m\u001b[0;36m3\u001b[0m\u001b[0;34m)\u001b[0m\u001b[0;34m\u001b[0m\u001b[0;34m\u001b[0m\u001b[0m\n\u001b[1;32m     14\u001b[0m \u001b[0m_\u001b[0m \u001b[0;34m=\u001b[0m \u001b[0mplt\u001b[0m\u001b[0;34m.\u001b[0m\u001b[0mxlabel\u001b[0m\u001b[0;34m(\u001b[0m\u001b[0;34m'X'\u001b[0m\u001b[0;34m,\u001b[0m \u001b[0mfontsize\u001b[0m\u001b[0;34m=\u001b[0m\u001b[0mfs\u001b[0m\u001b[0;34m)\u001b[0m\u001b[0;34m\u001b[0m\u001b[0;34m\u001b[0m\u001b[0m\n",
      "\u001b[0;31mTypeError\u001b[0m: unsupported operand type(s) for ** or pow(): 'list' and 'int'"
     ]
    },
    {
     "data": {
      "image/png": "[encoded data removed]",
      "text/plain": [
       "<Figure size 691.2x691.2 with 1 Axes>"
      ]
     },
     "metadata": {
      "needs_background": "light"
     },
     "output_type": "display_data"
    },
    {
     "data": {
      "text/plain": [
       "<Figure size 691.2x691.2 with 0 Axes>"
      ]
     },
     "metadata": {},
     "output_type": "display_data"
    }
   ],
   "source": [
    "fig = plt.figure(0, figsize=[n*4.8,n*4.8])\n",
    "_ = plt.scatter(X,Y, lw=1, color='blue',)\n",
    "_ = plt.scatter(0,0, color='black', marker='o',lw=3)\n",
    "_ = plt.xlabel('X', fontsize=fs)\n",
    "_ = plt.ylabel('Y', fontsize=fs)\n",
    "_ = plt.title('PI = %f'%A1,fontsize=fs)\n",
    "_ = plt.xlim(-1.2,1.2)\n",
    "_ = plt.ylim(-1.2,1.2)\n",
    "\n",
    "fig2 = plt.figure(2, figsize=[n*4.8,n*4.8])\n",
    "# _ = plt.scatter(x[~inside],y[~inside],color='blue')\n",
    "_ = plt.scatter(x[x**2 + y**2 <= 1],y[x**2 + y**2 <= 1],color='red')\n",
    "_ = plt.scatter(0,0, color='black', marker='o',lw=3)\n",
    "_ = plt.xlabel('X', fontsize=fs)\n",
    "_ = plt.ylabel('Y', fontsize=fs)\n",
    "_ = plt.title('PI = %f'%pi,fontsize=fs)\n",
    "_ = plt.xlim(-1.2,1.2)\n",
    "_ = plt.ylim(-1.2,1.2)"
   ]
  },
  {
   "cell_type": "code",
   "execution_count": null,
   "id": "06461cb2-8f65-4c35-b2ec-ec7be8d3588a",
   "metadata": {},
   "outputs": [],
   "source": []
  },
  {
   "cell_type": "code",
   "execution_count": null,
   "id": "f67aafe9-c716-4e69-93ef-50ac18377044",
   "metadata": {},
   "outputs": [],
   "source": []
  }
 ],
 "metadata": {
  "kernelspec": {
   "display_name": "Python 3",
   "language": "python",
   "name": "python3"
  },
  "language_info": {
   "codemirror_mode": {
    "name": "ipython",
    "version": 3
   },
   "file_extension": ".py",
   "mimetype": "text/x-python",
   "name": "python",
   "nbconvert_exporter": "python",
   "pygments_lexer": "ipython3",
   "version": "3.8.10"
  }
 },
 "nbformat": 4,
 "nbformat_minor": 5
}
