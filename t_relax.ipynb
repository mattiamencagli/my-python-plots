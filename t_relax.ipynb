{
 "cells": [
  {
   "cell_type": "code",
   "execution_count": 9,
   "id": "1e1a2719-88af-433f-b047-d6d1ff268ba2",
   "metadata": {
    "tags": []
   },
   "outputs": [
    {
     "name": "stdout",
     "output_type": "stream",
     "text": [
      "[  2048   4096   8192  16384  32768  65536 131072 262144]\n",
      "[109.7134377   82.65046388  41.82250105  20.636262    10.69235954\n",
      "   5.14161232   2.53089722   1.23951105]\n"
     ]
    }
   ],
   "source": [
    "import numpy as np\n",
    "import matplotlib.pylab as plt\n",
    "\n",
    "N = np.array([2**i for i in range(11,19)])\n",
    "print(N)\n",
    "M = np.array([1322.4, 2597.9, 5165.0, 10398.5, 20429.9, 41664.7, 83983.8, 169716.0]) # m sun\n",
    "rho = np.array([57.37, 77.53, 154.13, 310.31, 609.66, 1243.34, 2506.21, 5064.59]) # msun / pc^3\n",
    "sigma = 1.3127 #km/s\n",
    "G = 4.3009172706 * 10**-3 # pc⋅M⊙−1⋅(km/s)2\n",
    "\n",
    "conv = 1.023  # km/s to pc/Myr\n",
    "\n",
    "sigma *= conv\n",
    "G *= conv*conv\n",
    "m_ava = M/N\n",
    "\n",
    "t_relax = 0.034  * sigma**3 / (m_ava * G**2 * rho)\n",
    "print(t_relax)"
   ]
  },
  {
   "cell_type": "code",
   "execution_count": null,
   "id": "2136c22b-8e82-463f-bd07-e2b13cca563d",
   "metadata": {},
   "outputs": [],
   "source": []
  }
 ],
 "metadata": {
  "kernelspec": {
   "display_name": "Python 3",
   "language": "python",
   "name": "python3"
  },
  "language_info": {
   "codemirror_mode": {
    "name": "ipython",
    "version": 3
   },
   "file_extension": ".py",
   "mimetype": "text/x-python",
   "name": "python",
   "nbconvert_exporter": "python",
   "pygments_lexer": "ipython3",
   "version": "3.8.10"
  }
 },
 "nbformat": 4,
 "nbformat_minor": 5
}
