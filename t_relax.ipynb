{
 "cells": [
  {
   "cell_type": "code",
   "execution_count": 14,
   "id": "1e1a2719-88af-433f-b047-d6d1ff268ba2",
   "metadata": {
    "tags": []
   },
   "outputs": [
    {
     "name": "stdout",
     "output_type": "stream",
     "text": [
      "N = 2048     t_r = 109.71343769941689    t_r_perc = 3.7461227049144266\n",
      "N = 4096     t_r = 82.65046388271088    t_r_perc = 3.5450496734754666\n",
      "N = 8192     t_r = 41.82250104828585    t_r_perc = 4.973399361263813\n",
      "N = 16384     t_r = 20.636262004740257    t_r_perc = 7.074924710999649\n",
      "N = 32768     t_r = 10.692359536103675    t_r_perc = 9.726571543805186\n",
      "N = 65536     t_r = 5.141612315265738    t_r_perc = 14.197881038844345\n",
      "N = 131072     t_r = 2.53089721505526    t_r_perc = 20.54607342039555\n",
      "N = 262144     t_r = 1.2395110499100344    t_r_perc = 29.043710423245468\n"
     ]
    }
   ],
   "source": [
    "import numpy as np\n",
    "import matplotlib.pylab as plt\n",
    "\n",
    "N = np.array([2**i for i in range(11,19)])\n",
    "M = np.array([1322.4, 2597.9, 5165.0, 10398.5, 20429.9, 41664.7, 83983.8, 169716.0]) # m sun\n",
    "rho = np.array([57.37, 77.53, 154.13, 310.31, 609.66, 1243.34, 2506.21, 5064.59]) # msun / pc^3\n",
    "T = np.array([4.11, 2.93, 2.08, 1.46, 1.04, 0.73, 0.52, 0.36]) #Myr\n",
    "sigma = 1.3127 #km/s\n",
    "G = 4.3009172706 * 10**-3 # pc⋅M⊙−1⋅(km/s)2\n",
    "\n",
    "conv = 1.023  # km/s to pc/Myr\n",
    "\n",
    "sigma *= conv\n",
    "G *= conv*conv\n",
    "m_ava = M/N\n",
    "\n",
    "t_relax = 0.034  * sigma**3 / (m_ava * G**2 * rho)\n",
    "t_relax_perc = T / t_relax * 100\n",
    "for i in range(len(N)):\n",
    "    print(\"N = {}     t_r = {}    t_r_perc = {}\".format(N[i], t_relax[i], t_relax_perc[i]))"
   ]
  },
  {
   "cell_type": "code",
   "execution_count": null,
   "id": "2136c22b-8e82-463f-bd07-e2b13cca563d",
   "metadata": {},
   "outputs": [],
   "source": []
  }
 ],
 "metadata": {
  "kernelspec": {
   "display_name": "Python 3",
   "language": "python",
   "name": "python3"
  },
  "language_info": {
   "codemirror_mode": {
    "name": "ipython",
    "version": 3
   },
   "file_extension": ".py",
   "mimetype": "text/x-python",
   "name": "python",
   "nbconvert_exporter": "python",
   "pygments_lexer": "ipython3",
   "version": "3.8.10"
  }
 },
 "nbformat": 4,
 "nbformat_minor": 5
}
