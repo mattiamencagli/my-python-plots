{
 "cells": [
  {
   "cell_type": "code",
   "execution_count": 12,
   "id": "da3efdba-8fba-4fd2-88c3-ec30a1f269e0",
   "metadata": {},
   "outputs": [
    {
     "name": "stdout",
     "output_type": "stream",
     "text": [
      "[[0. 0. 0. 0. 0.]\n",
      " [0. 0. 0. 0. 0.]\n",
      " [0. 0. 0. 0. 0.]\n",
      " [0. 0. 0. 0. 0.]\n",
      " [0. 0. 0. 0. 0.]]\n",
      "[[0. 0. 0. 0. 0.]\n",
      " [2. 2. 2. 2. 2.]\n",
      " [4. 4. 4. 4. 4.]\n",
      " [6. 6. 6. 6. 6.]\n",
      " [8. 8. 8. 8. 8.]]\n",
      "slice(1, 2, None)\n",
      "[[2. 2. 2. 2. 2.]]\n",
      "[[0. 2. 4. 6. 8.]]\n"
     ]
    }
   ],
   "source": [
    "import numpy as np\n",
    "\n",
    "a = np.zeros((5,5));\n",
    "print(a)\n",
    "\n",
    "for i in range(5):\n",
    "    for j in range(5):\n",
    "        a[i,j] = i*2;\n",
    "print(a)\n",
    "idx = slice(1,2)\n",
    "print(idx)\n",
    "print(a[idx])"
   ]
  },
  {
   "cell_type": "code",
   "execution_count": null,
   "id": "8689ef18-2864-47d8-ac64-a7c0cfe15576",
   "metadata": {},
   "outputs": [],
   "source": []
  }
 ],
 "metadata": {
  "kernelspec": {
   "display_name": "Python 3 (ipykernel)",
   "language": "python",
   "name": "python3"
  },
  "language_info": {
   "codemirror_mode": {
    "name": "ipython",
    "version": 3
   },
   "file_extension": ".py",
   "mimetype": "text/x-python",
   "name": "python",
   "nbconvert_exporter": "python",
   "pygments_lexer": "ipython3",
   "version": "3.12.3"
  }
 },
 "nbformat": 4,
 "nbformat_minor": 5
}
