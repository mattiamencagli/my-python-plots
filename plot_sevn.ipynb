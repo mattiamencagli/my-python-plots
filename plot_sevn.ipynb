{
 "cells": [
  {
   "cell_type": "code",
   "execution_count": 1,
   "id": "bb601df5-0e87-43bd-86af-cd490e90bd76",
   "metadata": {},
   "outputs": [],
   "source": [
    "import numpy as np\n",
    "import matplotlib.pylab as plt\n",
    "\n",
    "n=2\n",
    "fs = 'xx-large'"
   ]
  },
  {
   "cell_type": "code",
   "execution_count": 2,
   "id": "a250d85b-edd8-483a-9bc9-877086ea88d0",
   "metadata": {},
   "outputs": [
    {
     "data": {
      "application/vnd.jupyter.widget-view+json": {
       "model_id": "a6a045db9e8d449db805de2c5b04ea2d",
       "version_major": 2,
       "version_minor": 0
      },
      "text/plain": [
       "Canvas(toolbar=Toolbar(toolitems=[('Home', 'Reset original view', 'home', 'home'), ('Back', 'Back to previous …"
      ]
     },
     "metadata": {},
     "output_type": "display_data"
    }
   ],
   "source": [
    "%matplotlib widget\n",
    "Mr= [3.80302836424899, 3.80287136188324]\n",
    "tr= [0, 26.8865032930836]\n",
    "M= [3.80302836424899, 3.803028355582833, 3.803028354499564, 3.803028353957929, 3.80287136188324]\n",
    "t= [0, 0.001953125000000, 0.002197265625000, 0.002319335937500, 26.8865032930836]\n",
    "\n",
    "\n",
    "fig = plt.figure(figsize=[n*4.8,n*4.8])\n",
    "_ = plt.plot(tr,Mr)\n",
    "_ = plt.scatter(t,M)"
   ]
  },
  {
   "cell_type": "code",
   "execution_count": 3,
   "id": "f692aa5b-0c83-42b9-b65e-635be285de8f",
   "metadata": {},
   "outputs": [],
   "source": [
    "direc = '/home/matti/programming/isteddas/cmake-build-stevo/bin/output/'\n",
    "name = 'mass_test.dat'\n",
    "with open(direc + name) as fp:\n",
    "    mt = np.loadtxt(fp)\n",
    "# 0: tempo, 1: massa cpu prova, 2: massa predictor, 3: massa corrector\n",
    "\n",
    "direcSI = '/home/matti/programming/isteddas/cmake-build-stevo/bin/sevn_output/'\n",
    "nameSI = 'output_0.dat'\n",
    "with open(direcSI + nameSI) as fp:\n",
    "    mtSI_tmp = np.loadtxt(fp)\n",
    "INDEXCHEVUOI=1008\n",
    "mtSI = [i for i in mtSI_tmp if i[0]==INDEXCHEVUOI]\n",
    "mtSI = np.asarray(mtSI)\n",
    "del(mtSI_tmp)\n",
    "\n",
    "direcS = '/home/matti/programming/sevn/sevn_output/'\n",
    "nameS = 'output_0.dat'\n",
    "with open(direcS + nameS) as fp:\n",
    "    mtS = np.loadtxt(fp)\n",
    "\n",
    "# t=[0, 5.8949376274365148376]\n",
    "# m=[0.0462579312249484, 0.0452765872191029]\n",
    "# t = np.asarray(t)\n",
    "# m = np.asarray(m)"
   ]
  },
  {
   "cell_type": "code",
   "execution_count": 4,
   "id": "3e3db1c4-d2c7-473e-baf1-b2687c40ee22",
   "metadata": {},
   "outputs": [
    {
     "data": {
      "application/vnd.jupyter.widget-view+json": {
       "model_id": "fb5cc1da445a45ada276399b6ea261a1",
       "version_major": 2,
       "version_minor": 0
      },
      "text/plain": [
       "Canvas(toolbar=Toolbar(toolitems=[('Home', 'Reset original view', 'home', 'home'), ('Back', 'Back to previous …"
      ]
     },
     "metadata": {},
     "output_type": "display_data"
    }
   ],
   "source": [
    "%matplotlib widget\n",
    "m_u = 1322.380429\n",
    "t_u = 0.411051801011542\n",
    "# t_u = 1\n",
    "_ = plt.figure(0, figsize=[n*4.8,n*4.8])\n",
    "# _ = plt.plot(t*t_u, m*m_u, color='black', linewidth=2, label='Prima retta check')\n",
    "# _ = plt.plot(mt[:,0]*t_u, mt[:,1]*m_u, label='CPU_prova')\n",
    "# _ = plt.plot(mt[:,0]*t_u, mt[:,2]*m_u, linestyle='--', label='GPU_predictor')\n",
    "# _ = plt.plot(mt[:,0]*t_u, mt[:,3]*m_u, linestyle='-.', label='GPU_corrector')\n",
    "_ = plt.plot(mt[:,0]*t_u, mt[:,2]*m_u, linestyle='-', label='ISTEDDAS GPU interpolation')\n",
    "_ = plt.plot(mtS[:,2], mtS[:,3], linestyle='-', label='SEVN')\n",
    "_ = plt.plot(mtSI[:-1,2], mtSI[:-1,3], linestyle='--', label='SEVN in ISTEDDAS')\n",
    "_ = plt.legend(fontsize=fs)\n",
    "_ = plt.xlabel('t [Myr]', fontsize=fs)\n",
    "_ = plt.ylabel(r'Mass [$M_\\odot$]', fontsize=fs)\n",
    "_ = plt.xticks(fontsize=fs)\n",
    "_ = plt.yticks(fontsize=fs)\n",
    "_ = plt.grid()"
   ]
  },
  {
   "cell_type": "code",
   "execution_count": null,
   "id": "46754952-1e4a-4f70-b402-961af99b442b",
   "metadata": {},
   "outputs": [],
   "source": []
  }
 ],
 "metadata": {
  "kernelspec": {
   "display_name": "Python 3",
   "language": "python",
   "name": "python3"
  },
  "language_info": {
   "codemirror_mode": {
    "name": "ipython",
    "version": 3
   },
   "file_extension": ".py",
   "mimetype": "text/x-python",
   "name": "python",
   "nbconvert_exporter": "python",
   "pygments_lexer": "ipython3",
   "version": "3.8.10"
  }
 },
 "nbformat": 4,
 "nbformat_minor": 5
}
