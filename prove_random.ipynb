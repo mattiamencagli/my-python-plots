{
 "cells": [
  {
   "cell_type": "code",
   "execution_count": 75,
   "id": "ad277579-2edb-4aca-9b9d-4ee6f07bc63b",
   "metadata": {},
   "outputs": [],
   "source": [
    "import numpy as np\n",
    "import matplotlib\n",
    "import matplotlib.pyplot as plt\n",
    "import math\n",
    "import random\n",
    "import time\n"
   ]
  },
  {
   "cell_type": "code",
   "execution_count": 1,
   "id": "fe6566b3-a8de-4298-9059-e6de73b1b15f",
   "metadata": {},
   "outputs": [],
   "source": [
    "def gen_random(x1, x2, N, mediana, media): \n",
    "    if(not N%2):\n",
    "        raise Exception(\"N must be odd\")\n",
    "    arr1 = np.random.randint(x1, mediana, int(N/2))\n",
    "    arr2 = np.random.randint(mediana+1, x2, int(N/2))\n",
    "    mid = [mediana]\n",
    "    i = ((np.sum(arr1 + arr2) + mediana) - (media * N)) / x2\n",
    "    decm, intg = math.modf(i)\n",
    "    args = np.argsort(arr2)\n",
    "    arr2[args[(-x2-1):-1]] -= int(intg)\n",
    "    arr2[args[-1]] -= int(np.round(decm * x2))\n",
    "    return np.sort(np.concatenate((arr1, mid, arr2)))\n",
    "\n",
    "for i in range(10):\n",
    "    arr = gen_random(20,80,21,58,55)\n",
    "    print(np.median(arr))\n",
    "    print(arr.mean())\n",
    "    print(arr)\n",
    "    print()"
   ]
  },
  {
   "cell_type": "code",
   "execution_count": 22,
   "id": "7cbfaa5f-f6cc-4e6e-b872-af161cf24d5d",
   "metadata": {},
   "outputs": [
    {
     "name": "stdout",
     "output_type": "stream",
     "text": [
      "1 False\n",
      "3 False\n",
      "5 True\n",
      "7 True\n",
      "9 True\n"
     ]
    }
   ],
   "source": [
    "def f(n):\n",
    "    c=0\n",
    "    while(n >= 0):\n",
    "        n = n - 2\n",
    "        c = c + n - 2\n",
    "    return c\n",
    "    \n",
    "for i in range(1,10):\n",
    "    if i%2!=0:\n",
    "        print(i,f(i-2)<f(i))"
   ]
  },
  {
   "cell_type": "code",
   "execution_count": null,
   "id": "e700304f-52f4-4347-b18f-d49ce68c155c",
   "metadata": {},
   "outputs": [],
   "source": []
  },
  {
   "cell_type": "code",
   "execution_count": null,
   "id": "e8124c23-cf43-477f-b6fb-19505ba98478",
   "metadata": {},
   "outputs": [],
   "source": []
  }
 ],
 "metadata": {
  "kernelspec": {
   "display_name": "Python 3 (ipykernel)",
   "language": "python",
   "name": "python3"
  },
  "language_info": {
   "codemirror_mode": {
    "name": "ipython",
    "version": 3
   },
   "file_extension": ".py",
   "mimetype": "text/x-python",
   "name": "python",
   "nbconvert_exporter": "python",
   "pygments_lexer": "ipython3",
   "version": "3.10.6"
  }
 },
 "nbformat": 4,
 "nbformat_minor": 5
}
