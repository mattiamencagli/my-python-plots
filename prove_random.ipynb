{
 "cells": [
  {
   "cell_type": "code",
   "execution_count": 23,
   "id": "ad277579-2edb-4aca-9b9d-4ee6f07bc63b",
   "metadata": {},
   "outputs": [],
   "source": [
    "import numpy as np\n",
    "import matplotlib\n",
    "import matplotlib.pyplot as plt\n",
    "import math"
   ]
  },
  {
   "cell_type": "code",
   "execution_count": 37,
   "id": "fe6566b3-a8de-4298-9059-e6de73b1b15f",
   "metadata": {},
   "outputs": [],
   "source": [
    "def gen_random(x1, x2, N, mediana, media): \n",
    "    arr1 = np.random.randint(x1, mediana, int(N/2))\n",
    "    arr2 = np.random.randint(mediana, x2, int(N/2))\n",
    "    mid = [mediana]\n",
    "    if(N%2==0):\n",
    "        extra = 1\n",
    "    else:\n",
    "        extra = 0\n",
    "    i = ((np.sum(arr1 + arr2) + mediana) - (media * (N+extra))) / x2\n",
    "    decm, intg = math.modf(i)\n",
    "    args = np.argsort(arr2)\n",
    "    arr2[args[-x2-1:-1]] -= int(intg)\n",
    "    arr2[args[-1]] -= int(np.round(decm * x2))\n",
    "    return np.concatenate((arr1, mid, arr2))"
   ]
  },
  {
   "cell_type": "code",
   "execution_count": 41,
   "id": "d8eada7a-c269-4eba-8064-65eed3fd8e3f",
   "metadata": {},
   "outputs": [
    {
     "name": "stdout",
     "output_type": "stream",
     "text": [
      "56.0\n",
      "55.0\n",
      "[50 45 56 58 58 69 49]\n",
      "\n",
      "58.0\n",
      "55.0\n",
      "[ 21  24  20  58  61  58 143]\n",
      "\n",
      "58.0\n",
      "55.0\n",
      "[46 49 31 58 60 81 60]\n",
      "\n",
      "58.0\n",
      "55.0\n",
      "[ 33  24  29  58  62 115  64]\n",
      "\n",
      "57.0\n",
      "55.0\n",
      "[57 54 54 58 72 31 59]\n",
      "\n",
      "58.0\n",
      "55.0\n",
      "[43 24 29 58 85 76 70]\n",
      "\n",
      "58.0\n",
      "55.0\n",
      "[25 41 45 58 89 64 63]\n",
      "\n",
      "51.0\n",
      "55.0\n",
      "[51 50 45 58 62 68 51]\n",
      "\n",
      "58.0\n",
      "55.0\n",
      "[48 54 25 58 62 59 79]\n",
      "\n",
      "58.0\n",
      "55.0\n",
      "[ 24  35  32  58  65  61 110]\n",
      "\n"
     ]
    }
   ],
   "source": [
    "for i in range(10):\n",
    "    arr = gen_random(20,80,7,58,55)\n",
    "    print(np.median(arr))\n",
    "    print(arr.mean())\n",
    "    print(arr)\n",
    "    print()"
   ]
  },
  {
   "cell_type": "code",
   "execution_count": null,
   "id": "7cbfaa5f-f6cc-4e6e-b872-af161cf24d5d",
   "metadata": {},
   "outputs": [],
   "source": []
  }
 ],
 "metadata": {
  "kernelspec": {
   "display_name": "Python 3 (ipykernel)",
   "language": "python",
   "name": "python3"
  },
  "language_info": {
   "codemirror_mode": {
    "name": "ipython",
    "version": 3
   },
   "file_extension": ".py",
   "mimetype": "text/x-python",
   "name": "python",
   "nbconvert_exporter": "python",
   "pygments_lexer": "ipython3",
   "version": "3.10.6"
  }
 },
 "nbformat": 4,
 "nbformat_minor": 5
}
