{
 "cells": [
  {
   "cell_type": "code",
   "execution_count": 8,
   "id": "2bd22dfa-32bb-4da4-93c0-80a6c4c9a336",
   "metadata": {},
   "outputs": [
    {
     "name": "stderr",
     "output_type": "stream",
     "text": [
      "/tmp/ipykernel_18306/3473570761.py:5: MatplotlibDeprecationWarning: The get_cmap function was deprecated in Matplotlib 3.7 and will be removed in 3.11. Use ``matplotlib.colormaps[name]`` or ``matplotlib.colormaps.get_cmap()`` or ``pyplot.get_cmap()`` instead.\n",
      "  cmap = plt.cm.get_cmap(\"inferno\", 256)\n"
     ]
    },
    {
     "data": {
      "image/png": "[encoded data removed]",
      "text/plain": [
       "<Figure size 800x200 with 2 Axes>"
      ]
     },
     "metadata": {},
     "output_type": "display_data"
    },
    {
     "name": "stdout",
     "output_type": "stream",
     "text": [
      "{0,0,3}, {0,0,4}, {0,0,6}, {1,0,7}, {1,1,9}, {1,1,11}, {2,1,14}, {2,2,16}, \n",
      "{3,2,18}, {4,3,20}, {4,3,22}, {5,4,24}, {6,4,27}, {7,5,29}, {8,6,31}, {9,6,33}, \n",
      "{10,7,35}, {11,7,38}, {13,8,40}, {14,8,42}, {15,9,45}, {16,9,47}, {18,10,50}, {19,10,52}, \n",
      "{20,11,54}, {22,11,57}, {23,11,59}, {25,11,62}, {26,11,64}, {28,12,67}, {29,12,69}, {31,12,71}, \n",
      "{32,12,74}, {34,11,76}, {36,11,78}, {38,11,80}, {39,11,82}, {41,11,84}, {43,10,86}, {45,10,88}, \n",
      "{46,10,90}, {48,10,92}, {50,9,93}, {52,9,95}, {53,9,96}, {55,9,97}, {57,9,98}, {59,9,100}, \n",
      "{60,9,101}, {62,9,102}, {64,9,102}, {65,9,103}, {67,10,104}, {69,10,105}, {70,10,105}, {72,11,106}, \n",
      "{74,11,106}, {75,12,107}, {77,12,107}, {79,13,108}, {80,13,108}, {82,14,108}, {83,14,109}, {85,15,109}, \n",
      "{87,15,109}, {88,16,109}, {90,17,109}, {91,17,110}, {93,18,110}, {95,18,110}, {96,19,110}, {98,20,110}, \n",
      "{99,20,110}, {101,21,110}, {102,21,110}, {104,22,110}, {106,23,110}, {107,23,110}, {109,24,110}, {110,24,110}, \n",
      "{112,25,110}, {114,25,109}, {115,26,109}, {117,27,109}, {118,27,109}, {120,28,109}, {122,28,109}, {123,29,108}, \n",
      "{125,29,108}, {126,30,108}, {128,31,107}, {129,31,107}, {131,32,107}, {133,32,106}, {134,33,106}, {136,33,106}, \n",
      "{137,34,105}, {139,34,105}, {141,35,105}, {142,36,104}, {144,36,104}, {145,37,103}, {147,37,103}, {149,38,102}, \n",
      "{150,38,102}, {152,39,101}, {153,40,100}, {155,40,100}, {156,41,99}, {158,41,99}, {160,42,98}, {161,43,97}, \n",
      "{163,43,97}, {164,44,96}, {166,44,95}, {167,45,95}, {169,46,94}, {171,46,93}, {172,47,92}, {174,48,91}, \n",
      "{175,49,91}, {177,49,90}, {178,50,89}, {180,51,88}, {181,51,87}, {183,52,86}, {184,53,86}, {186,54,85}, \n",
      "{187,55,84}, {189,55,83}, {190,56,82}, {191,57,81}, {193,58,80}, {194,59,79}, {196,60,78}, {197,61,77}, \n",
      "{199,62,76}, {200,62,75}, {201,63,74}, {203,64,73}, {204,65,72}, {205,66,71}, {207,68,70}, {208,69,68}, \n",
      "{209,70,67}, {210,71,66}, {212,72,65}, {213,73,64}, {214,74,63}, {215,75,62}, {217,77,61}, {218,78,59}, \n",
      "{219,79,58}, {220,80,57}, {221,82,56}, {222,83,55}, {223,84,54}, {224,86,52}, {226,87,51}, {227,88,50}, \n",
      "{228,90,49}, {229,91,48}, {230,92,46}, {230,94,45}, {231,95,44}, {232,97,43}, {233,98,42}, {234,100,40}, \n",
      "{235,101,39}, {236,103,38}, {237,104,37}, {237,106,35}, {238,108,34}, {239,109,33}, {240,111,31}, {240,112,30}, \n",
      "{241,114,29}, {242,116,28}, {242,117,26}, {243,119,25}, {243,121,24}, {244,122,22}, {245,124,21}, {245,126,20}, \n",
      "{246,128,18}, {246,129,17}, {247,131,16}, {247,133,14}, {248,135,13}, {248,136,12}, {248,138,11}, {249,140,9}, \n",
      "{249,142,8}, {249,144,8}, {250,145,7}, {250,147,6}, {250,149,6}, {250,151,6}, {251,153,6}, {251,155,6}, \n",
      "{251,157,6}, {251,158,7}, {251,160,7}, {251,162,8}, {251,164,10}, {251,166,11}, {251,168,13}, {251,170,14}, \n",
      "{251,172,16}, {251,174,18}, {251,176,20}, {251,177,22}, {251,179,24}, {251,181,26}, {251,183,28}, {251,185,30}, \n",
      "{250,187,33}, {250,189,35}, {250,191,37}, {250,193,40}, {249,195,42}, {249,197,44}, {249,199,47}, {248,201,49}, \n",
      "{248,203,52}, {248,205,55}, {247,207,58}, {247,209,60}, {246,211,63}, {246,213,66}, {245,215,69}, {245,217,72}, \n",
      "{244,219,75}, {244,220,79}, {243,222,82}, {243,224,86}, {243,226,89}, {242,228,93}, {242,230,96}, {241,232,100}, \n",
      "{241,233,104}, {241,235,108}, {241,237,112}, {241,238,116}, {241,240,121}, {241,242,125}, {242,243,129}, {242,244,133}, \n",
      "{243,246,137}, {244,247,141}, {245,248,145}, {246,250,149}, {247,251,153}, {249,252,157}, {250,253,160}, {252,254,164}, \n"
     ]
    }
   ],
   "source": [
    "import matplotlib.pyplot as plt\n",
    "import numpy as np\n",
    "\n",
    "# colormap viridis\n",
    "cmap = plt.cm.get_cmap(\"gist_ncar\", 256)\n",
    "norm = plt.Normalize(vmin=0, vmax=255)\n",
    "\n",
    "# Crea una figura e un asse\n",
    "fig, ax = plt.subplots(figsize=(8, 2))\n",
    "fig.colorbar(plt.cm.ScalarMappable(norm=norm, cmap=cmap), ax=ax, orientation='horizontal')\n",
    "\n",
    "plt.title(\"Colormap 'gist_ncar'\")\n",
    "plt.show()\n",
    "\n",
    "for i in range(256):\n",
    "    r, g, b, _ = cmap(i)          # valori in [0,1]\n",
    "    r, g, b = int(r*255), int(g*255), int(b*255)\n",
    "    print(\"{%d,%d,%d}, \"%(r,g,b), end=\"\")\n",
    "    if (i+1)%8==0:\n",
    "        print()"
   ]
  },
  {
   "cell_type": "code",
   "execution_count": null,
   "id": "b7b36945-fc42-4d75-a235-f452bd35e0d1",
   "metadata": {},
   "outputs": [],
   "source": []
  }
 ],
 "metadata": {
  "kernelspec": {
   "display_name": "Python 3 (ipykernel)",
   "language": "python",
   "name": "python3"
  },
  "language_info": {
   "codemirror_mode": {
    "name": "ipython",
    "version": 3
   },
   "file_extension": ".py",
   "mimetype": "text/x-python",
   "name": "python",
   "nbconvert_exporter": "python",
   "pygments_lexer": "ipython3",
   "version": "3.12.3"
  }
 },
 "nbformat": 4,
 "nbformat_minor": 5
}
