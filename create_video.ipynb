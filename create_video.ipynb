{
 "cells": [
  {
   "cell_type": "code",
   "execution_count": 3,
   "id": "a942a2db-f901-4a8c-bf5b-85ee59d6deeb",
   "metadata": {},
   "outputs": [
    {
     "name": "stderr",
     "output_type": "stream",
     "text": [
      "/tmp/ipykernel_67695/837754373.py:24: DeprecationWarning: Starting with ImageIO v3 the behavior of this function will switch to that of iio.v3.imread. To keep the current behavior (and make this warning disappear) use `import imageio.v2 as imageio` or call `imageio.v2.imread` directly.\n",
      "  image = imageio.imread(image_file)\n",
      "IMAGEIO FFMPEG_WRITER WARNING: input image is not divisible by macro_block_size=16, resizing from (1477, 720) to (1488, 720) to ensure video compatibility with most codecs and players. To prevent resizing, make your input image divisible by the macro_block_size or set the macro_block_size to 1 (risking incompatibility).\n"
     ]
    },
    {
     "name": "stdout",
     "output_type": "stream",
     "text": [
      "['/home/matti/programming/grouch_data/RUN_male2/frame_000000.png', '/home/matti/programming/grouch_data/RUN_male2/frame_000500.png', '/home/matti/programming/grouch_data/RUN_male2/frame_001000.png', '/home/matti/programming/grouch_data/RUN_male2/frame_001500.png', '/home/matti/programming/grouch_data/RUN_male2/frame_002000.png', '/home/matti/programming/grouch_data/RUN_male2/frame_002500.png', '/home/matti/programming/grouch_data/RUN_male2/frame_003000.png', '/home/matti/programming/grouch_data/RUN_male2/frame_003500.png', '/home/matti/programming/grouch_data/RUN_male2/frame_004000.png', '/home/matti/programming/grouch_data/RUN_male2/frame_004500.png', '/home/matti/programming/grouch_data/RUN_male2/frame_005000.png']\n",
      "Appended /home/matti/programming/grouch_data/RUN_male2/frame_000000.png\n",
      "Appended /home/matti/programming/grouch_data/RUN_male2/frame_000500.png\n",
      "Appended /home/matti/programming/grouch_data/RUN_male2/frame_001000.png\n",
      "Appended /home/matti/programming/grouch_data/RUN_male2/frame_001500.png\n",
      "Appended /home/matti/programming/grouch_data/RUN_male2/frame_002000.png\n",
      "Appended /home/matti/programming/grouch_data/RUN_male2/frame_002500.png\n",
      "Appended /home/matti/programming/grouch_data/RUN_male2/frame_003000.png\n"
     ]
    },
    {
     "name": "stderr",
     "output_type": "stream",
     "text": [
      "[rawvideo @ 0x6b53780] Stream #0: not enough frames to estimate rate; consider increasing probesize\n",
      "[swscaler @ 0x6b6bd00] Warning: data is not aligned! This can lead to a speed loss\n"
     ]
    },
    {
     "name": "stdout",
     "output_type": "stream",
     "text": [
      "Appended /home/matti/programming/grouch_data/RUN_male2/frame_003500.png\n",
      "Appended /home/matti/programming/grouch_data/RUN_male2/frame_004000.png\n",
      "Appended /home/matti/programming/grouch_data/RUN_male2/frame_004500.png\n",
      "Appended /home/matti/programming/grouch_data/RUN_male2/frame_005000.png\n"
     ]
    }
   ],
   "source": [
    "import os\n",
    "import codecs\n",
    "import imageio\n",
    "\n",
    "direc='/home/matti/programming/grouch_data/RUN_male2/'\n",
    "\n",
    "image_pattern = \"frame_%06d.png\"  # Update this if your pattern is different\n",
    "filenames = sorted([os.path.join(direc, f) for f in os.listdir(direc) if f.endswith(\".png\")])\n",
    "\n",
    "print(filenames)\n",
    "\n",
    "fps=1\n",
    "output_video=direc+'movie.mp4'\n",
    "\n",
    "# images = []\n",
    "# for filename in filenames:\n",
    "#     images.append(imageio.imread(filename))\n",
    "# imageio.mimsave(name,images,format='MP4',codec='libx264')#,duration=0.01)\n",
    "\n",
    "# Create the video writer object\n",
    "with imageio.get_writer(output_video, fps=fps, codec='libx264', pixelformat='yuv420p') as writer:\n",
    "    for image_file in filenames:\n",
    "        # Read each image and append it to the video\n",
    "        image = imageio.imread(image_file)\n",
    "        writer.append_data(image)\n",
    "        print(f\"Appended {image_file}\")"
   ]
  },
  {
   "cell_type": "code",
   "execution_count": null,
   "id": "7e06a89b-0b93-423a-8423-e7bcb52ece68",
   "metadata": {},
   "outputs": [],
   "source": []
  },
  {
   "cell_type": "code",
   "execution_count": null,
   "id": "4496a35b-a465-4456-9e47-efa36cdefc73",
   "metadata": {},
   "outputs": [],
   "source": []
  }
 ],
 "metadata": {
  "kernelspec": {
   "display_name": "Python 3 (ipykernel)",
   "language": "python",
   "name": "python3"
  },
  "language_info": {
   "codemirror_mode": {
    "name": "ipython",
    "version": 3
   },
   "file_extension": ".py",
   "mimetype": "text/x-python",
   "name": "python",
   "nbconvert_exporter": "python",
   "pygments_lexer": "ipython3",
   "version": "3.12.3"
  }
 },
 "nbformat": 4,
 "nbformat_minor": 5
}
